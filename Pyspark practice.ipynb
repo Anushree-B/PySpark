{
 "cells": [
  {
   "cell_type": "markdown",
   "id": "67381f9a-5500-4460-96aa-98ec0787d622",
   "metadata": {},
   "source": [
    "## PRACTICE"
   ]
  },
  {
   "cell_type": "code",
   "execution_count": 2,
   "id": "8b067648-64bf-4471-9e61-c1495d5b4744",
   "metadata": {},
   "outputs": [
    {
     "name": "stdout",
     "output_type": "stream",
     "text": [
      "Requirement already satisfied: findspark in d:\\anaconda\\lib\\site-packages (2.0.1)\n",
      "Note: you may need to restart the kernel to use updated packages.\n"
     ]
    }
   ],
   "source": [
    "pip install findspark"
   ]
  },
  {
   "cell_type": "code",
   "execution_count": 3,
   "id": "272e5a4a-29d0-43a4-a101-89dfcfa776aa",
   "metadata": {},
   "outputs": [],
   "source": [
    "import findspark\n",
    "findspark.init()"
   ]
  },
  {
   "cell_type": "code",
   "execution_count": 4,
   "id": "4ec44f3c-fa01-4ea0-b701-adfb1e1ffedc",
   "metadata": {},
   "outputs": [],
   "source": [
    "import pyspark\n",
    "sc = pyspark.SparkContext(appName = \"practice\")"
   ]
  },
  {
   "cell_type": "code",
   "execution_count": 5,
   "id": "b95e6376-ea36-420f-aac5-837a43534e3b",
   "metadata": {},
   "outputs": [
    {
     "data": {
      "text/html": [
       "\n",
       "        <div>\n",
       "            <p><b>SparkContext</b></p>\n",
       "\n",
       "            <p><a href=\"http://LAPTOP-H3OG4VTR.lan:4040\">Spark UI</a></p>\n",
       "\n",
       "            <dl>\n",
       "              <dt>Version</dt>\n",
       "                <dd><code>v3.5.1</code></dd>\n",
       "              <dt>Master</dt>\n",
       "                <dd><code>local[*]</code></dd>\n",
       "              <dt>AppName</dt>\n",
       "                <dd><code>practice</code></dd>\n",
       "            </dl>\n",
       "        </div>\n",
       "        "
      ],
      "text/plain": [
       "<SparkContext master=local[*] appName=practice>"
      ]
     },
     "execution_count": 5,
     "metadata": {},
     "output_type": "execute_result"
    }
   ],
   "source": [
    "sc"
   ]
  },
  {
   "cell_type": "code",
   "execution_count": 6,
   "id": "3dcb8212-42f3-414f-aa36-82711ed45c9e",
   "metadata": {},
   "outputs": [],
   "source": [
    "from pyspark.sql import SparkSession\n",
    "from pyspark.sql.functions import *"
   ]
  },
  {
   "cell_type": "code",
   "execution_count": 7,
   "id": "4713345a-68e3-46f6-9ac6-9b9da844d8c2",
   "metadata": {},
   "outputs": [],
   "source": [
    "spark = SparkSession.builder.getOrCreate()"
   ]
  },
  {
   "cell_type": "markdown",
   "id": "5ecf980e-81fe-40f7-a31c-96141800beea",
   "metadata": {},
   "source": [
    "Consider daily product revenue data \r\n",
    "Product - product_id, pname, ptype, price\r\n",
    "\r\n",
    "Customer - cust_id, cname, mobileno, city\r\n",
    "\r\n",
    "orders – order_id, order_date, order_customer_id, order_status\r\n",
    "\r\n",
    "order_items –  order_item_order_id, order_item_product_id, order_item_quantity, \r\n",
    "order_item_sub- total\r\n",
    "\r\n",
    "\r\n",
    "Get details of all customers fro\n",
    "- m-  pune city\r\n",
    "Get details of orders with subtotal > ___ -\n",
    "- in month __\r\n",
    "Print orders in ascending order -\n",
    "- of subtotal \r\n",
    "Print customer details with min order and max - order amount\r\n",
    "\r\n",
    "Get orders which are either COM-\n",
    "- PLETE or CLOSED\r\n",
    "Get orders which are either COMPLETE or CLOSED and placed in mont-\n",
    "- h of 2013 August\r\n",
    "Get order items where order_item_subtotal is not equal to product of order_item_quantity and order_i-\n",
    "- tem_product_price\r\n",
    "Get all the orders which are placed on fi-\n",
    "- rst of every month\r\n",
    "Get count by-\n",
    "-  status from orders\r\n",
    "Get revenue for each order-\n",
    "-  id from order items\r\n",
    "Get daily product revenue (order_date and order_item_product_id are part of keys, order_item_subtotal is used for aggregation)\r\n",
    "\r\n"
   ]
  },
  {
   "cell_type": "code",
   "execution_count": 8,
   "id": "b25029bb-e895-40bb-9aa4-18dea9c4588f",
   "metadata": {},
   "outputs": [
    {
     "name": "stdout",
     "output_type": "stream",
     "text": [
      "+----------+-------+-------------+-----+\n",
      "|product_id|  pname|        ptype|price|\n",
      "+----------+-------+-------------+-----+\n",
      "|         1|   cups|kitchen items|   50|\n",
      "|         2| pencil|          art|   20|\n",
      "|         3| paints|          art|   70|\n",
      "|         4| spoons|kitchen items|   25|\n",
      "|         5|pillows|bedroom items|  100|\n",
      "|         6| mirror|bedroom items|  120|\n",
      "+----------+-------+-------------+-----+\n",
      "\n"
     ]
    }
   ],
   "source": [
    "# Product - product_id, pname, ptype, price\n",
    "\n",
    "product = [(1,\"cups\",\"kitchen items\",50),\n",
    "          (2,\"pencil\",\"art\",20),\n",
    "          (3,\"paints\",\"art\",70),\n",
    "          (4,\"spoons\",\"kitchen items\",25),\n",
    "          (5,\"pillows\",\"bedroom items\",100),\n",
    "          (6,\"mirror\",\"bedroom items\",120)]\n",
    "\n",
    "product_df = spark.createDataFrame(product,[\"product_id\",\"pname\",\"ptype\",\"price\"])\n",
    "product_df.show()"
   ]
  },
  {
   "cell_type": "code",
   "execution_count": 9,
   "id": "dbac3873-ecf7-403d-ae56-d7824cd236af",
   "metadata": {},
   "outputs": [
    {
     "name": "stdout",
     "output_type": "stream",
     "text": [
      "+-------+------+-----------+------+\n",
      "|cust_id| cname|   mobileno|  city|\n",
      "+-------+------+-----------+------+\n",
      "|     10|  Jack| 9876543213|  Pune|\n",
      "|     11|   Ria| 7865624351|Mumbai|\n",
      "|     12| radha| 9857654234|  Pune|\n",
      "|     13|janice| 6788736472|  Pune|\n",
      "|     14|   ray|78978967856|Mumbai|\n",
      "|     15|   adi| 9876789098|Mumbai|\n",
      "+-------+------+-----------+------+\n",
      "\n"
     ]
    }
   ],
   "source": [
    "# Customer - cust_id, cname, mobileno, city\n",
    "\n",
    "customer = [(10,\"Jack\",\"9876543213\",\"Pune\"),\n",
    "           (11,\"Ria\",\"7865624351\",\"Mumbai\"),\n",
    "           (12,\"radha\",\"9857654234\",\"Pune\"),\n",
    "           (13,\"janice\",\"6788736472\",\"Pune\"),\n",
    "           (14,\"ray\",\"78978967856\",\"Mumbai\"),\n",
    "           (15,\"adi\",\"9876789098\",\"Mumbai\")]\n",
    "\n",
    "customer_df = spark.createDataFrame(customer,[\"cust_id\",\"cname\",\"mobileno\",\"city\"])\n",
    "customer_df.show()"
   ]
  },
  {
   "cell_type": "code",
   "execution_count": 10,
   "id": "575317aa-a7aa-47d1-953d-f7b206b666fb",
   "metadata": {},
   "outputs": [
    {
     "name": "stdout",
     "output_type": "stream",
     "text": [
      "+--------+----------+-----------------+------------+\n",
      "|order_id|order_date|order_customer_id|order_status|\n",
      "+--------+----------+-----------------+------------+\n",
      "|     100|01-12-2024|               11|     Pending|\n",
      "|     101|12-11-2024|               13|    Complete|\n",
      "|     102|24-11-2024|               14|     Shipped|\n",
      "|     103|30-11-2024|               10|     Pending|\n",
      "|     104|23-11-2024|               10|    Complete|\n",
      "+--------+----------+-----------------+------------+\n",
      "\n"
     ]
    }
   ],
   "source": [
    "# orders – order_id, order_date, order_customer_id, order_status\n",
    "\n",
    "orders = [(100,\"01-12-2024\",11,\"Pending\"),\n",
    "         (101,\"12-11-2024\",13,\"Complete\"),\n",
    "         (102,\"24-11-2024\",14,\"Shipped\"),\n",
    "         (103,\"30-11-2024\",10,\"Pending\"),\n",
    "         (104,\"23-11-2024\",10,\"Complete\")]\n",
    "\n",
    "orders_df = spark.createDataFrame(orders,[\"order_id\",\"order_date\",\"order_customer_id\",\"order_status\"])\n",
    "orders_df.show()"
   ]
  },
  {
   "cell_type": "code",
   "execution_count": 11,
   "id": "45587238-5d26-4671-80c1-d153bdacaaf1",
   "metadata": {},
   "outputs": [
    {
     "name": "stdout",
     "output_type": "stream",
     "text": [
      "+-------------------+---------------------+-------------------+-------------------+\n",
      "|order_item_order_id|order_item_product_id|order_item_quantity|order_item_subtotal|\n",
      "+-------------------+---------------------+-------------------+-------------------+\n",
      "|                100|                    2|                  5|                250|\n",
      "|                101|                    4|                  5|                125|\n",
      "|                102|                    3|                  2|                140|\n",
      "|                103|                    4|                  3|                 75|\n",
      "|                104|                    5|                  5|                500|\n",
      "+-------------------+---------------------+-------------------+-------------------+\n",
      "\n"
     ]
    }
   ],
   "source": [
    "# order_items –  order_item_order_id, order_item_product_id, order_item_quantity, order_item_subtotal\n",
    "\n",
    "order_items = [(100,2,5,250),\n",
    "              (101,4,5,125),\n",
    "              (102,3,2,140),\n",
    "              (103,4,3,75),\n",
    "              (104,5,5,500)]\n",
    "\n",
    "order_items_df = spark.createDataFrame(order_items,[\"order_item_order_id\",\"order_item_product_id\",\"order_item_quantity\",\"order_item_subtotal\"])\n",
    "\n",
    "order_items_df.show()"
   ]
  },
  {
   "cell_type": "code",
   "execution_count": 12,
   "id": "31de64ce-d895-45d9-bda6-de356c9cd89e",
   "metadata": {},
   "outputs": [
    {
     "name": "stdout",
     "output_type": "stream",
     "text": [
      "+-------+------+----------+----+\n",
      "|cust_id| cname|  mobileno|city|\n",
      "+-------+------+----------+----+\n",
      "|     10|  Jack|9876543213|Pune|\n",
      "|     12| radha|9857654234|Pune|\n",
      "|     13|janice|6788736472|Pune|\n",
      "+-------+------+----------+----+\n",
      "\n"
     ]
    }
   ],
   "source": [
    "# Get details of all customers from pune city\n",
    "\n",
    "customer_df.where(customer_df[\"city\"]==\"Pune\").show()"
   ]
  },
  {
   "cell_type": "code",
   "execution_count": 13,
   "id": "0b75f69b-c4b0-4dde-a271-216dc590f284",
   "metadata": {},
   "outputs": [
    {
     "name": "stdout",
     "output_type": "stream",
     "text": [
      "+--------+----------+-----------------+------------+-------------------+---------------------+-------------------+-------------------+\n",
      "|order_id|order_date|order_customer_id|order_status|order_item_order_id|order_item_product_id|order_item_quantity|order_item_subtotal|\n",
      "+--------+----------+-----------------+------------+-------------------+---------------------+-------------------+-------------------+\n",
      "|     100|01-12-2024|               11|     Pending|                100|                    2|                  5|                250|\n",
      "|     101|12-11-2024|               13|    Complete|                101|                    4|                  5|                125|\n",
      "|     102|24-11-2024|               14|     Shipped|                102|                    3|                  2|                140|\n",
      "|     103|30-11-2024|               10|     Pending|                103|                    4|                  3|                 75|\n",
      "|     104|23-11-2024|               10|    Complete|                104|                    5|                  5|                500|\n",
      "+--------+----------+-----------------+------------+-------------------+---------------------+-------------------+-------------------+\n",
      "\n"
     ]
    }
   ],
   "source": [
    "# Get details of orders with subtotal > ___ in month __\n",
    "\n",
    "orders_join = orders_df.join(order_items_df,orders_df[\"order_id\"]==order_items_df[\"order_item_order_id\"])\n",
    "orders_join.show()"
   ]
  },
  {
   "cell_type": "code",
   "execution_count": 14,
   "id": "8b4ef938-05a8-4312-8ece-b248f7f0869a",
   "metadata": {},
   "outputs": [
    {
     "name": "stdout",
     "output_type": "stream",
     "text": [
      "+-------+------+-----------+------+--------+----------+-----------------+------------+-------------------+---------------------+-------------------+-------------------+\n",
      "|cust_id| cname|   mobileno|  city|order_id|order_date|order_customer_id|order_status|order_item_order_id|order_item_product_id|order_item_quantity|order_item_subtotal|\n",
      "+-------+------+-----------+------+--------+----------+-----------------+------------+-------------------+---------------------+-------------------+-------------------+\n",
      "|     10|  Jack| 9876543213|  Pune|     104|23-11-2024|               10|    Complete|                104|                    5|                  5|                500|\n",
      "|     10|  Jack| 9876543213|  Pune|     103|30-11-2024|               10|     Pending|                103|                    4|                  3|                 75|\n",
      "|     11|   Ria| 7865624351|Mumbai|     100|01-12-2024|               11|     Pending|                100|                    2|                  5|                250|\n",
      "|     13|janice| 6788736472|  Pune|     101|12-11-2024|               13|    Complete|                101|                    4|                  5|                125|\n",
      "|     14|   ray|78978967856|Mumbai|     102|24-11-2024|               14|     Shipped|                102|                    3|                  2|                140|\n",
      "+-------+------+-----------+------+--------+----------+-----------------+------------+-------------------+---------------------+-------------------+-------------------+\n",
      "\n"
     ]
    }
   ],
   "source": [
    "customer_orders_join = customer_df.join(orders_join,customer_df[\"cust_id\"] == orders_join[\"order_customer_id\"])\n",
    "customer_orders_join.show()"
   ]
  },
  {
   "cell_type": "code",
   "execution_count": 16,
   "id": "5b7e1ed3-4813-48aa-a7e8-b584401cabc3",
   "metadata": {},
   "outputs": [
    {
     "name": "stdout",
     "output_type": "stream",
     "text": [
      "+-------+------------------------+\n",
      "|cust_id|sum(order_item_subtotal)|\n",
      "+-------+------------------------+\n",
      "|     10|                     575|\n",
      "|     11|                     250|\n",
      "|     13|                     125|\n",
      "|     14|                     140|\n",
      "+-------+------------------------+\n",
      "\n"
     ]
    }
   ],
   "source": [
    "cust_agg = customer_orders_join.groupBy(\"cust_id\").agg(sum(\"order_item_subtotal\"))\n",
    "cust_agg.show()"
   ]
  },
  {
   "cell_type": "code",
   "execution_count": 18,
   "id": "674f70f3-47eb-4492-b062-05f73d1b981d",
   "metadata": {},
   "outputs": [
    {
     "name": "stdout",
     "output_type": "stream",
     "text": [
      "+-------+---+---+\n",
      "|cust_id|Min|Max|\n",
      "+-------+---+---+\n",
      "|     10| 75|500|\n",
      "|     11|250|250|\n",
      "|     13|125|125|\n",
      "|     14|140|140|\n",
      "+-------+---+---+\n",
      "\n"
     ]
    }
   ],
   "source": [
    "customer_orders_join.groupBy(\"cust_id\").agg(min(\"order_item_subtotal\").alias(\"Min\"), max(\"order_item_subtotal\").alias(\"Max\")).show()"
   ]
  },
  {
   "cell_type": "code",
   "execution_count": 26,
   "id": "f553324b-b74e-4d4d-88f8-dc12013df9f0",
   "metadata": {},
   "outputs": [
    {
     "name": "stdout",
     "output_type": "stream",
     "text": [
      "+--------+----------+-----------------+------------+-------------------+---------------------+-------------------+-------------------+\n",
      "|order_id|order_date|order_customer_id|order_status|order_item_order_id|order_item_product_id|order_item_quantity|order_item_subtotal|\n",
      "+--------+----------+-----------------+------------+-------------------+---------------------+-------------------+-------------------+\n",
      "|     102|24-11-2024|               14|     Shipped|                102|                    3|                  2|                140|\n",
      "|     104|23-11-2024|               10|    Complete|                104|                    5|                  5|                500|\n",
      "+--------+----------+-----------------+------------+-------------------+---------------------+-------------------+-------------------+\n",
      "\n"
     ]
    }
   ],
   "source": [
    "orders_join.filter(orders_join[\"order_date\"].contains(\"11\")).where(orders_join[\"order_item_subtotal\"]>130).show()"
   ]
  },
  {
   "cell_type": "code",
   "execution_count": 27,
   "id": "7adbf830-dcf6-4166-894b-20553aaf9354",
   "metadata": {},
   "outputs": [
    {
     "name": "stdout",
     "output_type": "stream",
     "text": [
      "+--------+----------+-----------------+------------+-------------------+---------------------+-------------------+-------------------+\n",
      "|order_id|order_date|order_customer_id|order_status|order_item_order_id|order_item_product_id|order_item_quantity|order_item_subtotal|\n",
      "+--------+----------+-----------------+------------+-------------------+---------------------+-------------------+-------------------+\n",
      "|     103|30-11-2024|               10|     Pending|                103|                    4|                  3|                 75|\n",
      "|     101|12-11-2024|               13|    Complete|                101|                    4|                  5|                125|\n",
      "|     102|24-11-2024|               14|     Shipped|                102|                    3|                  2|                140|\n",
      "|     100|01-12-2024|               11|     Pending|                100|                    2|                  5|                250|\n",
      "|     104|23-11-2024|               10|    Complete|                104|                    5|                  5|                500|\n",
      "+--------+----------+-----------------+------------+-------------------+---------------------+-------------------+-------------------+\n",
      "\n"
     ]
    }
   ],
   "source": [
    "# Print orders in ascending order of subtotal \n",
    "\n",
    "orders_join.orderBy(\"order_item_subtotal\").show()"
   ]
  },
  {
   "cell_type": "code",
   "execution_count": 29,
   "id": "5066baeb-0d20-4c3f-8d96-95120c9c57e0",
   "metadata": {},
   "outputs": [
    {
     "name": "stdout",
     "output_type": "stream",
     "text": [
      "+--------+----------+-----------------+------------+-------------------+---------------------+-------------------+-------------------+\n",
      "|order_id|order_date|order_customer_id|order_status|order_item_order_id|order_item_product_id|order_item_quantity|order_item_subtotal|\n",
      "+--------+----------+-----------------+------------+-------------------+---------------------+-------------------+-------------------+\n",
      "|     104|23-11-2024|               10|    Complete|                104|                    5|                  5|                500|\n",
      "|     100|01-12-2024|               11|     Pending|                100|                    2|                  5|                250|\n",
      "|     102|24-11-2024|               14|     Shipped|                102|                    3|                  2|                140|\n",
      "|     101|12-11-2024|               13|    Complete|                101|                    4|                  5|                125|\n",
      "|     103|30-11-2024|               10|     Pending|                103|                    4|                  3|                 75|\n",
      "+--------+----------+-----------------+------------+-------------------+---------------------+-------------------+-------------------+\n",
      "\n"
     ]
    }
   ],
   "source": [
    "# in desending\n",
    "\n",
    "orders_join.orderBy(desc(\"order_item_subtotal\")).show()"
   ]
  },
  {
   "cell_type": "code",
   "execution_count": 1,
   "id": "4e50eeb4-c1cc-4105-a4cf-31b03f66006f",
   "metadata": {},
   "outputs": [
    {
     "ename": "NameError",
     "evalue": "name 'customer_df' is not defined",
     "output_type": "error",
     "traceback": [
      "\u001b[1;31m---------------------------------------------------------------------------\u001b[0m",
      "\u001b[1;31mNameError\u001b[0m                                 Traceback (most recent call last)",
      "Cell \u001b[1;32mIn[1], line 3\u001b[0m\n\u001b[0;32m      1\u001b[0m \u001b[38;5;66;03m# Print customer details with min order and max order amount\u001b[39;00m\n\u001b[1;32m----> 3\u001b[0m customer_order \u001b[38;5;241m=\u001b[39m customer_df\u001b[38;5;241m.\u001b[39mjoin(orders_join, customer_df[\u001b[38;5;124m\"\u001b[39m\u001b[38;5;124mcust_id\u001b[39m\u001b[38;5;124m\"\u001b[39m] \u001b[38;5;241m==\u001b[39m orders_join[\u001b[38;5;124m\"\u001b[39m\u001b[38;5;124morder_customer_id\u001b[39m\u001b[38;5;124m\"\u001b[39m] )\n\u001b[0;32m      5\u001b[0m cust_order_agg \u001b[38;5;241m=\u001b[39m customer_order\u001b[38;5;241m.\u001b[39mgroupBy(\u001b[38;5;124m\"\u001b[39m\u001b[38;5;124morder_customer_id\u001b[39m\u001b[38;5;124m\"\u001b[39m)\u001b[38;5;241m.\u001b[39magg(\u001b[38;5;28msum\u001b[39m(\u001b[38;5;124m\"\u001b[39m\u001b[38;5;124morder_item_subtotal\u001b[39m\u001b[38;5;124m\"\u001b[39m)\u001b[38;5;241m.\u001b[39malias(\u001b[38;5;124m\"\u001b[39m\u001b[38;5;124mtotal_order_value\u001b[39m\u001b[38;5;124m\"\u001b[39m))\n\u001b[0;32m      7\u001b[0m cust_order_agg\u001b[38;5;241m.\u001b[39magg(\u001b[38;5;28mmin\u001b[39m(\u001b[38;5;124m\"\u001b[39m\u001b[38;5;124mtotal_order_value\u001b[39m\u001b[38;5;124m\"\u001b[39m)\u001b[38;5;241m.\u001b[39malias(\u001b[38;5;124m\"\u001b[39m\u001b[38;5;124mLil\u001b[39m\u001b[38;5;124m\"\u001b[39m), \u001b[38;5;28mmax\u001b[39m(\u001b[38;5;124m\"\u001b[39m\u001b[38;5;124mtotal_order_value\u001b[39m\u001b[38;5;124m\"\u001b[39m)\u001b[38;5;241m.\u001b[39malias(\u001b[38;5;124m\"\u001b[39m\u001b[38;5;124mBig\u001b[39m\u001b[38;5;124m\"\u001b[39m))\u001b[38;5;241m.\u001b[39mshow()\n",
      "\u001b[1;31mNameError\u001b[0m: name 'customer_df' is not defined"
     ]
    }
   ],
   "source": [
    "# Print customer details with min order and max order amount\n",
    "\n",
    "customer_order = customer_df.join(orders_join, customer_df[\"cust_id\"] == orders_join[\"order_customer_id\"] )\n",
    "\n",
    "cust_order_agg = customer_order.groupBy(\"order_customer_id\").agg(sum(\"order_item_subtotal\").alias(\"total_order_value\"))\n",
    "\n",
    "cust_order_agg.agg(min(\"total_order_value\").alias(\"Lil\"), max(\"total_order_value\").alias(\"Big\")).show()"
   ]
  },
  {
   "cell_type": "code",
   "execution_count": 41,
   "id": "f5b818c2-9212-4e07-9e94-ea0794629781",
   "metadata": {},
   "outputs": [
    {
     "name": "stdout",
     "output_type": "stream",
     "text": [
      "+-------+------+-----------+------+--------+----------+-----------------+------------+-------------------+---------------------+-------------------+-------------------+-----------------+-----------------+\n",
      "|cust_id| cname|   mobileno|  city|order_id|order_date|order_customer_id|order_status|order_item_order_id|order_item_product_id|order_item_quantity|order_item_subtotal|order_customer_id|total_order_value|\n",
      "+-------+------+-----------+------+--------+----------+-----------------+------------+-------------------+---------------------+-------------------+-------------------+-----------------+-----------------+\n",
      "|     10|  Jack| 9876543213|  Pune|     104|23-11-2024|               10|    Complete|                104|                    5|                  5|                500|               10|              575|\n",
      "|     10|  Jack| 9876543213|  Pune|     103|30-11-2024|               10|     Pending|                103|                    4|                  3|                 75|               10|              575|\n",
      "|     11|   Ria| 7865624351|Mumbai|     100|01-12-2024|               11|     Pending|                100|                    2|                  5|                250|               11|              250|\n",
      "|     13|janice| 6788736472|  Pune|     101|12-11-2024|               13|    Complete|                101|                    4|                  5|                125|               13|              125|\n",
      "|     14|   ray|78978967856|Mumbai|     102|24-11-2024|               14|     Shipped|                102|                    3|                  2|                140|               14|              140|\n",
      "+-------+------+-----------+------+--------+----------+-----------------+------------+-------------------+---------------------+-------------------+-------------------+-----------------+-----------------+\n",
      "\n"
     ]
    }
   ],
   "source": [
    "customer_details = customer_order.join(cust_order_agg, customer_order.cust_id == cust_order_agg.order_customer_id)\n",
    "customer_details.show()"
   ]
  },
  {
   "cell_type": "code",
   "execution_count": 45,
   "id": "87841c67-f1ac-444a-aec1-d7327a07200f",
   "metadata": {},
   "outputs": [
    {
     "name": "stdout",
     "output_type": "stream",
     "text": [
      "+--------+----------+-----------------+------------+\n",
      "|order_id|order_date|order_customer_id|order_status|\n",
      "+--------+----------+-----------------+------------+\n",
      "|     100|01-12-2024|               11|     Pending|\n",
      "|     101|12-11-2024|               13|    Complete|\n",
      "|     103|30-11-2024|               10|     Pending|\n",
      "|     104|23-11-2024|               10|    Complete|\n",
      "+--------+----------+-----------------+------------+\n",
      "\n"
     ]
    }
   ],
   "source": [
    "# Get orders which are either COMPLETE or CLOSED and in dec 2024\n",
    "\n",
    "orders_df.filter((orders_df.order_status == \"Pending\")|(orders_df.order_status == \"Complete\")).show()"
   ]
  },
  {
   "cell_type": "code",
   "execution_count": 58,
   "id": "f9a705fc-be0f-495b-bbb7-d062027fff09",
   "metadata": {},
   "outputs": [
    {
     "name": "stdout",
     "output_type": "stream",
     "text": [
      "+--------+----------+-----------------+------------+\n",
      "|order_id|order_date|order_customer_id|order_status|\n",
      "+--------+----------+-----------------+------------+\n",
      "|     100|01-12-2024|               11|     Pending|\n",
      "+--------+----------+-----------------+------------+\n",
      "\n"
     ]
    }
   ],
   "source": [
    "orders_df.filter(((orders_df.order_status == \"Pending\")|(orders_df.order_status == \"Complete\")) & (orders_df[\"order_date\"].like(\"%%-12-2024\"))).show()"
   ]
  },
  {
   "cell_type": "code",
   "execution_count": 56,
   "id": "23aa1cb3-fe86-4d7a-9e99-317d7b4711a0",
   "metadata": {},
   "outputs": [
    {
     "ename": "TypeError",
     "evalue": "'Column' object is not callable",
     "output_type": "error",
     "traceback": [
      "\u001b[1;31m---------------------------------------------------------------------------\u001b[0m",
      "\u001b[1;31mTypeError\u001b[0m                                 Traceback (most recent call last)",
      "Cell \u001b[1;32mIn[56], line 1\u001b[0m\n\u001b[1;32m----> 1\u001b[0m orders_df\u001b[38;5;241m.\u001b[39mfilter((orders_df\u001b[38;5;241m.\u001b[39morder_status \u001b[38;5;241m==\u001b[39m \u001b[38;5;124m\"\u001b[39m\u001b[38;5;124mPending\u001b[39m\u001b[38;5;124m\"\u001b[39m)\u001b[38;5;241m|\u001b[39m(orders_df\u001b[38;5;241m.\u001b[39morder_status \u001b[38;5;241m==\u001b[39m \u001b[38;5;124m\"\u001b[39m\u001b[38;5;124mComplete\u001b[39m\u001b[38;5;124m\"\u001b[39m)\u001b[38;5;241m.\u001b[39mwhere(orders_df[\u001b[38;5;124m\"\u001b[39m\u001b[38;5;124morder_date\u001b[39m\u001b[38;5;124m\"\u001b[39m]\u001b[38;5;241m.\u001b[39mcontains(\u001b[38;5;124m\"\u001b[39m\u001b[38;5;124m%\u001b[39m\u001b[38;5;124m-12-2024\u001b[39m\u001b[38;5;124m\"\u001b[39m)))\u001b[38;5;241m.\u001b[39mshow()\n",
      "\u001b[1;31mTypeError\u001b[0m: 'Column' object is not callable"
     ]
    }
   ],
   "source": [
    "orders_df.filter((orders_df.order_status == \"Pending\")|(orders_df.order_status == \"Complete\").where(orders_df[\"order_date\"].contains(\"%-12-2024\"))).show()"
   ]
  },
  {
   "cell_type": "code",
   "execution_count": 19,
   "id": "27eddce4-c08a-4d9d-9b90-9f6c8644a289",
   "metadata": {},
   "outputs": [
    {
     "name": "stdout",
     "output_type": "stream",
     "text": [
      "+---------+---------+--------------------+--------+----------------+---------+----------+--------------+\n",
      "|InvoiceNo|StockCode|         Description|Quantity|     InvoiceDate|UnitPrice|CustomerID|       Country|\n",
      "+---------+---------+--------------------+--------+----------------+---------+----------+--------------+\n",
      "|   536365|   85123A|WHITE HANGING HEA...|       6|12-01-2010 08:26|     2.55|     17850|United Kingdom|\n",
      "|   536365|    71053| WHITE METAL LANTERN|       6|12-01-2010 08:26|     3.39|     17850|United Kingdom|\n",
      "|   536365|   84406B|CREAM CUPID HEART...|       8|12-01-2010 08:26|     2.75|     17850|United Kingdom|\n",
      "|   536365|   84029G|KNITTED UNION FLA...|       6|12-01-2010 08:26|     3.39|     17850|United Kingdom|\n",
      "|   536365|   84029E|RED WOOLLY HOTTIE...|       6|12-01-2010 08:26|     3.39|     17850|United Kingdom|\n",
      "+---------+---------+--------------------+--------+----------------+---------+----------+--------------+\n",
      "only showing top 5 rows\n",
      "\n"
     ]
    }
   ],
   "source": [
    "# 2nd assignment\n",
    "\n",
    "df = spark.read.csv(\"ecommerce_data.csv\",header = \"True\")\n",
    "df.show(5)"
   ]
  },
  {
   "cell_type": "code",
   "execution_count": 21,
   "id": "bf71f8b2-d9bc-4f1b-b1de-42bbba2e36f9",
   "metadata": {},
   "outputs": [
    {
     "name": "stdout",
     "output_type": "stream",
     "text": [
      "+---------+---------+--------------------+--------+-----------+---------+----------+--------------+\n",
      "|InvoiceNo|StockCode|         Description|Quantity|Invoicedate|UnitPrice|CustomerID|       Country|\n",
      "+---------+---------+--------------------+--------+-----------+---------+----------+--------------+\n",
      "|   536365|   85123A|WHITE HANGING HEA...|       6| 2010-01-12|     2.55|     17850|United Kingdom|\n",
      "|   536365|    71053| WHITE METAL LANTERN|       6| 2010-01-12|     3.39|     17850|United Kingdom|\n",
      "|   536365|   84406B|CREAM CUPID HEART...|       8| 2010-01-12|     2.75|     17850|United Kingdom|\n",
      "|   536365|   84029G|KNITTED UNION FLA...|       6| 2010-01-12|     3.39|     17850|United Kingdom|\n",
      "|   536365|   84029E|RED WOOLLY HOTTIE...|       6| 2010-01-12|     3.39|     17850|United Kingdom|\n",
      "+---------+---------+--------------------+--------+-----------+---------+----------+--------------+\n",
      "only showing top 5 rows\n",
      "\n"
     ]
    }
   ],
   "source": [
    "df = df.withColumn(\"Invoicedate\",to_date(df[\"InvoiceDate\"],\"dd-MM-yyy HH:mm\"))\n",
    "df.show(5)"
   ]
  },
  {
   "cell_type": "code",
   "execution_count": 23,
   "id": "24b75bc8-7079-4d86-8c6a-0ee960756048",
   "metadata": {},
   "outputs": [
    {
     "name": "stdout",
     "output_type": "stream",
     "text": [
      "+---------+---------+--------------------+--------+-----------+---------+----------+--------------+\n",
      "|InvoiceNo|StockCode|         Description|Quantity|Invoicedate|UnitPrice|CustomerID|       Country|\n",
      "+---------+---------+--------------------+--------+-----------+---------+----------+--------------+\n",
      "|   536366|    22633|HAND WARMER UNION...|       6| 2010-01-12|     1.85|     17850|United Kingdom|\n",
      "|   536367|    84879|ASSORTED COLOUR B...|      32| 2010-01-12|     1.69|     13047|United Kingdom|\n",
      "|   536371|    22086|PAPER CHAIN KIT 5...|      80| 2010-01-12|     2.55|     13748|United Kingdom|\n",
      "|   536374|    21258|VICTORIAN SEWING ...|      32| 2010-01-12|    10.95|     15100|United Kingdom|\n",
      "|   536375|   85123A|WHITE HANGING HEA...|       6| 2010-01-12|     2.55|     17850|United Kingdom|\n",
      "|   536377|    22632|HAND WARMER RED P...|       6| 2010-01-12|     1.85|     17850|United Kingdom|\n",
      "|   536384|    82484|WOOD BLACK BOARD ...|       3| 2010-01-12|     6.45|     18074|United Kingdom|\n",
      "|   536385|    22783|SET 3 WICKER OVAL...|       1| 2010-01-12|    19.95|     17420|United Kingdom|\n",
      "|   536386|    84880|WHITE WIRE EGG HO...|      36| 2010-01-12|     4.95|     16029|United Kingdom|\n",
      "|   536387|    79321|       CHILLI LIGHTS|     192| 2010-01-12|     3.82|     16029|United Kingdom|\n",
      "|   536389|    22941|CHRISTMAS LIGHTS ...|       6| 2010-01-12|      8.5|     12431|     Australia|\n",
      "|   536395|    22188|BLACK HEART CARD ...|       8| 2010-01-12|     3.95|     13767|United Kingdom|\n",
      "|   536396|   85123A|WHITE HANGING HEA...|       6| 2010-01-12|     2.55|     17850|United Kingdom|\n",
      "|   536398|    21980|PACK OF 12 RED RE...|      24| 2010-01-12|     0.29|     13448|United Kingdom|\n",
      "|   536399|    22632|HAND WARMER RED P...|       6| 2010-01-12|     1.85|     17850|United Kingdom|\n",
      "|   536403|    22867|HAND WARMER BIRD ...|      96| 2010-01-12|     1.85|     12791|   Netherlands|\n",
      "|   536404|    22297|HEART IVORY TRELL...|      24| 2010-01-12|     1.25|     16218|United Kingdom|\n",
      "|   536407|    22632|HAND WARMER RED P...|       6| 2010-01-12|     1.85|     17850|United Kingdom|\n",
      "|   536412|    20728| LUNCH BAG CARS BLUE|       3| 2010-01-12|     1.65|     17920|United Kingdom|\n",
      "|   536414|    22139|                NULL|      56| 2010-01-12|        0|      NULL|United Kingdom|\n",
      "+---------+---------+--------------------+--------+-----------+---------+----------+--------------+\n",
      "only showing top 20 rows\n",
      "\n"
     ]
    }
   ],
   "source": [
    "df.dropDuplicates([\"InvoiceNo\"]).show()"
   ]
  },
  {
   "cell_type": "code",
   "execution_count": 24,
   "id": "7e4bd1b1-2cc7-4286-aaba-7c65d023008e",
   "metadata": {},
   "outputs": [
    {
     "name": "stdout",
     "output_type": "stream",
     "text": [
      "+---------+---------+--------------------+--------+-----------+---------+----------+--------------+\n",
      "|InvoiceNo|StockCode|         Description|Quantity|Invoicedate|UnitPrice|CustomerID|       Country|\n",
      "+---------+---------+--------------------+--------+-----------+---------+----------+--------------+\n",
      "|   536387|    79321|       CHILLI LIGHTS|     192| 2010-01-12|     3.82|     16029|United Kingdom|\n",
      "|   536387|    22780|LIGHT GARLAND BUT...|     192| 2010-01-12|     3.37|     16029|United Kingdom|\n",
      "|   536387|    22779|WOODEN OWLS LIGHT...|     192| 2010-01-12|     3.37|     16029|United Kingdom|\n",
      "|   536387|    22466|FAIRY TALE COTTAG...|     432| 2010-01-12|     1.45|     16029|United Kingdom|\n",
      "|   536387|    21731|RED TOADSTOOL LED...|     432| 2010-01-12|     1.25|     16029|United Kingdom|\n",
      "|   536390|    20668|DISCO BALL CHRIST...|     288| 2010-01-12|      0.1|     17511|United Kingdom|\n",
      "|   536437|    21154|RED RETROSPOT OVE...|     200| 2010-01-12|     1.06|     13694|United Kingdom|\n",
      "|   536437|    17021|NAMASTE SWAGAT IN...|     600| 2010-01-12|     0.24|     13694|United Kingdom|\n",
      "|   536477|    21137|BLACK RECORD COVE...|     480| 2010-01-12|     3.39|     16210|United Kingdom|\n",
      "|   536575|    22095|LADS ONLY TISSUE BOX|     252| 2010-01-12|     1.25|     13777|United Kingdom|\n",
      "|   536579|    21232|STRAWBERRY CERAMI...|     216| 2010-01-12|     1.06|     13777|United Kingdom|\n",
      "|   536581|   85099B|JUMBO BAG RED RET...|     200| 2010-01-12|     1.65|     13777|United Kingdom|\n",
      "|   536584|   84029E|RED WOOLLY HOTTIE...|     384| 2010-01-12|     2.95|     13777|United Kingdom|\n",
      "|   536736|    21703|BAG 125g SWIRLY M...|     192| 2010-02-12|     0.42|     17381|United Kingdom|\n",
      "|   536736|    21791|VINTAGE HEADS AND...|     216| 2010-02-12|     1.06|     17381|United Kingdom|\n",
      "|   536736|    22616|PACK OF 12 LONDON...|     600| 2010-02-12|     0.29|     17381|United Kingdom|\n",
      "|   536783|    21499|  BLUE POLKADOT WRAP|     200| 2010-02-12|     0.34|     15061|United Kingdom|\n",
      "|   536783|    21498| RED RETROSPOT WRAP |     200| 2010-02-12|     0.34|     15061|United Kingdom|\n",
      "|   536783|    16237|SLEEPING CAT ERASERS|     270| 2010-02-12|     0.16|     15061|United Kingdom|\n",
      "|   536784|    84347|ROTATING SILVER A...|     240| 2010-02-12|     1.88|     15061|United Kingdom|\n",
      "+---------+---------+--------------------+--------+-----------+---------+----------+--------------+\n",
      "only showing top 20 rows\n",
      "\n"
     ]
    }
   ],
   "source": [
    "df.createOrReplaceTempView(\"temp_sale\")\n",
    "spark.sql(\"SELECT * from temp_sale WHERE Quantity > 150\").show()"
   ]
  },
  {
   "cell_type": "code",
   "execution_count": 26,
   "id": "5280be1e-198c-4404-948e-7ee95af14732",
   "metadata": {},
   "outputs": [
    {
     "data": {
      "text/plain": [
       "541909"
      ]
     },
     "execution_count": 26,
     "metadata": {},
     "output_type": "execute_result"
    }
   ],
   "source": [
    "df.count()"
   ]
  },
  {
   "cell_type": "code",
   "execution_count": 27,
   "id": "8947fe84-1a7e-4421-b63c-287e3bf42fae",
   "metadata": {},
   "outputs": [
    {
     "name": "stdout",
     "output_type": "stream",
     "text": [
      "+---------------+-----+\n",
      "|        Country|count|\n",
      "+---------------+-----+\n",
      "|         Sweden|  462|\n",
      "|      Singapore|  229|\n",
      "|        Germany| 9495|\n",
      "|         France| 8557|\n",
      "|         Greece|  146|\n",
      "|        Belgium| 2069|\n",
      "|        Finland|  695|\n",
      "|          Italy|  803|\n",
      "|           EIRE| 8196|\n",
      "|      Lithuania|   35|\n",
      "|         Norway| 1086|\n",
      "|          Spain| 2533|\n",
      "|        Denmark|  389|\n",
      "|      Hong Kong|  288|\n",
      "|        Iceland|  182|\n",
      "|         Israel|  297|\n",
      "|Channel Islands|  758|\n",
      "|         Cyprus|  622|\n",
      "|    Switzerland| 2002|\n",
      "|        Lebanon|   45|\n",
      "+---------------+-----+\n",
      "only showing top 20 rows\n",
      "\n"
     ]
    }
   ],
   "source": [
    "df.groupBy(\"Country\").count().show()"
   ]
  },
  {
   "cell_type": "code",
   "execution_count": 29,
   "id": "be8425d2-9772-4709-8607-bd97074248e2",
   "metadata": {},
   "outputs": [
    {
     "data": {
      "text/plain": [
       "['InvoiceNo',\n",
       " 'StockCode',\n",
       " 'Description',\n",
       " 'Quantity',\n",
       " 'Invoicedate',\n",
       " 'UnitPrice',\n",
       " 'CustomerID',\n",
       " 'Country']"
      ]
     },
     "execution_count": 29,
     "metadata": {},
     "output_type": "execute_result"
    }
   ],
   "source": [
    "df.columns"
   ]
  },
  {
   "cell_type": "code",
   "execution_count": 37,
   "id": "6781c60c-bdeb-4c77-8539-41c0d1dbb936",
   "metadata": {},
   "outputs": [],
   "source": [
    "df = df.withColumn(\"Quantity\", col(\"Quantity\").cast(\"float\"))"
   ]
  },
  {
   "cell_type": "code",
   "execution_count": 38,
   "id": "bc2d109f-1aa2-4e0a-ad39-908b40ac1153",
   "metadata": {},
   "outputs": [],
   "source": [
    "df = df.withColumn(\"UnitPrice\", col(\"UnitPrice\").cast(\"float\"))"
   ]
  },
  {
   "cell_type": "code",
   "execution_count": 39,
   "id": "0be7a82f-c720-404c-9944-dcbfbff04c96",
   "metadata": {},
   "outputs": [
    {
     "name": "stdout",
     "output_type": "stream",
     "text": [
      "+---------+---------+--------------------+--------+-----------+---------+----------+--------------+--------------------+\n",
      "|InvoiceNo|StockCode|         Description|Quantity|Invoicedate|UnitPrice|CustomerID|       Country|              vector|\n",
      "+---------+---------+--------------------+--------+-----------+---------+----------+--------------+--------------------+\n",
      "|   536365|   85123A|WHITE HANGING HEA...|     6.0| 2010-01-12|     2.55|     17850|United Kingdom|[6.0,2.5499999523...|\n",
      "|   536365|    71053| WHITE METAL LANTERN|     6.0| 2010-01-12|     3.39|     17850|United Kingdom|[6.0,3.3900001049...|\n",
      "|   536365|   84406B|CREAM CUPID HEART...|     8.0| 2010-01-12|     2.75|     17850|United Kingdom|          [8.0,2.75]|\n",
      "|   536365|   84029G|KNITTED UNION FLA...|     6.0| 2010-01-12|     3.39|     17850|United Kingdom|[6.0,3.3900001049...|\n",
      "|   536365|   84029E|RED WOOLLY HOTTIE...|     6.0| 2010-01-12|     3.39|     17850|United Kingdom|[6.0,3.3900001049...|\n",
      "|   536365|    22752|SET 7 BABUSHKA NE...|     2.0| 2010-01-12|     7.65|     17850|United Kingdom|[2.0,7.6500000953...|\n",
      "|   536365|    21730|GLASS STAR FROSTE...|     6.0| 2010-01-12|     4.25|     17850|United Kingdom|          [6.0,4.25]|\n",
      "|   536366|    22633|HAND WARMER UNION...|     6.0| 2010-01-12|     1.85|     17850|United Kingdom|[6.0,1.8500000238...|\n",
      "|   536366|    22632|HAND WARMER RED P...|     6.0| 2010-01-12|     1.85|     17850|United Kingdom|[6.0,1.8500000238...|\n",
      "|   536367|    84879|ASSORTED COLOUR B...|    32.0| 2010-01-12|     1.69|     13047|United Kingdom|[32.0,1.690000057...|\n",
      "|   536367|    22745|POPPY'S PLAYHOUSE...|     6.0| 2010-01-12|      2.1|     13047|United Kingdom|[6.0,2.0999999046...|\n",
      "|   536367|    22748|POPPY'S PLAYHOUSE...|     6.0| 2010-01-12|      2.1|     13047|United Kingdom|[6.0,2.0999999046...|\n",
      "|   536367|    22749|FELTCRAFT PRINCES...|     8.0| 2010-01-12|     3.75|     13047|United Kingdom|          [8.0,3.75]|\n",
      "|   536367|    22310|IVORY KNITTED MUG...|     6.0| 2010-01-12|     1.65|     13047|United Kingdom|[6.0,1.6499999761...|\n",
      "|   536367|    84969|BOX OF 6 ASSORTED...|     6.0| 2010-01-12|     4.25|     13047|United Kingdom|          [6.0,4.25]|\n",
      "|   536367|    22623|BOX OF VINTAGE JI...|     3.0| 2010-01-12|     4.95|     13047|United Kingdom|[3.0,4.9499998092...|\n",
      "|   536367|    22622|BOX OF VINTAGE AL...|     2.0| 2010-01-12|     9.95|     13047|United Kingdom|[2.0,9.9499998092...|\n",
      "|   536367|    21754|HOME BUILDING BLO...|     3.0| 2010-01-12|     5.95|     13047|United Kingdom|[3.0,5.9499998092...|\n",
      "|   536367|    21755|LOVE BUILDING BLO...|     3.0| 2010-01-12|     5.95|     13047|United Kingdom|[3.0,5.9499998092...|\n",
      "|   536367|    21777|RECIPE BOX WITH M...|     4.0| 2010-01-12|     7.95|     13047|United Kingdom|[4.0,7.9499998092...|\n",
      "+---------+---------+--------------------+--------+-----------+---------+----------+--------------+--------------------+\n",
      "only showing top 20 rows\n",
      "\n"
     ]
    }
   ],
   "source": [
    "from pyspark.ml.feature import MinMaxScaler, VectorAssembler\n",
    "\n",
    "assembler = VectorAssembler(inputCols = [\"Quantity\",\"UnitPrice\"], outputCol = \"vector\")\n",
    "df_vec = assembler.transform(df)\n",
    "df_vec.show()"
   ]
  },
  {
   "cell_type": "code",
   "execution_count": 40,
   "id": "0f2a63c0-801d-4f64-80d9-7a154ce289dc",
   "metadata": {},
   "outputs": [],
   "source": [
    "scaler = MinMaxScaler(inputCol = \"vector\", outputCol = \"ScaledVector\")\n",
    "df_scaled = scaler.fit(df_vec).transform(df_vec)"
   ]
  },
  {
   "cell_type": "code",
   "execution_count": 42,
   "id": "5619a549-f3bd-41a9-b66d-24d5ed251fd1",
   "metadata": {},
   "outputs": [
    {
     "name": "stdout",
     "output_type": "stream",
     "text": [
      "+---------+---------+--------------------+--------+-----------+---------+----------+--------------+--------------------+--------------------+\n",
      "|InvoiceNo|StockCode|         Description|Quantity|Invoicedate|UnitPrice|CustomerID|       Country|              vector|        ScaledVector|\n",
      "+---------+---------+--------------------+--------+-----------+---------+----------+--------------+--------------------+--------------------+\n",
      "|   536365|   85123A|WHITE HANGING HEA...|     6.0| 2010-01-12|     2.55|     17850|United Kingdom|[6.0,2.5499999523...|[0.50003703932341...|\n",
      "|   536365|    71053| WHITE METAL LANTERN|     6.0| 2010-01-12|     3.39|     17850|United Kingdom|[6.0,3.3900001049...|[0.50003703932341...|\n",
      "|   536365|   84406B|CREAM CUPID HEART...|     8.0| 2010-01-12|     2.75|     17850|United Kingdom|          [8.0,2.75]|[0.50004938576455...|\n",
      "|   536365|   84029G|KNITTED UNION FLA...|     6.0| 2010-01-12|     3.39|     17850|United Kingdom|[6.0,3.3900001049...|[0.50003703932341...|\n",
      "|   536365|   84029E|RED WOOLLY HOTTIE...|     6.0| 2010-01-12|     3.39|     17850|United Kingdom|[6.0,3.3900001049...|[0.50003703932341...|\n",
      "|   536365|    22752|SET 7 BABUSHKA NE...|     2.0| 2010-01-12|     7.65|     17850|United Kingdom|[2.0,7.6500000953...|[0.50001234644113...|\n",
      "|   536365|    21730|GLASS STAR FROSTE...|     6.0| 2010-01-12|     4.25|     17850|United Kingdom|          [6.0,4.25]|[0.50003703932341...|\n",
      "|   536366|    22633|HAND WARMER UNION...|     6.0| 2010-01-12|     1.85|     17850|United Kingdom|[6.0,1.8500000238...|[0.50003703932341...|\n",
      "|   536366|    22632|HAND WARMER RED P...|     6.0| 2010-01-12|     1.85|     17850|United Kingdom|[6.0,1.8500000238...|[0.50003703932341...|\n",
      "|   536367|    84879|ASSORTED COLOUR B...|    32.0| 2010-01-12|     1.69|     13047|United Kingdom|[32.0,1.690000057...|[0.50019754305821...|\n",
      "|   536367|    22745|POPPY'S PLAYHOUSE...|     6.0| 2010-01-12|      2.1|     13047|United Kingdom|[6.0,2.0999999046...|[0.50003703932341...|\n",
      "|   536367|    22748|POPPY'S PLAYHOUSE...|     6.0| 2010-01-12|      2.1|     13047|United Kingdom|[6.0,2.0999999046...|[0.50003703932341...|\n",
      "|   536367|    22749|FELTCRAFT PRINCES...|     8.0| 2010-01-12|     3.75|     13047|United Kingdom|          [8.0,3.75]|[0.50004938576455...|\n",
      "|   536367|    22310|IVORY KNITTED MUG...|     6.0| 2010-01-12|     1.65|     13047|United Kingdom|[6.0,1.6499999761...|[0.50003703932341...|\n",
      "|   536367|    84969|BOX OF 6 ASSORTED...|     6.0| 2010-01-12|     4.25|     13047|United Kingdom|          [6.0,4.25]|[0.50003703932341...|\n",
      "|   536367|    22623|BOX OF VINTAGE JI...|     3.0| 2010-01-12|     4.95|     13047|United Kingdom|[3.0,4.9499998092...|[0.50001851966170...|\n",
      "|   536367|    22622|BOX OF VINTAGE AL...|     2.0| 2010-01-12|     9.95|     13047|United Kingdom|[2.0,9.9499998092...|[0.50001234644113...|\n",
      "|   536367|    21754|HOME BUILDING BLO...|     3.0| 2010-01-12|     5.95|     13047|United Kingdom|[3.0,5.9499998092...|[0.50001851966170...|\n",
      "|   536367|    21755|LOVE BUILDING BLO...|     3.0| 2010-01-12|     5.95|     13047|United Kingdom|[3.0,5.9499998092...|[0.50001851966170...|\n",
      "|   536367|    21777|RECIPE BOX WITH M...|     4.0| 2010-01-12|     7.95|     13047|United Kingdom|[4.0,7.9499998092...|[0.50002469288227...|\n",
      "+---------+---------+--------------------+--------+-----------+---------+----------+--------------+--------------------+--------------------+\n",
      "only showing top 20 rows\n",
      "\n"
     ]
    }
   ],
   "source": [
    "df_scaled.show()"
   ]
  },
  {
   "cell_type": "code",
   "execution_count": 44,
   "id": "e8ee84c7-f2be-409a-a541-b223e6f610a6",
   "metadata": {},
   "outputs": [],
   "source": [
    "from pyspark.ml.feature import StringIndexer, OneHotEncoder"
   ]
  },
  {
   "cell_type": "code",
   "execution_count": 47,
   "id": "0d309558-6b71-4fec-a699-f126776b676d",
   "metadata": {},
   "outputs": [
    {
     "name": "stdout",
     "output_type": "stream",
     "text": [
      "+-----------+\n",
      "|Country_ind|\n",
      "+-----------+\n",
      "|        0.0|\n",
      "|        0.0|\n",
      "|        0.0|\n",
      "|        0.0|\n",
      "|        0.0|\n",
      "|        0.0|\n",
      "|        0.0|\n",
      "|        0.0|\n",
      "|        0.0|\n",
      "|        0.0|\n",
      "|        0.0|\n",
      "|        0.0|\n",
      "|        0.0|\n",
      "|        0.0|\n",
      "|        0.0|\n",
      "|        0.0|\n",
      "|        0.0|\n",
      "|        0.0|\n",
      "|        0.0|\n",
      "|        0.0|\n",
      "+-----------+\n",
      "only showing top 20 rows\n",
      "\n"
     ]
    }
   ],
   "source": [
    "index = StringIndexer(inputCol = \"Country\", outputCol = \"Country_ind\")\n",
    "df_ind = index.fit(df).transform(df)\n",
    "df_ind.select(\"Country_ind\").show()"
   ]
  },
  {
   "cell_type": "code",
   "execution_count": 48,
   "id": "44b17895-6353-4f27-aefa-2729fe2a63b9",
   "metadata": {},
   "outputs": [
    {
     "name": "stdout",
     "output_type": "stream",
     "text": [
      "+-----------+--------------+\n",
      "|Country_ind|   COuntry_enc|\n",
      "+-----------+--------------+\n",
      "|        0.0|(37,[0],[1.0])|\n",
      "|        0.0|(37,[0],[1.0])|\n",
      "|        0.0|(37,[0],[1.0])|\n",
      "|        0.0|(37,[0],[1.0])|\n",
      "|        0.0|(37,[0],[1.0])|\n",
      "|        0.0|(37,[0],[1.0])|\n",
      "|        0.0|(37,[0],[1.0])|\n",
      "|        0.0|(37,[0],[1.0])|\n",
      "|        0.0|(37,[0],[1.0])|\n",
      "|        0.0|(37,[0],[1.0])|\n",
      "|        0.0|(37,[0],[1.0])|\n",
      "|        0.0|(37,[0],[1.0])|\n",
      "|        0.0|(37,[0],[1.0])|\n",
      "|        0.0|(37,[0],[1.0])|\n",
      "|        0.0|(37,[0],[1.0])|\n",
      "|        0.0|(37,[0],[1.0])|\n",
      "|        0.0|(37,[0],[1.0])|\n",
      "|        0.0|(37,[0],[1.0])|\n",
      "|        0.0|(37,[0],[1.0])|\n",
      "|        0.0|(37,[0],[1.0])|\n",
      "+-----------+--------------+\n",
      "only showing top 20 rows\n",
      "\n"
     ]
    }
   ],
   "source": [
    "encoder = OneHotEncoder(inputCol = \"Country_ind\", outputCol = \"Country_enc\")\n",
    "df_enc = encoder.fit(df_ind).transform(df_ind)\n",
    "df_enc.select([\"Country_ind\",\"Country_enc\"]).show()"
   ]
  },
  {
   "cell_type": "code",
   "execution_count": 53,
   "id": "9f008c8d-512b-4150-8ad0-a0f39d9dec6d",
   "metadata": {},
   "outputs": [
    {
     "name": "stdout",
     "output_type": "stream",
     "text": [
      "+-----------+-----------+\n",
      "|Country_ind|Country_enc|\n",
      "+-----------+-----------+\n",
      "|       37.0| (37,[],[])|\n",
      "|       37.0| (37,[],[])|\n",
      "|       37.0| (37,[],[])|\n",
      "|       37.0| (37,[],[])|\n",
      "|       37.0| (37,[],[])|\n",
      "|       37.0| (37,[],[])|\n",
      "|       37.0| (37,[],[])|\n",
      "|       37.0| (37,[],[])|\n",
      "|       37.0| (37,[],[])|\n",
      "|       37.0| (37,[],[])|\n",
      "+-----------+-----------+\n",
      "\n"
     ]
    }
   ],
   "source": [
    "df_enc.select([\"Country_ind\",\"Country_enc\"]).where(df_enc[\"Country_ind\"]==37.0).show()"
   ]
  },
  {
   "cell_type": "code",
   "execution_count": 54,
   "id": "54e614c1-b410-4fb1-a2dc-9cc933103b7e",
   "metadata": {},
   "outputs": [
    {
     "name": "stdout",
     "output_type": "stream",
     "text": [
      "+--------+----+--------+---------+-------+--------+---------+--------+---------------+---------------+-------+--------+----------------+\n",
      "|   price|area|bedrooms|bathrooms|stories|mainroad|guestroom|basement|hotwaterheating|airconditioning|parking|prefarea|furnishingstatus|\n",
      "+--------+----+--------+---------+-------+--------+---------+--------+---------------+---------------+-------+--------+----------------+\n",
      "|13300000|7420|       4|        2|      3|     yes|       no|      no|             no|            yes|      2|     yes|       furnished|\n",
      "|12250000|8960|       4|        4|      4|     yes|       no|      no|             no|            yes|      3|      no|       furnished|\n",
      "|12250000|9960|       3|        2|      2|     yes|       no|     yes|             no|             no|      2|     yes|  semi-furnished|\n",
      "|12215000|7500|       4|        2|      2|     yes|       no|     yes|             no|            yes|      3|     yes|       furnished|\n",
      "|11410000|7420|       4|        1|      2|     yes|      yes|     yes|             no|            yes|      2|      no|       furnished|\n",
      "+--------+----+--------+---------+-------+--------+---------+--------+---------------+---------------+-------+--------+----------------+\n",
      "only showing top 5 rows\n",
      "\n"
     ]
    }
   ],
   "source": [
    "df = spark.read.csv(r\"D:\\Data Science\\Pyspark\\Housing.csv\", header = \"True\")\n",
    "df.show(5)"
   ]
  },
  {
   "cell_type": "code",
   "execution_count": 56,
   "id": "ce2320bb-f265-49b3-bd65-fa92ce6a81e2",
   "metadata": {},
   "outputs": [
    {
     "name": "stdout",
     "output_type": "stream",
     "text": [
      "+--------+------------------+\n",
      "|bedrooms|         Avg_Price|\n",
      "+--------+------------------+\n",
      "|       3| 4954598.133333334|\n",
      "|       5|         5819800.0|\n",
      "|       6|         4791500.0|\n",
      "|       1|         2712500.0|\n",
      "|       4| 5729757.894736842|\n",
      "|       2|3632022.0588235296|\n",
      "+--------+------------------+\n",
      "\n"
     ]
    }
   ],
   "source": [
    "# Group by 'Bedrooms' and calculate the average price\n",
    "\n",
    "df.groupBy(\"bedrooms\").agg(avg(\"price\").alias(\"Avg_Price\")).show()"
   ]
  },
  {
   "cell_type": "code",
   "execution_count": 1,
   "id": "5365c19c-1e72-40ed-9107-1e4d45b69004",
   "metadata": {},
   "outputs": [
    {
     "data": {
      "text/html": [
       "\n",
       "        <div>\n",
       "            <p><b>SparkContext</b></p>\n",
       "\n",
       "            <p><a href=\"http://LAPTOP-H3OG4VTR.lan:4040\">Spark UI</a></p>\n",
       "\n",
       "            <dl>\n",
       "              <dt>Version</dt>\n",
       "                <dd><code>v3.5.1</code></dd>\n",
       "              <dt>Master</dt>\n",
       "                <dd><code>local[*]</code></dd>\n",
       "              <dt>AppName</dt>\n",
       "                <dd><code>Car_evaluation</code></dd>\n",
       "            </dl>\n",
       "        </div>\n",
       "        "
      ],
      "text/plain": [
       "<SparkContext master=local[*] appName=Car_evaluation>"
      ]
     },
     "execution_count": 1,
     "metadata": {},
     "output_type": "execute_result"
    }
   ],
   "source": [
    "# car evaluation\n",
    "\n",
    "import findspark\n",
    "findspark.init()\n",
    "import pyspark\n",
    "sc = pyspark.SparkContext(appName = \"Car_evaluation\")\n",
    "sc"
   ]
  },
  {
   "cell_type": "code",
   "execution_count": 2,
   "id": "1eab0397-821d-4be6-8968-c60906500dc2",
   "metadata": {},
   "outputs": [],
   "source": [
    "from pyspark.sql import SparkSession\n",
    "from pyspark.sql.functions import *"
   ]
  },
  {
   "cell_type": "code",
   "execution_count": 3,
   "id": "8c458251-662e-4c71-830d-f2e0a33bd096",
   "metadata": {},
   "outputs": [],
   "source": [
    "spark = SparkSession.builder.getOrCreate()"
   ]
  },
  {
   "cell_type": "code",
   "execution_count": 4,
   "id": "5801824f-ddc2-4944-bce8-3133f6af51b0",
   "metadata": {},
   "outputs": [
    {
     "name": "stdout",
     "output_type": "stream",
     "text": [
      "+------+------+---+---+-----+----+-----+\n",
      "|vhigh0|vhigh1| 22| 23|small| low|unacc|\n",
      "+------+------+---+---+-----+----+-----+\n",
      "| vhigh| vhigh|  2|  2|small| med|unacc|\n",
      "| vhigh| vhigh|  2|  2|small|high|unacc|\n",
      "| vhigh| vhigh|  2|  2|  med| low|unacc|\n",
      "| vhigh| vhigh|  2|  2|  med| med|unacc|\n",
      "| vhigh| vhigh|  2|  2|  med|high|unacc|\n",
      "+------+------+---+---+-----+----+-----+\n",
      "only showing top 5 rows\n",
      "\n"
     ]
    }
   ],
   "source": [
    "df = spark.read.csv(r\"D:\\Data Science\\car_evaluation.csv\", header = \"True\")\n",
    "df.show(5)"
   ]
  },
  {
   "cell_type": "code",
   "execution_count": 6,
   "id": "56ca6ced-2a2b-4051-9414-b337abb94d82",
   "metadata": {},
   "outputs": [],
   "source": [
    "df_named = df.select(\n",
    "    df[\"vhigh0\"].alias(\"buying_price\"),\n",
    "    df[\"vhigh1\"].alias(\"maintainance_cost\"),\n",
    "    df[\"22\"].alias(\"num_of_doors\"),\n",
    "    df[\"23\"].alias(\"num_of_person\"),\n",
    "    df[\"small\"].alias(\"lug_boot\"),\n",
    "    df[\"low\"].alias(\"safety\"),\n",
    "    df[\"unacc\"].alias(\"decision\")\n",
    ")"
   ]
  },
  {
   "cell_type": "code",
   "execution_count": 16,
   "id": "9007dd4c-bb4f-4c3d-b08a-156ff16a48d1",
   "metadata": {},
   "outputs": [
    {
     "name": "stdout",
     "output_type": "stream",
     "text": [
      "+------------+-----------------+------------+-------------+--------+------+--------+\n",
      "|buying_price|maintainance_cost|num_of_doors|num_of_person|lug_boot|safety|decision|\n",
      "+------------+-----------------+------------+-------------+--------+------+--------+\n",
      "|       vhigh|            vhigh|           2|            2|   small|   med|   unacc|\n",
      "|       vhigh|            vhigh|           2|            2|   small|  high|   unacc|\n",
      "|       vhigh|            vhigh|           2|            2|     med|   low|   unacc|\n",
      "|       vhigh|            vhigh|           2|            2|     med|   med|   unacc|\n",
      "|       vhigh|            vhigh|           2|            2|     med|  high|   unacc|\n",
      "+------------+-----------------+------------+-------------+--------+------+--------+\n",
      "only showing top 5 rows\n",
      "\n"
     ]
    }
   ],
   "source": [
    "df_named.show(5)"
   ]
  },
  {
   "cell_type": "code",
   "execution_count": 30,
   "id": "77ba9152-0082-480e-867d-5c6585845293",
   "metadata": {},
   "outputs": [],
   "source": [
    "df_ind = df_named"
   ]
  },
  {
   "cell_type": "code",
   "execution_count": 31,
   "id": "2ba1d82d-f077-444a-a9e1-e3421fe69a6f",
   "metadata": {},
   "outputs": [],
   "source": [
    "cols = [\"num_of_doors\",\"num_of_person\",\"buying_price\",\"maintainance_cost\",\"lug_boot\",\"safety\",\"decision\"]"
   ]
  },
  {
   "cell_type": "code",
   "execution_count": 32,
   "id": "e92457c8-2e4b-4c1c-816e-eeac43fa5afb",
   "metadata": {},
   "outputs": [],
   "source": [
    "from pyspark.ml.feature import StringIndexer\n",
    "\n",
    "for col in cols:\n",
    "    index = StringIndexer(inputCol = col, outputCol = col +\"_ind\")\n",
    "    df_ind = index.fit(df_ind).transform(df_ind)"
   ]
  },
  {
   "cell_type": "code",
   "execution_count": 33,
   "id": "36947337-be46-447f-ba52-23c40dd04058",
   "metadata": {},
   "outputs": [
    {
     "name": "stdout",
     "output_type": "stream",
     "text": [
      "+------------+-----------------+------------+-------------+--------+------+--------+----------------+-----------------+----------------+---------------------+------------+----------+------------+\n",
      "|buying_price|maintainance_cost|num_of_doors|num_of_person|lug_boot|safety|decision|num_of_doors_ind|num_of_person_ind|buying_price_ind|maintainance_cost_ind|lug_boot_ind|safety_ind|decision_ind|\n",
      "+------------+-----------------+------------+-------------+--------+------+--------+----------------+-----------------+----------------+---------------------+------------+----------+------------+\n",
      "|       vhigh|            vhigh|           2|            2|   small|   med|   unacc|             3.0|              2.0|             3.0|                  3.0|         2.0|       1.0|         0.0|\n",
      "|       vhigh|            vhigh|           2|            2|   small|  high|   unacc|             3.0|              2.0|             3.0|                  3.0|         2.0|       0.0|         0.0|\n",
      "|       vhigh|            vhigh|           2|            2|     med|   low|   unacc|             3.0|              2.0|             3.0|                  3.0|         1.0|       2.0|         0.0|\n",
      "|       vhigh|            vhigh|           2|            2|     med|   med|   unacc|             3.0|              2.0|             3.0|                  3.0|         1.0|       1.0|         0.0|\n",
      "|       vhigh|            vhigh|           2|            2|     med|  high|   unacc|             3.0|              2.0|             3.0|                  3.0|         1.0|       0.0|         0.0|\n",
      "+------------+-----------------+------------+-------------+--------+------+--------+----------------+-----------------+----------------+---------------------+------------+----------+------------+\n",
      "only showing top 5 rows\n",
      "\n"
     ]
    }
   ],
   "source": [
    "df_ind.show(5)"
   ]
  },
  {
   "cell_type": "code",
   "execution_count": 35,
   "id": "b836ba2c-5d43-484d-ba32-1e0c78d02faf",
   "metadata": {},
   "outputs": [
    {
     "name": "stdout",
     "output_type": "stream",
     "text": [
      "+----------------+-----------------+----------------+---------------------+------------+----------+------------+\n",
      "|num_of_doors_ind|num_of_person_ind|buying_price_ind|maintainance_cost_ind|lug_boot_ind|safety_ind|decision_ind|\n",
      "+----------------+-----------------+----------------+---------------------+------------+----------+------------+\n",
      "|             3.0|              2.0|             3.0|                  3.0|         2.0|       1.0|         0.0|\n",
      "|             3.0|              2.0|             3.0|                  3.0|         2.0|       0.0|         0.0|\n",
      "|             3.0|              2.0|             3.0|                  3.0|         1.0|       2.0|         0.0|\n",
      "|             3.0|              2.0|             3.0|                  3.0|         1.0|       1.0|         0.0|\n",
      "|             3.0|              2.0|             3.0|                  3.0|         1.0|       0.0|         0.0|\n",
      "|             3.0|              2.0|             3.0|                  3.0|         0.0|       2.0|         0.0|\n",
      "|             3.0|              2.0|             3.0|                  3.0|         0.0|       1.0|         0.0|\n",
      "|             3.0|              2.0|             3.0|                  3.0|         0.0|       0.0|         0.0|\n",
      "|             3.0|              0.0|             3.0|                  3.0|         2.0|       2.0|         0.0|\n",
      "|             3.0|              0.0|             3.0|                  3.0|         2.0|       1.0|         0.0|\n",
      "|             3.0|              0.0|             3.0|                  3.0|         2.0|       0.0|         0.0|\n",
      "|             3.0|              0.0|             3.0|                  3.0|         1.0|       2.0|         0.0|\n",
      "|             3.0|              0.0|             3.0|                  3.0|         1.0|       1.0|         0.0|\n",
      "|             3.0|              0.0|             3.0|                  3.0|         1.0|       0.0|         0.0|\n",
      "|             3.0|              0.0|             3.0|                  3.0|         0.0|       2.0|         0.0|\n",
      "|             3.0|              0.0|             3.0|                  3.0|         0.0|       1.0|         0.0|\n",
      "|             3.0|              0.0|             3.0|                  3.0|         0.0|       0.0|         0.0|\n",
      "|             3.0|              1.0|             3.0|                  3.0|         2.0|       2.0|         0.0|\n",
      "|             3.0|              1.0|             3.0|                  3.0|         2.0|       1.0|         0.0|\n",
      "|             3.0|              1.0|             3.0|                  3.0|         2.0|       0.0|         0.0|\n",
      "+----------------+-----------------+----------------+---------------------+------------+----------+------------+\n",
      "only showing top 20 rows\n",
      "\n"
     ]
    }
   ],
   "source": [
    "df_selected = df_ind.select(\"num_of_doors_ind\",\"num_of_person_ind\",\"buying_price_ind\",\"maintainance_cost_ind\",\"lug_boot_ind\",\"safety_ind\",\"decision_ind\")\n",
    "df_selected.show()"
   ]
  },
  {
   "cell_type": "code",
   "execution_count": 36,
   "id": "423d5d5c-f672-4ed1-bd4c-ffb54b6a4724",
   "metadata": {},
   "outputs": [],
   "source": [
    "# standardisation\n",
    "\n",
    "from pyspark.ml.feature import VectorAssembler, StandardScaler\n",
    "\n",
    "assembler = VectorAssembler(inputCols = df_selected.columns, outputCol = \"vector\")\n",
    "df_vec = assembler.transform(df_selected)"
   ]
  },
  {
   "cell_type": "code",
   "execution_count": 37,
   "id": "1ba7b5e3-3030-4f2c-a391-b113007e2c05",
   "metadata": {},
   "outputs": [
    {
     "name": "stdout",
     "output_type": "stream",
     "text": [
      "+----------------+-----------------+----------------+---------------------+------------+----------+------------+--------------------+\n",
      "|num_of_doors_ind|num_of_person_ind|buying_price_ind|maintainance_cost_ind|lug_boot_ind|safety_ind|decision_ind|              vector|\n",
      "+----------------+-----------------+----------------+---------------------+------------+----------+------------+--------------------+\n",
      "|             3.0|              2.0|             3.0|                  3.0|         2.0|       1.0|         0.0|[3.0,2.0,3.0,3.0,...|\n",
      "|             3.0|              2.0|             3.0|                  3.0|         2.0|       0.0|         0.0|[3.0,2.0,3.0,3.0,...|\n",
      "|             3.0|              2.0|             3.0|                  3.0|         1.0|       2.0|         0.0|[3.0,2.0,3.0,3.0,...|\n",
      "|             3.0|              2.0|             3.0|                  3.0|         1.0|       1.0|         0.0|[3.0,2.0,3.0,3.0,...|\n",
      "|             3.0|              2.0|             3.0|                  3.0|         1.0|       0.0|         0.0|[3.0,2.0,3.0,3.0,...|\n",
      "+----------------+-----------------+----------------+---------------------+------------+----------+------------+--------------------+\n",
      "only showing top 5 rows\n",
      "\n"
     ]
    }
   ],
   "source": [
    "df_vec.show(5)"
   ]
  },
  {
   "cell_type": "code",
   "execution_count": 38,
   "id": "2203887b-15bf-46ed-b05c-951bd0934af0",
   "metadata": {},
   "outputs": [],
   "source": [
    "scaler = StandardScaler(inputCol = \"vector\", outputCol = \"scaled_vector\")\n",
    "df_scaled = scaler.fit(df_vec).transform(df_vec)"
   ]
  },
  {
   "cell_type": "code",
   "execution_count": 39,
   "id": "9e29673c-a762-4179-8a7a-de3ad6c2c421",
   "metadata": {},
   "outputs": [
    {
     "name": "stdout",
     "output_type": "stream",
     "text": [
      "+----------------+-----------------+----------------+---------------------+------------+----------+------------+--------------------+--------------------+\n",
      "|num_of_doors_ind|num_of_person_ind|buying_price_ind|maintainance_cost_ind|lug_boot_ind|safety_ind|decision_ind|              vector|       scaled_vector|\n",
      "+----------------+-----------------+----------------+---------------------+------------+----------+------------+--------------------+--------------------+\n",
      "|             3.0|              2.0|             3.0|                  3.0|         2.0|       1.0|         0.0|[3.0,2.0,3.0,3.0,...|[2.68312693410585...|\n",
      "|             3.0|              2.0|             3.0|                  3.0|         2.0|       0.0|         0.0|[3.0,2.0,3.0,3.0,...|[2.68312693410585...|\n",
      "|             3.0|              2.0|             3.0|                  3.0|         1.0|       2.0|         0.0|[3.0,2.0,3.0,3.0,...|[2.68312693410585...|\n",
      "|             3.0|              2.0|             3.0|                  3.0|         1.0|       1.0|         0.0|[3.0,2.0,3.0,3.0,...|[2.68312693410585...|\n",
      "|             3.0|              2.0|             3.0|                  3.0|         1.0|       0.0|         0.0|[3.0,2.0,3.0,3.0,...|[2.68312693410585...|\n",
      "+----------------+-----------------+----------------+---------------------+------------+----------+------------+--------------------+--------------------+\n",
      "only showing top 5 rows\n",
      "\n"
     ]
    }
   ],
   "source": [
    "df_scaled.show(5)"
   ]
  },
  {
   "cell_type": "code",
   "execution_count": null,
   "id": "00eb1e5b-ba0b-464d-a651-e1c7a3a53e43",
   "metadata": {},
   "outputs": [],
   "source": [
    "from pyspark.ml.classification import LogisticRegression\n",
    "\n",
    "lr = LogisticRegression(featuresCol = \"scaled_vector\", labelCol = \"decision_ind\")\n",
    "predictions = lr.fit(df_scaled).transform(df_scaled)"
   ]
  },
  {
   "cell_type": "code",
   "execution_count": 46,
   "id": "4994f34c-6b7b-4814-8891-72d4d40e8961",
   "metadata": {},
   "outputs": [
    {
     "name": "stdout",
     "output_type": "stream",
     "text": [
      "+--------------------+------------+----------+\n",
      "|       scaled_vector|decision_ind|prediction|\n",
      "+--------------------+------------+----------+\n",
      "|[2.68312693410585...|         0.0|       0.0|\n",
      "|[2.68312693410585...|         0.0|       0.0|\n",
      "|[2.68312693410585...|         0.0|       0.0|\n",
      "|[2.68312693410585...|         0.0|       0.0|\n",
      "|[2.68312693410585...|         0.0|       0.0|\n",
      "|[2.68312693410585...|         0.0|       0.0|\n",
      "|[2.68312693410585...|         0.0|       0.0|\n",
      "|[2.68312693410585...|         0.0|       0.0|\n",
      "|[2.68312693410585...|         0.0|       0.0|\n",
      "|[2.68312693410585...|         0.0|       0.0|\n",
      "|[2.68312693410585...|         0.0|       0.0|\n",
      "|[2.68312693410585...|         0.0|       0.0|\n",
      "|[2.68312693410585...|         0.0|       0.0|\n",
      "|[2.68312693410585...|         0.0|       0.0|\n",
      "|[2.68312693410585...|         0.0|       0.0|\n",
      "|[2.68312693410585...|         0.0|       0.0|\n",
      "|(7,[0,2,3],[2.683...|         0.0|       0.0|\n",
      "|[2.68312693410585...|         0.0|       0.0|\n",
      "|[2.68312693410585...|         0.0|       0.0|\n",
      "|[2.68312693410585...|         0.0|       0.0|\n",
      "+--------------------+------------+----------+\n",
      "only showing top 20 rows\n",
      "\n"
     ]
    }
   ],
   "source": [
    "predictions.select(\"scaled_vector\",\"decision_ind\",\"prediction\").show()"
   ]
  },
  {
   "cell_type": "code",
   "execution_count": 51,
   "id": "f6533bca-be8b-4185-8e73-c02345a1f347",
   "metadata": {},
   "outputs": [
    {
     "name": "stdout",
     "output_type": "stream",
     "text": [
      "1.0\n"
     ]
    }
   ],
   "source": [
    "from pyspark.ml.evaluation import BinaryClassificationEvaluator\n",
    "\n",
    "evaluator = BinaryClassificationEvaluator(labelCol = \"decision_ind\", rawPredictionCol = \"prediction\")\n",
    "\n",
    "accuracy = evaluator.evaluate(predictions)\n",
    "\n",
    "print(accuracy)"
   ]
  },
  {
   "cell_type": "code",
   "execution_count": 49,
   "id": "ddb2d1f8-a2bb-43da-8a55-11bec2b37020",
   "metadata": {},
   "outputs": [
    {
     "name": "stdout",
     "output_type": "stream",
     "text": [
      "+------------+----------+-----+\n",
      "|decision_ind|prediction|count|\n",
      "+------------+----------+-----+\n",
      "|         1.0|       1.0|  384|\n",
      "|         2.0|       2.0|   69|\n",
      "|         0.0|       0.0| 1209|\n",
      "|         3.0|       3.0|   65|\n",
      "+------------+----------+-----+\n",
      "\n"
     ]
    }
   ],
   "source": [
    "# Calculate confusion matrix\n",
    "from pyspark.sql.functions import col\n",
    "\n",
    "# Create a confusion matrix\n",
    "confusion_matrix = predictions.groupBy(\"decision_ind\", \"prediction\").count().show()"
   ]
  },
  {
   "cell_type": "code",
   "execution_count": 56,
   "id": "1f658ab8-e115-4f99-a124-8b7f35a57fb7",
   "metadata": {},
   "outputs": [],
   "source": [
    "doc = r\"D:\\Data Science\\abc.txt\"\n",
    "\n",
    "lines = sc.textFile(doc)"
   ]
  },
  {
   "cell_type": "code",
   "execution_count": 57,
   "id": "ccbe33c5-2aa4-461d-a907-9c778fc9c4d2",
   "metadata": {},
   "outputs": [],
   "source": [
    "words = lines.flatMap(lambda line: line.split(\" \")).filter(lambda word: word.strip() != \"\")"
   ]
  },
  {
   "cell_type": "code",
   "execution_count": 58,
   "id": "4df976cd-89c7-42f1-87db-a27a6f336fd5",
   "metadata": {},
   "outputs": [],
   "source": [
    "total = words.count()"
   ]
  },
  {
   "cell_type": "code",
   "execution_count": 59,
   "id": "99c21855-0f21-4e59-b0d3-db91e9709ea8",
   "metadata": {},
   "outputs": [
    {
     "data": {
      "text/plain": [
       "29"
      ]
     },
     "execution_count": 59,
     "metadata": {},
     "output_type": "execute_result"
    }
   ],
   "source": [
    "total"
   ]
  },
  {
   "cell_type": "code",
   "execution_count": 61,
   "id": "b1882943-b94c-4357-80ca-edf8ae654d69",
   "metadata": {},
   "outputs": [],
   "source": [
    "unique_words = words.distinct().collect()"
   ]
  },
  {
   "cell_type": "code",
   "execution_count": 62,
   "id": "aa31976f-b6bd-4665-83f3-b3ef6daf8afd",
   "metadata": {},
   "outputs": [
    {
     "data": {
      "text/plain": [
       "['Hello,',\n",
       " 'this',\n",
       " 'assignment',\n",
       " 'Subject',\n",
       " 'Big',\n",
       " 'new',\n",
       " 'line',\n",
       " 'added',\n",
       " 'to',\n",
       " 'text',\n",
       " 'file.',\n",
       " 'is',\n",
       " '5.',\n",
       " ':',\n",
       " 'data',\n",
       " 'This',\n",
       " 'a',\n",
       " 'the']"
      ]
     },
     "execution_count": 62,
     "metadata": {},
     "output_type": "execute_result"
    }
   ],
   "source": [
    "unique_words"
   ]
  },
  {
   "cell_type": "markdown",
   "id": "d3371e52-5989-457d-8ed0-d5e5c86db444",
   "metadata": {},
   "source": [
    "## Student admission"
   ]
  },
  {
   "cell_type": "code",
   "execution_count": 1,
   "id": "a60fd0ab-1e6b-409e-8881-d6caa34943bd",
   "metadata": {},
   "outputs": [],
   "source": [
    "# Student attendance - ml model\n",
    "\n",
    "import findspark\n",
    "findspark.init()\n",
    "import pyspark"
   ]
  },
  {
   "cell_type": "code",
   "execution_count": 2,
   "id": "32710080-7643-415f-ab45-0a2592125246",
   "metadata": {},
   "outputs": [
    {
     "data": {
      "text/html": [
       "\n",
       "        <div>\n",
       "            <p><b>SparkContext</b></p>\n",
       "\n",
       "            <p><a href=\"http://LAPTOP-H3OG4VTR.lan:4040\">Spark UI</a></p>\n",
       "\n",
       "            <dl>\n",
       "              <dt>Version</dt>\n",
       "                <dd><code>v3.5.1</code></dd>\n",
       "              <dt>Master</dt>\n",
       "                <dd><code>local[*]</code></dd>\n",
       "              <dt>AppName</dt>\n",
       "                <dd><code>ml model</code></dd>\n",
       "            </dl>\n",
       "        </div>\n",
       "        "
      ],
      "text/plain": [
       "<SparkContext master=local[*] appName=ml model>"
      ]
     },
     "execution_count": 2,
     "metadata": {},
     "output_type": "execute_result"
    }
   ],
   "source": [
    "sc = pyspark.SparkContext(appName = \"ml model\")\n",
    "sc"
   ]
  },
  {
   "cell_type": "code",
   "execution_count": 3,
   "id": "b25973c3-1e8d-40b4-9847-1d892ee508c3",
   "metadata": {},
   "outputs": [],
   "source": [
    "from pyspark.sql import SparkSession\n",
    "from pyspark.sql.functions import *"
   ]
  },
  {
   "cell_type": "code",
   "execution_count": 4,
   "id": "e69a978b-05ae-43fb-911b-ce12d8edb6cd",
   "metadata": {},
   "outputs": [],
   "source": [
    "spark = SparkSession.builder.getOrCreate()"
   ]
  },
  {
   "cell_type": "code",
   "execution_count": 30,
   "id": "d67ea81d-d875-47e4-af59-299b01d04652",
   "metadata": {},
   "outputs": [
    {
     "name": "stdout",
     "output_type": "stream",
     "text": [
      "+-------+----+------+--------------------+----------------------+---------+----------------+\n",
      "|   Name| Age|Gender|Admission Test Score|High School Percentage|     City|Admission Status|\n",
      "+-------+----+------+--------------------+----------------------+---------+----------------+\n",
      "|Shehroz|24.0|Female|                50.0|                  68.9|   Quetta|        Rejected|\n",
      "|  Waqar|21.0|Female|                99.0|                 60.73|  Karachi|            NULL|\n",
      "| Bushra|17.0|  Male|                89.0|                  NULL|Islamabad|        Accepted|\n",
      "|  Aliya|17.0|  Male|                55.0|                 85.29|  Karachi|        Rejected|\n",
      "|  Bilal|20.0|  Male|                65.0|                 61.13|   Lahore|            NULL|\n",
      "+-------+----+------+--------------------+----------------------+---------+----------------+\n",
      "only showing top 5 rows\n",
      "\n"
     ]
    }
   ],
   "source": [
    "df = spark.read.csv(r\"D:\\Data Science\\student_admission_record_dirty.csv\", header = \"True\")\n",
    "df.show(5)"
   ]
  },
  {
   "cell_type": "code",
   "execution_count": 31,
   "id": "c7258a4b-51c9-4063-a7b9-d299f22a199e",
   "metadata": {},
   "outputs": [],
   "source": [
    "df = df.dropna()"
   ]
  },
  {
   "cell_type": "code",
   "execution_count": 32,
   "id": "ab75dea5-a6c0-43e6-9236-91593cf0e523",
   "metadata": {},
   "outputs": [
    {
     "name": "stdout",
     "output_type": "stream",
     "text": [
      "+-------+----+------+--------------------+----------------------+----------+----------------+\n",
      "|   Name| Age|Gender|Admission Test Score|High School Percentage|      City|Admission Status|\n",
      "+-------+----+------+--------------------+----------------------+----------+----------------+\n",
      "|Shehroz|24.0|Female|                50.0|                  68.9|    Quetta|        Rejected|\n",
      "|  Aliya|17.0|  Male|                55.0|                 85.29|   Karachi|        Rejected|\n",
      "|  Rabia|20.0|Female|                82.0|                 55.67|    Lahore|        Accepted|\n",
      "| Kamran|18.0|  Male|                53.0|                 98.98|    Multan|        Rejected|\n",
      "| Shafiq|17.0|  Male|                78.0|                   -10|    Quetta|        Rejected|\n",
      "|  Ahmed|21.0|  Male|                62.0|                 79.03|   Karachi|        Accepted|\n",
      "|Fareeha|22.0|  Male|                86.0|                 50.77| Islamabad|        Rejected|\n",
      "|   Saim|19.0|  Male|                84.0|                 97.19|  Peshawar|        Rejected|\n",
      "|   Uzma|17.0|Female|                96.0|                 93.34|   Karachi|        Rejected|\n",
      "| Maryam|19.0|Female|                74.0|                 70.26|    Lahore|        Accepted|\n",
      "|  Waqar|22.0|  Male|                77.0|                 94.02|  Peshawar|        Rejected|\n",
      "| Kamran|18.0|  Male|                53.0|                 98.98|    Multan|        Rejected|\n",
      "|  Imran|20.0|Female|                76.0|                 69.27|  Peshawar|        Rejected|\n",
      "|   Anum|20.0|Female|                96.0|                 62.44|    Quetta|        Rejected|\n",
      "| Bushra|17.0|  Male|                89.0|                 78.57| Islamabad|        Accepted|\n",
      "|    Ali|17.0|  Male|                74.0|                 56.38|Rawalpindi|        Rejected|\n",
      "|  Rehan|19.0|Female|                  -5|                 61.91|    Quetta|        Rejected|\n",
      "|   Zara|24.0|Female|                65.0|                 91.14|    Multan|        Rejected|\n",
      "| Fatima|24.0|Female|                66.0|                  74.8|  Peshawar|        Rejected|\n",
      "| Shayan|24.0|  Male|                58.0|                 85.41|    Multan|        Rejected|\n",
      "+-------+----+------+--------------------+----------------------+----------+----------------+\n",
      "only showing top 20 rows\n",
      "\n"
     ]
    }
   ],
   "source": [
    "df.show()"
   ]
  },
  {
   "cell_type": "code",
   "execution_count": 33,
   "id": "c38dc499-f14f-49a7-88c1-c3b82cff753b",
   "metadata": {},
   "outputs": [
    {
     "name": "stdout",
     "output_type": "stream",
     "text": [
      "+-------+----+------+--------------------+----------------------+----------+----------------+\n",
      "|   Name| Age|Gender|Admission Test Score|High School Percentage|      City|Admission Status|\n",
      "+-------+----+------+--------------------+----------------------+----------+----------------+\n",
      "|Shehroz|24.0|Female|                50.0|                  68.9|    Quetta|        Rejected|\n",
      "|  Aliya|17.0|  Male|                55.0|                 85.29|   Karachi|        Rejected|\n",
      "|  Rabia|20.0|Female|                82.0|                 55.67|    Lahore|        Accepted|\n",
      "| Kamran|18.0|  Male|                53.0|                 98.98|    Multan|        Rejected|\n",
      "|  Ahmed|21.0|  Male|                62.0|                 79.03|   Karachi|        Accepted|\n",
      "|Fareeha|22.0|  Male|                86.0|                 50.77| Islamabad|        Rejected|\n",
      "|   Saim|19.0|  Male|                84.0|                 97.19|  Peshawar|        Rejected|\n",
      "|   Uzma|17.0|Female|                96.0|                 93.34|   Karachi|        Rejected|\n",
      "| Maryam|19.0|Female|                74.0|                 70.26|    Lahore|        Accepted|\n",
      "|  Waqar|22.0|  Male|                77.0|                 94.02|  Peshawar|        Rejected|\n",
      "| Kamran|18.0|  Male|                53.0|                 98.98|    Multan|        Rejected|\n",
      "|  Imran|20.0|Female|                76.0|                 69.27|  Peshawar|        Rejected|\n",
      "|   Anum|20.0|Female|                96.0|                 62.44|    Quetta|        Rejected|\n",
      "| Bushra|17.0|  Male|                89.0|                 78.57| Islamabad|        Accepted|\n",
      "|    Ali|17.0|  Male|                74.0|                 56.38|Rawalpindi|        Rejected|\n",
      "|  Rehan|19.0|Female|                  -5|                 61.91|    Quetta|        Rejected|\n",
      "|   Zara|24.0|Female|                65.0|                 91.14|    Multan|        Rejected|\n",
      "| Fatima|24.0|Female|                66.0|                  74.8|  Peshawar|        Rejected|\n",
      "| Shayan|24.0|  Male|                58.0|                 85.41|    Multan|        Rejected|\n",
      "| Ayesha|24.0|  Male|                94.0|                 98.43|    Multan|        Rejected|\n",
      "+-------+----+------+--------------------+----------------------+----------+----------------+\n",
      "only showing top 20 rows\n",
      "\n"
     ]
    }
   ],
   "source": [
    "df = df.filter(df[\"High School Percentage\"]>50.00)\n",
    "df.show()"
   ]
  },
  {
   "cell_type": "code",
   "execution_count": 34,
   "id": "d8fcc17a-8729-4308-bd47-6583dc1ec2c3",
   "metadata": {},
   "outputs": [
    {
     "data": {
      "text/plain": [
       "98"
      ]
     },
     "execution_count": 34,
     "metadata": {},
     "output_type": "execute_result"
    }
   ],
   "source": [
    "df.count()"
   ]
  },
  {
   "cell_type": "code",
   "execution_count": 35,
   "id": "24acbfaf-8a3d-482f-acf9-f7d9a0f6ceaf",
   "metadata": {},
   "outputs": [
    {
     "name": "stdout",
     "output_type": "stream",
     "text": [
      "+-------+----+------+--------------------+----------------------+----------+----------------+\n",
      "|   Name| Age|Gender|Admission Test Score|High School Percentage|      City|Admission Status|\n",
      "+-------+----+------+--------------------+----------------------+----------+----------------+\n",
      "|  Aliya|17.0|  Male|                55.0|                 85.29|   Karachi|        Rejected|\n",
      "|  Rabia|20.0|Female|                82.0|                 55.67|    Lahore|        Accepted|\n",
      "| Kamran|18.0|  Male|                53.0|                 98.98|    Multan|        Rejected|\n",
      "|  Ahmed|21.0|  Male|                62.0|                 79.03|   Karachi|        Accepted|\n",
      "|Fareeha|22.0|  Male|                86.0|                 50.77| Islamabad|        Rejected|\n",
      "|   Saim|19.0|  Male|                84.0|                 97.19|  Peshawar|        Rejected|\n",
      "|   Uzma|17.0|Female|                96.0|                 93.34|   Karachi|        Rejected|\n",
      "| Maryam|19.0|Female|                74.0|                 70.26|    Lahore|        Accepted|\n",
      "|  Waqar|22.0|  Male|                77.0|                 94.02|  Peshawar|        Rejected|\n",
      "| Kamran|18.0|  Male|                53.0|                 98.98|    Multan|        Rejected|\n",
      "|  Imran|20.0|Female|                76.0|                 69.27|  Peshawar|        Rejected|\n",
      "|   Anum|20.0|Female|                96.0|                 62.44|    Quetta|        Rejected|\n",
      "| Bushra|17.0|  Male|                89.0|                 78.57| Islamabad|        Accepted|\n",
      "|    Ali|17.0|  Male|                74.0|                 56.38|Rawalpindi|        Rejected|\n",
      "|   Zara|24.0|Female|                65.0|                 91.14|    Multan|        Rejected|\n",
      "| Fatima|24.0|Female|                66.0|                  74.8|  Peshawar|        Rejected|\n",
      "| Shayan|24.0|  Male|                58.0|                 85.41|    Multan|        Rejected|\n",
      "| Ayesha|24.0|  Male|                94.0|                 98.43|    Multan|        Rejected|\n",
      "|  Lubna|21.0|Female|                89.0|                 82.57|    Multan|        Rejected|\n",
      "|Wajeeha|21.0|  Male|                63.0|                 74.83| Islamabad|        Accepted|\n",
      "+-------+----+------+--------------------+----------------------+----------+----------------+\n",
      "only showing top 20 rows\n",
      "\n"
     ]
    }
   ],
   "source": [
    "df = df.filter(df[\"Admission Test Score\"]>50.00)\n",
    "df.show()"
   ]
  },
  {
   "cell_type": "code",
   "execution_count": 36,
   "id": "bf5b41e1-1269-4fa5-ba5a-07bc28ea3655",
   "metadata": {},
   "outputs": [
    {
     "data": {
      "text/plain": [
       "94"
      ]
     },
     "execution_count": 36,
     "metadata": {},
     "output_type": "execute_result"
    }
   ],
   "source": [
    "df.count()"
   ]
  },
  {
   "cell_type": "code",
   "execution_count": 37,
   "id": "5a5ffc5d-4b7a-4b0a-8f6b-8ecd7ae999a1",
   "metadata": {},
   "outputs": [
    {
     "name": "stdout",
     "output_type": "stream",
     "text": [
      "+----------+-----+\n",
      "|      City|count|\n",
      "+----------+-----+\n",
      "|    Multan|   19|\n",
      "|   Karachi|   17|\n",
      "|  Peshawar|   15|\n",
      "|    Lahore|   11|\n",
      "|Rawalpindi|    7|\n",
      "| Islamabad|    8|\n",
      "|    Quetta|   17|\n",
      "+----------+-----+\n",
      "\n"
     ]
    }
   ],
   "source": [
    "df.groupBy(\"City\").count().show()"
   ]
  },
  {
   "cell_type": "code",
   "execution_count": 38,
   "id": "87ba8420-77a0-4d38-985f-48c307b37162",
   "metadata": {},
   "outputs": [],
   "source": [
    "from pyspark.ml.feature import StringIndexer, OneHotEncoder, MinMaxScaler, VectorAssembler\n",
    "\n",
    "df_ind = df\n",
    "cat_cols = [\"Age\",\"Admission Test Score\",\"High School Percentage\",\"Gender\", \"City\", \"Admission Status\"]\n",
    "\n",
    "for col in cat_cols:\n",
    "    indexer = StringIndexer(inputCol = col, outputCol = col + \"_ind\")\n",
    "    df_ind = indexer.fit(df_ind).transform(df_ind)\n",
    "\n"
   ]
  },
  {
   "cell_type": "code",
   "execution_count": 39,
   "id": "9e1bf431-4397-4239-b4ac-eff0490c6a09",
   "metadata": {},
   "outputs": [],
   "source": [
    "cat_cols_to_encode = [\"Age_ind\",\"Admission Test Score_ind\",\"High School Percentage_ind\",\"Gender_ind\", \"City_ind\"]\n",
    "\n",
    "df_enc = df_ind\n",
    "for col in cat_cols_to_encode:\n",
    "    encoder = OneHotEncoder(inputCol = col, outputCol = col + \"_enc\")\n",
    "    df_enc = encoder.fit(df_enc).transform(df_enc)"
   ]
  },
  {
   "cell_type": "code",
   "execution_count": 40,
   "id": "0db3c3ed-2166-404b-af31-d12a6a297572",
   "metadata": {},
   "outputs": [
    {
     "name": "stdout",
     "output_type": "stream",
     "text": [
      "+------+----+------+--------------------+----------------------+-------+----------------+-------+------------------------+--------------------------+----------+--------+--------------------+-------------+----------------------------+------------------------------+--------------+-------------+\n",
      "|  Name| Age|Gender|Admission Test Score|High School Percentage|   City|Admission Status|Age_ind|Admission Test Score_ind|High School Percentage_ind|Gender_ind|City_ind|Admission Status_ind|  Age_ind_enc|Admission Test Score_ind_enc|High School Percentage_ind_enc|Gender_ind_enc| City_ind_enc|\n",
      "+------+----+------+--------------------+----------------------+-------+----------------+-------+------------------------+--------------------------+----------+--------+--------------------+-------------+----------------------------+------------------------------+--------------+-------------+\n",
      "| Aliya|17.0|  Male|                55.0|                 85.29|Karachi|        Rejected|    0.0|                    30.0|                       2.0|       1.0|     1.0|                 0.0|(8,[0],[1.0])|             (40,[30],[1.0])|                (86,[2],[1.0])|     (1,[],[])|(6,[1],[1.0])|\n",
      "| Rabia|20.0|Female|                82.0|                 55.67| Lahore|        Accepted|    1.0|                     6.0|                      16.0|       0.0|     4.0|                 1.0|(8,[1],[1.0])|              (40,[6],[1.0])|               (86,[16],[1.0])| (1,[0],[1.0])|(6,[4],[1.0])|\n",
      "|Kamran|18.0|  Male|                53.0|                 98.98| Multan|        Rejected|    7.0|                    16.0|                       6.0|       1.0|     0.0|                 0.0|(8,[7],[1.0])|             (40,[16],[1.0])|                (86,[6],[1.0])|     (1,[],[])|(6,[0],[1.0])|\n",
      "+------+----+------+--------------------+----------------------+-------+----------------+-------+------------------------+--------------------------+----------+--------+--------------------+-------------+----------------------------+------------------------------+--------------+-------------+\n",
      "only showing top 3 rows\n",
      "\n"
     ]
    }
   ],
   "source": [
    "df_enc.show(3)"
   ]
  },
  {
   "cell_type": "code",
   "execution_count": 41,
   "id": "8b51f521-6618-4ecd-8c34-7cf2f5e68b90",
   "metadata": {},
   "outputs": [],
   "source": [
    "df_enc = df_enc.select(\"Age_ind_enc\",\"Admission Test Score_ind_enc\",\"High School Percentage_ind_enc\",\"Gender_ind_enc\",\"City_ind_enc\",\"Admission Status_ind\")"
   ]
  },
  {
   "cell_type": "code",
   "execution_count": 42,
   "id": "c3dde17a-ce1d-42c3-ad07-9e634c0b612f",
   "metadata": {},
   "outputs": [
    {
     "name": "stdout",
     "output_type": "stream",
     "text": [
      "+-------------+----------------------------+------------------------------+--------------+-------------+--------------------+\n",
      "|  Age_ind_enc|Admission Test Score_ind_enc|High School Percentage_ind_enc|Gender_ind_enc| City_ind_enc|Admission Status_ind|\n",
      "+-------------+----------------------------+------------------------------+--------------+-------------+--------------------+\n",
      "|(8,[0],[1.0])|             (40,[30],[1.0])|                (86,[2],[1.0])|     (1,[],[])|(6,[1],[1.0])|                 0.0|\n",
      "|(8,[1],[1.0])|              (40,[6],[1.0])|               (86,[16],[1.0])| (1,[0],[1.0])|(6,[4],[1.0])|                 1.0|\n",
      "|(8,[7],[1.0])|             (40,[16],[1.0])|                (86,[6],[1.0])|     (1,[],[])|(6,[0],[1.0])|                 0.0|\n",
      "|(8,[6],[1.0])|             (40,[18],[1.0])|                (86,[1],[1.0])|     (1,[],[])|(6,[1],[1.0])|                 1.0|\n",
      "|(8,[2],[1.0])|                  (40,[],[])|                (86,[8],[1.0])|     (1,[],[])|(6,[5],[1.0])|                 0.0|\n",
      "+-------------+----------------------------+------------------------------+--------------+-------------+--------------------+\n",
      "only showing top 5 rows\n",
      "\n"
     ]
    }
   ],
   "source": [
    "df_enc.show(5)"
   ]
  },
  {
   "cell_type": "code",
   "execution_count": 43,
   "id": "769570dc-bf50-40c7-9ece-ea19227ff182",
   "metadata": {},
   "outputs": [],
   "source": [
    "vector = VectorAssembler(inputCols = [\"Age_ind_enc\",\"Admission Test Score_ind_enc\",\"High School Percentage_ind_enc\",\"Gender_ind_enc\",\"City_ind_enc\"], outputCol = \"vector\")\n",
    "df_vec = vector.transform(df_enc)"
   ]
  },
  {
   "cell_type": "code",
   "execution_count": 44,
   "id": "00b6d4d7-f17d-4d08-9eff-3df7ecff08df",
   "metadata": {},
   "outputs": [],
   "source": [
    "scaler = MinMaxScaler(inputCol = \"vector\", outputCol = \"vector_scaled\")\n",
    "df_vec = scaler.fit(df_vec).transform(df_vec)"
   ]
  },
  {
   "cell_type": "code",
   "execution_count": 45,
   "id": "564d08b7-80de-42af-a4df-17c82a957bb9",
   "metadata": {},
   "outputs": [
    {
     "name": "stdout",
     "output_type": "stream",
     "text": [
      "+--------------------+--------------------+\n",
      "|              vector|       vector_scaled|\n",
      "+--------------------+--------------------+\n",
      "|(141,[0,38,50,136...|(141,[0,38,50,136...|\n",
      "|(141,[1,14,64,134...|(141,[1,14,64,134...|\n",
      "|(141,[7,24,54,135...|(141,[7,24,54,135...|\n",
      "|(141,[6,26,49,136...|(141,[6,26,49,136...|\n",
      "|(141,[2,56,140],[...|(141,[2,56,140],[...|\n",
      "|(141,[4,17,130,13...|(141,[4,17,130,13...|\n",
      "|(141,[0,19,125,13...|(141,[0,19,125,13...|\n",
      "|(141,[4,9,88,134,...|(141,[4,9,88,134,...|\n",
      "|(141,[2,12,126,13...|(141,[2,12,126,13...|\n",
      "|(141,[7,24,54,135...|(141,[7,24,54,135...|\n",
      "|(141,[1,45,86,134...|(141,[1,45,86,134...|\n",
      "|(141,[1,19,71,134...|(141,[1,19,71,134...|\n",
      "|(141,[0,18,101,14...|(141,[0,18,101,14...|\n",
      "|(141,[0,9,65],[1....|(141,[0,9,65],[1....|\n",
      "|(141,[3,27,121,13...|(141,[3,27,121,13...|\n",
      "|(141,[3,42,95,134...|(141,[3,42,95,134...|\n",
      "|(141,[3,25,113,13...|(141,[3,25,113,13...|\n",
      "|(141,[3,15,53,135...|(141,[3,15,53,135...|\n",
      "|(141,[6,18,107,13...|(141,[6,18,107,13...|\n",
      "|(141,[6,41,96,140...|(141,[6,41,96,140...|\n",
      "+--------------------+--------------------+\n",
      "only showing top 20 rows\n",
      "\n"
     ]
    }
   ],
   "source": [
    "df_vec.select(\"vector\",\"vector_scaled\").show()"
   ]
  },
  {
   "cell_type": "code",
   "execution_count": 46,
   "id": "62d28c69-4bf5-4288-a787-8ba3b65a93f5",
   "metadata": {},
   "outputs": [],
   "source": [
    "from pyspark.ml.classification import DecisionTreeClassifier\n",
    "\n",
    "dtc = DecisionTreeClassifier(featuresCol = \"vector_scaled\", labelCol = \"Admission Status_ind\")\n",
    "\n",
    "predictions = dtc.fit(df_vec).transform(df_vec)"
   ]
  },
  {
   "cell_type": "code",
   "execution_count": 54,
   "id": "c82c8ea6-fb7d-4532-9ac7-aefe41ecd961",
   "metadata": {},
   "outputs": [],
   "source": [
    "from pyspark.ml.classification import RandomForestClassifier\n",
    "\n",
    "dtc = RandomForestClassifier(featuresCol = \"vector_scaled\", labelCol = \"Admission Status_ind\")\n",
    "\n",
    "predictions = dtc.fit(df_vec).transform(df_vec)"
   ]
  },
  {
   "cell_type": "code",
   "execution_count": 55,
   "id": "9c4e741a-9d9b-407a-9368-16c523d8880a",
   "metadata": {},
   "outputs": [
    {
     "name": "stdout",
     "output_type": "stream",
     "text": [
      "+--------------------+--------------------+----------+\n",
      "|       vector_scaled|Admission Status_ind|prediction|\n",
      "+--------------------+--------------------+----------+\n",
      "|(141,[0,38,50,136...|                 0.0|       0.0|\n",
      "|(141,[1,14,64,134...|                 1.0|       1.0|\n",
      "|(141,[7,24,54,135...|                 0.0|       0.0|\n",
      "|(141,[6,26,49,136...|                 1.0|       1.0|\n",
      "|(141,[2,56,140],[...|                 0.0|       0.0|\n",
      "|(141,[4,17,130,13...|                 0.0|       0.0|\n",
      "|(141,[0,19,125,13...|                 0.0|       0.0|\n",
      "|(141,[4,9,88,134,...|                 1.0|       1.0|\n",
      "|(141,[2,12,126,13...|                 0.0|       0.0|\n",
      "|(141,[7,24,54,135...|                 0.0|       0.0|\n",
      "|(141,[1,45,86,134...|                 0.0|       0.0|\n",
      "|(141,[1,19,71,134...|                 0.0|       0.0|\n",
      "|(141,[0,18,101,14...|                 1.0|       0.0|\n",
      "|(141,[0,9,65],[1....|                 0.0|       0.0|\n",
      "|(141,[3,27,121,13...|                 0.0|       0.0|\n",
      "|(141,[3,42,95,134...|                 0.0|       0.0|\n",
      "|(141,[3,25,113,13...|                 0.0|       0.0|\n",
      "|(141,[3,15,53,135...|                 0.0|       0.0|\n",
      "|(141,[6,18,107,13...|                 0.0|       0.0|\n",
      "|(141,[6,41,96,140...|                 1.0|       1.0|\n",
      "+--------------------+--------------------+----------+\n",
      "only showing top 20 rows\n",
      "\n"
     ]
    }
   ],
   "source": [
    "predictions.select(\"vector_scaled\",\"Admission Status_ind\",\"prediction\").show()"
   ]
  },
  {
   "cell_type": "code",
   "execution_count": 56,
   "id": "9af4360d-8359-4f54-bd70-b93ab5d386b9",
   "metadata": {},
   "outputs": [
    {
     "name": "stdout",
     "output_type": "stream",
     "text": [
      "0.7659574468085106\n"
     ]
    }
   ],
   "source": [
    "from pyspark.ml.evaluation import MulticlassClassificationEvaluator\n",
    "\n",
    "evaluator = MulticlassClassificationEvaluator(labelCol = \"Admission Status_ind\", predictionCol = \"prediction\", metricName = \"accuracy\")\n",
    "print(evaluator.evaluate(predictions))"
   ]
  },
  {
   "cell_type": "code",
   "execution_count": 57,
   "id": "7d6a1b6f-32c5-455a-b34a-6f0a10d1f981",
   "metadata": {},
   "outputs": [
    {
     "name": "stdout",
     "output_type": "stream",
     "text": [
      "0.8222016651248844\n"
     ]
    }
   ],
   "source": [
    "evaluator = MulticlassClassificationEvaluator(labelCol = \"Admission Status_ind\", predictionCol = \"prediction\", metricName = \"weightedPrecision\")\n",
    "print(evaluator.evaluate(predictions))"
   ]
  },
  {
   "cell_type": "code",
   "execution_count": 58,
   "id": "9f608fb3-56e6-4529-8b8b-6024815a3ea4",
   "metadata": {},
   "outputs": [
    {
     "name": "stdout",
     "output_type": "stream",
     "text": [
      "0.7659574468085106\n"
     ]
    }
   ],
   "source": [
    "evaluator = MulticlassClassificationEvaluator(labelCol = \"Admission Status_ind\", predictionCol = \"prediction\", metricName = \"weightedRecall\")\n",
    "print(evaluator.evaluate(predictions))"
   ]
  },
  {
   "cell_type": "code",
   "execution_count": 59,
   "id": "0cdf33f7-e614-4e42-9133-b0924d105a97",
   "metadata": {},
   "outputs": [
    {
     "name": "stdout",
     "output_type": "stream",
     "text": [
      "0.7523569110298285\n"
     ]
    }
   ],
   "source": [
    "evaluator = MulticlassClassificationEvaluator(labelCol = \"Admission Status_ind\", predictionCol = \"prediction\", metricName = \"f1\")\n",
    "print(evaluator.evaluate(predictions))"
   ]
  },
  {
   "cell_type": "markdown",
   "id": "b705d956-2ff3-4503-b382-3e2375c1228e",
   "metadata": {},
   "source": [
    "## File handling"
   ]
  },
  {
   "cell_type": "code",
   "execution_count": 60,
   "id": "ecc4af58-b051-4730-8e95-73258ea9dc6c",
   "metadata": {},
   "outputs": [],
   "source": [
    "# File handling\n",
    "\n",
    "doc = r\"D:\\Data Science\\abc.txt\""
   ]
  },
  {
   "cell_type": "code",
   "execution_count": 61,
   "id": "5dcc0ebd-dde9-42b4-b247-1881e3c8056c",
   "metadata": {},
   "outputs": [
    {
     "name": "stdout",
     "output_type": "stream",
     "text": [
      "Original data: \n",
      "+------------------------------------------+\n",
      "|value                                     |\n",
      "+------------------------------------------+\n",
      "|Hello, this is assignment 5.              |\n",
      "|Subject : Big data                        |\n",
      "|This is a new line added to the text file.|\n",
      "|This is a new line added to the text file.|\n",
      "+------------------------------------------+\n",
      "\n"
     ]
    }
   ],
   "source": [
    "df = spark.read.text(doc)\n",
    "\n",
    "print(\"Original data: \")\n",
    "df.show(truncate = False)"
   ]
  },
  {
   "cell_type": "code",
   "execution_count": 64,
   "id": "c65566fe-5f19-4af4-b2a1-de07cde03645",
   "metadata": {},
   "outputs": [],
   "source": [
    "from pyspark.sql import Row\n",
    "\n",
    "new_line = '''NEW LINE 1.\n",
    "NEW LINE 2'''\n",
    "df_new = spark.createDataFrame([Row(value = new_line)])\n",
    "\n",
    "df = df.union(df_new)"
   ]
  },
  {
   "cell_type": "code",
   "execution_count": 65,
   "id": "2c588f42-2a5d-4b3e-91e3-547f1b86feb4",
   "metadata": {},
   "outputs": [
    {
     "name": "stdout",
     "output_type": "stream",
     "text": [
      "+------------------------------------------+\n",
      "|value                                     |\n",
      "+------------------------------------------+\n",
      "|Hello, this is assignment 5.              |\n",
      "|Subject : Big data                        |\n",
      "|This is a new line added to the text file.|\n",
      "|This is a new line added to the text file.|\n",
      "|NEW LINE 1.\\nNEW LINE 2                   |\n",
      "+------------------------------------------+\n",
      "\n"
     ]
    }
   ],
   "source": [
    "df.show(truncate = False)"
   ]
  },
  {
   "cell_type": "code",
   "execution_count": 66,
   "id": "efebe4f6-9664-4865-a334-79a25d9979ab",
   "metadata": {},
   "outputs": [],
   "source": [
    "updated_line = df.select(\"value\").rdd.flatMap(lambda x : x).collect()"
   ]
  },
  {
   "cell_type": "code",
   "execution_count": 67,
   "id": "392ad205-199e-4f8a-90e2-baaca9eaa7ff",
   "metadata": {},
   "outputs": [],
   "source": [
    "with open(doc,\"w\") as f:\n",
    "    for line in updated_line:\n",
    "        f.write(line + \"\\n\")"
   ]
  },
  {
   "cell_type": "code",
   "execution_count": 70,
   "id": "7872d1c5-4f19-4e68-ad6e-2a296a180061",
   "metadata": {},
   "outputs": [],
   "source": [
    "# count the number of words and unique words print\n",
    "\n",
    "lines = sc.textFile(doc)"
   ]
  },
  {
   "cell_type": "code",
   "execution_count": 72,
   "id": "d659e94a-f50b-4c28-9665-a09a6ca15845",
   "metadata": {},
   "outputs": [],
   "source": [
    "words = lines.flatMap(lambda line: line.split(\" \")).filter(lambda word : word.strip != (\"\"))"
   ]
  },
  {
   "cell_type": "code",
   "execution_count": 73,
   "id": "f759dfbd-f4de-4413-969e-eef93ddb4189",
   "metadata": {},
   "outputs": [
    {
     "data": {
      "text/plain": [
       "35"
      ]
     },
     "execution_count": 73,
     "metadata": {},
     "output_type": "execute_result"
    }
   ],
   "source": [
    "words.count()"
   ]
  },
  {
   "cell_type": "code",
   "execution_count": 74,
   "id": "21b52458-bcf5-4c9c-8574-196e4fa1f644",
   "metadata": {},
   "outputs": [
    {
     "data": {
      "text/plain": [
       "['Hello,',\n",
       " 'this',\n",
       " 'assignment',\n",
       " 'Subject',\n",
       " 'Big',\n",
       " 'new',\n",
       " 'line',\n",
       " 'added',\n",
       " 'to',\n",
       " 'text',\n",
       " 'file.',\n",
       " '1.',\n",
       " 'is',\n",
       " '5.',\n",
       " ':',\n",
       " 'data',\n",
       " 'This',\n",
       " 'a',\n",
       " 'the',\n",
       " 'NEW',\n",
       " 'LINE',\n",
       " '2']"
      ]
     },
     "execution_count": 74,
     "metadata": {},
     "output_type": "execute_result"
    }
   ],
   "source": [
    "words.distinct().collect()"
   ]
  },
  {
   "cell_type": "code",
   "execution_count": 76,
   "id": "240daa18-1040-4d1a-a86c-b439b1704674",
   "metadata": {},
   "outputs": [
    {
     "name": "stdout",
     "output_type": "stream",
     "text": [
      "+------------------------------------------+\n",
      "|value                                     |\n",
      "+------------------------------------------+\n",
      "|Hello, this is assignment 5.              |\n",
      "|Subject : Big data                        |\n",
      "|This is a new line added to the text file.|\n",
      "|This is a new line added to the text file.|\n",
      "|NEW LINE 1.                               |\n",
      "|NEW LINE 1.\\nNEW LINE 2                   |\n",
      "+------------------------------------------+\n",
      "\n"
     ]
    }
   ],
   "source": [
    "df.show(truncate=False)"
   ]
  },
  {
   "cell_type": "code",
   "execution_count": 82,
   "id": "593cdce0-0ae0-4e9d-95cb-23a80d9238b2",
   "metadata": {},
   "outputs": [],
   "source": [
    "student = [(100,\"Anushree\",22),(101,\"Sonali\",23),(102,\"Ekta\",23)]\n",
    "teacher = [(10,\"Smita\",\"ML\"),(11,\"Uma\",\"Placement\"),(12,\"Rasika\",\"DL\")]\n",
    "subject = [(1,\"Python\",10),(2,\"Maths\",10),(3,\"Stats\",11),(4,\"ML\",12),(5,\"DL\",12)]\n",
    "student_sub = [(100,1),(100,3),(100,4),(101,1),(101,4),(102,5),(100,5)]\n",
    "\n",
    "student_df = spark.createDataFrame(student,[\"rno\",\"sname\",\"age\"])"
   ]
  },
  {
   "cell_type": "code",
   "execution_count": 83,
   "id": "d0d005fd-91a6-4813-8bf3-4eecb8af40b8",
   "metadata": {},
   "outputs": [
    {
     "name": "stdout",
     "output_type": "stream",
     "text": [
      "+---+--------+---+\n",
      "|rno|   sname|age|\n",
      "+---+--------+---+\n",
      "|100|Anushree| 22|\n",
      "|101|  Sonali| 23|\n",
      "|102|    Ekta| 23|\n",
      "+---+--------+---+\n",
      "\n"
     ]
    }
   ],
   "source": [
    "student_df.show()"
   ]
  },
  {
   "cell_type": "code",
   "execution_count": 86,
   "id": "a686c6d0-b79c-4729-a477-d2cdad4e51af",
   "metadata": {},
   "outputs": [],
   "source": [
    "student_df = student_df.selectExpr(\"rno\",\"sname\",\"age + 5\")"
   ]
  },
  {
   "cell_type": "code",
   "execution_count": 87,
   "id": "831f1002-3c76-4862-81e9-36bcc1bde152",
   "metadata": {},
   "outputs": [
    {
     "name": "stdout",
     "output_type": "stream",
     "text": [
      "+---+--------+---------+\n",
      "|rno|   sname|(age + 5)|\n",
      "+---+--------+---------+\n",
      "|100|Anushree|       27|\n",
      "|101|  Sonali|       28|\n",
      "|102|    Ekta|       28|\n",
      "+---+--------+---------+\n",
      "\n"
     ]
    }
   ],
   "source": [
    "student_df.show()"
   ]
  },
  {
   "cell_type": "markdown",
   "id": "b3ec1712-1a63-479a-919f-8d0662b3f19b",
   "metadata": {},
   "source": [
    "## New"
   ]
  },
  {
   "cell_type": "code",
   "execution_count": 2,
   "id": "5892eaa6-8698-46af-9c6b-5153dee809bb",
   "metadata": {},
   "outputs": [
    {
     "data": {
      "text/html": [
       "\n",
       "        <div>\n",
       "            <p><b>SparkContext</b></p>\n",
       "\n",
       "            <p><a href=\"http://LAPTOP-H3OG4VTR.lan:4040\">Spark UI</a></p>\n",
       "\n",
       "            <dl>\n",
       "              <dt>Version</dt>\n",
       "                <dd><code>v3.5.1</code></dd>\n",
       "              <dt>Master</dt>\n",
       "                <dd><code>local[*]</code></dd>\n",
       "              <dt>AppName</dt>\n",
       "                <dd><code>new</code></dd>\n",
       "            </dl>\n",
       "        </div>\n",
       "        "
      ],
      "text/plain": [
       "<SparkContext master=local[*] appName=new>"
      ]
     },
     "execution_count": 2,
     "metadata": {},
     "output_type": "execute_result"
    }
   ],
   "source": [
    "import findspark\n",
    "findspark.init()\n",
    "import pyspark\n",
    "sc = pyspark.SparkContext(appName = \"new\")\n",
    "sc"
   ]
  },
  {
   "cell_type": "code",
   "execution_count": 3,
   "id": "6b51421d-7f41-47a6-85e4-c4e5b9b3d1bd",
   "metadata": {},
   "outputs": [],
   "source": [
    "from pyspark.sql import SparkSession\n",
    "from pyspark.sql.functions import *\n",
    "spark = SparkSession.builder.getOrCreate()"
   ]
  },
  {
   "cell_type": "code",
   "execution_count": 5,
   "id": "92de1ba3-03f7-44df-ab71-3f6d01431cc4",
   "metadata": {},
   "outputs": [],
   "source": [
    "student = [(100,\"Anushree\",22),(101,\"Sonali\",23),(102,\"Ekta\",23),(103,\"Riyansha\",24),(104,\"Pratik\",21)]\n",
    "student_df = spark.createDataFrame(student,[\"rno\",\"name\",\"age\"])"
   ]
  },
  {
   "cell_type": "code",
   "execution_count": 6,
   "id": "80ab2645-c035-4d36-91c7-bc4965955f63",
   "metadata": {},
   "outputs": [
    {
     "name": "stdout",
     "output_type": "stream",
     "text": [
      "+---+--------+---+\n",
      "|rno|    name|age|\n",
      "+---+--------+---+\n",
      "|100|Anushree| 22|\n",
      "|101|  Sonali| 23|\n",
      "|102|    Ekta| 23|\n",
      "|103|Riyansha| 24|\n",
      "|104|  Pratik| 21|\n",
      "+---+--------+---+\n",
      "\n"
     ]
    }
   ],
   "source": [
    "student_df.show()"
   ]
  },
  {
   "cell_type": "code",
   "execution_count": 7,
   "id": "837076e8-e722-4246-8823-b1c760fafbcd",
   "metadata": {},
   "outputs": [
    {
     "data": {
      "text/plain": [
       "5"
      ]
     },
     "execution_count": 7,
     "metadata": {},
     "output_type": "execute_result"
    }
   ],
   "source": [
    "student_df.count()"
   ]
  },
  {
   "cell_type": "code",
   "execution_count": 8,
   "id": "86f5bb90-64d0-47fd-bc04-7e748c08052c",
   "metadata": {},
   "outputs": [
    {
     "data": {
      "text/plain": [
       "['rno', 'name', 'age']"
      ]
     },
     "execution_count": 8,
     "metadata": {},
     "output_type": "execute_result"
    }
   ],
   "source": [
    "student_df.columns"
   ]
  },
  {
   "cell_type": "code",
   "execution_count": 9,
   "id": "e6b38c7f-3576-4190-819a-009019ca032f",
   "metadata": {},
   "outputs": [
    {
     "data": {
      "text/plain": [
       "[('rno', 'bigint'), ('name', 'string'), ('age', 'bigint')]"
      ]
     },
     "execution_count": 9,
     "metadata": {},
     "output_type": "execute_result"
    }
   ],
   "source": [
    "student_df.dtypes"
   ]
  },
  {
   "cell_type": "code",
   "execution_count": 10,
   "id": "0deec961-aa8d-455a-84c0-b3c2a01062a6",
   "metadata": {},
   "outputs": [
    {
     "name": "stdout",
     "output_type": "stream",
     "text": [
      "root\n",
      " |-- rno: long (nullable = true)\n",
      " |-- name: string (nullable = true)\n",
      " |-- age: long (nullable = true)\n",
      "\n"
     ]
    }
   ],
   "source": [
    "student_df.printSchema()"
   ]
  },
  {
   "cell_type": "code",
   "execution_count": 11,
   "id": "bc9d75da-a4b4-4b2b-91bd-fcf1b1a24aba",
   "metadata": {},
   "outputs": [
    {
     "name": "stdout",
     "output_type": "stream",
     "text": [
      "+---+---+\n",
      "|rno|age|\n",
      "+---+---+\n",
      "|100| 22|\n",
      "|101| 23|\n",
      "|102| 23|\n",
      "|103| 24|\n",
      "|104| 21|\n",
      "+---+---+\n",
      "\n"
     ]
    }
   ],
   "source": [
    "student_df.select([\"rno\",\"age\"]).show()"
   ]
  },
  {
   "cell_type": "code",
   "execution_count": 12,
   "id": "d66b59bc-eea4-4583-a17c-c13aeb0c4935",
   "metadata": {},
   "outputs": [
    {
     "name": "stdout",
     "output_type": "stream",
     "text": [
      "+---+--------+---+\n",
      "|rno|    name|age|\n",
      "+---+--------+---+\n",
      "|103|Riyansha| 24|\n",
      "+---+--------+---+\n",
      "\n"
     ]
    }
   ],
   "source": [
    "student_df.filter(student_df.age >23).show()"
   ]
  },
  {
   "cell_type": "code",
   "execution_count": 14,
   "id": "42d80d4c-d06b-4ac3-843a-60dfebfee6f9",
   "metadata": {},
   "outputs": [
    {
     "name": "stdout",
     "output_type": "stream",
     "text": [
      "+---+-----+\n",
      "|age|count|\n",
      "+---+-----+\n",
      "| 22|    1|\n",
      "| 23|    2|\n",
      "| 24|    1|\n",
      "| 21|    1|\n",
      "+---+-----+\n",
      "\n"
     ]
    }
   ],
   "source": [
    "student_df.groupBy(\"age\").count().show()"
   ]
  },
  {
   "cell_type": "code",
   "execution_count": 17,
   "id": "9552db86-a0d4-4a81-a3eb-b9a1802673fa",
   "metadata": {},
   "outputs": [
    {
     "name": "stdout",
     "output_type": "stream",
     "text": [
      "+--------+\n",
      "|avg(age)|\n",
      "+--------+\n",
      "|    22.6|\n",
      "+--------+\n",
      "\n"
     ]
    }
   ],
   "source": [
    "student_df.agg(avg(\"age\")).show()"
   ]
  },
  {
   "cell_type": "code",
   "execution_count": 18,
   "id": "c0a3b288-5e8b-407a-ae58-49acee3a0dbe",
   "metadata": {},
   "outputs": [
    {
     "name": "stdout",
     "output_type": "stream",
     "text": [
      "+-------+-------+\n",
      "|avg_age|sum_age|\n",
      "+-------+-------+\n",
      "|   22.6|    113|\n",
      "+-------+-------+\n",
      "\n"
     ]
    }
   ],
   "source": [
    "student_df.agg(avg(\"age\").alias(\"avg_age\"), sum(\"age\").alias(\"sum_age\")).show()"
   ]
  },
  {
   "cell_type": "code",
   "execution_count": 20,
   "id": "094538b1-ba62-47cf-97a6-d1ee257be0af",
   "metadata": {},
   "outputs": [
    {
     "name": "stdout",
     "output_type": "stream",
     "text": [
      "+---+-------+\n",
      "|age|new_age|\n",
      "+---+-------+\n",
      "| 22|     27|\n",
      "| 23|     28|\n",
      "| 23|     28|\n",
      "| 24|     29|\n",
      "| 21|     26|\n",
      "+---+-------+\n",
      "\n"
     ]
    }
   ],
   "source": [
    "student_df.selectExpr(\"age\",\"age + 5 as new_age\").show()"
   ]
  },
  {
   "cell_type": "code",
   "execution_count": 21,
   "id": "c3497411-77ce-49bd-884c-b6ce8032803d",
   "metadata": {},
   "outputs": [
    {
     "name": "stdout",
     "output_type": "stream",
     "text": [
      "+---+--------+---+\n",
      "|rno|    name|age|\n",
      "+---+--------+---+\n",
      "|100|Anushree| 22|\n",
      "|101|  Sonali| 23|\n",
      "|102|    Ekta| 23|\n",
      "|103|Riyansha| 24|\n",
      "|104|  Pratik| 21|\n",
      "+---+--------+---+\n",
      "\n"
     ]
    }
   ],
   "source": [
    "student_df.withColumnRenamed(\"sname\",\"name\").show()"
   ]
  },
  {
   "cell_type": "code",
   "execution_count": 22,
   "id": "d20b56b7-68b8-47fb-b8f8-43d8f7ffffb1",
   "metadata": {},
   "outputs": [
    {
     "name": "stdout",
     "output_type": "stream",
     "text": [
      "+---+------+---+\n",
      "|rno|  name|age|\n",
      "+---+------+---+\n",
      "|101|Sonali| 23|\n",
      "|102|  Ekta| 23|\n",
      "+---+------+---+\n",
      "\n"
     ]
    }
   ],
   "source": [
    "student_df.filter(student_df[\"age\"].like(\"%3\")).show()"
   ]
  },
  {
   "cell_type": "code",
   "execution_count": 26,
   "id": "a3d9a7a8-e8ce-44ca-9bcd-909464e470ca",
   "metadata": {},
   "outputs": [
    {
     "name": "stdout",
     "output_type": "stream",
     "text": [
      "+---+--------+----+\n",
      "|rno|    name| age|\n",
      "+---+--------+----+\n",
      "|100|Anushree|22.0|\n",
      "|101|  Sonali|23.0|\n",
      "|102|    Ekta|23.0|\n",
      "|103|Riyansha|24.0|\n",
      "|104|  Pratik|21.0|\n",
      "+---+--------+----+\n",
      "\n"
     ]
    }
   ],
   "source": [
    "student_df.withColumn(\"age\",col(\"age\").cast(\"float\")).show()"
   ]
  },
  {
   "cell_type": "code",
   "execution_count": 28,
   "id": "4559cf0d-b3ce-4acb-962e-4051156d53ea",
   "metadata": {},
   "outputs": [
    {
     "name": "stdout",
     "output_type": "stream",
     "text": [
      "+---+--------+---+----+\n",
      "|rno|    name|age|City|\n",
      "+---+--------+---+----+\n",
      "|100|Anushree| 22|Pune|\n",
      "|101|  Sonali| 23|Pune|\n",
      "|102|    Ekta| 23|Pune|\n",
      "|103|Riyansha| 24|Pune|\n",
      "|104|  Pratik| 21|Pune|\n",
      "+---+--------+---+----+\n",
      "\n"
     ]
    }
   ],
   "source": [
    "student_df.withColumn(\"City\",lit(\"Pune\")).show()"
   ]
  },
  {
   "cell_type": "code",
   "execution_count": 29,
   "id": "7c5c9c38-3f5e-4e2f-8bca-26b9411b6acf",
   "metadata": {},
   "outputs": [],
   "source": [
    "student_df.createOrReplaceTempView(\"student_view\")"
   ]
  },
  {
   "cell_type": "code",
   "execution_count": 30,
   "id": "20493145-af88-46ba-8c5a-f1af7f25e0ee",
   "metadata": {},
   "outputs": [
    {
     "name": "stdout",
     "output_type": "stream",
     "text": [
      "+---+--------+---+\n",
      "|rno|    name|age|\n",
      "+---+--------+---+\n",
      "|100|Anushree| 22|\n",
      "|101|  Sonali| 23|\n",
      "|102|    Ekta| 23|\n",
      "|103|Riyansha| 24|\n",
      "|104|  Pratik| 21|\n",
      "+---+--------+---+\n",
      "\n"
     ]
    }
   ],
   "source": [
    "spark.sql(\"select * from student_view\").show()"
   ]
  },
  {
   "cell_type": "code",
   "execution_count": 57,
   "id": "086f6d5f-3ec3-4a77-acaa-9fb58d6b8a30",
   "metadata": {},
   "outputs": [],
   "source": [
    "file = r\"D:\\Data Science\\abc.txt\"\n",
    "df = spark.read.text(file)"
   ]
  },
  {
   "cell_type": "code",
   "execution_count": 58,
   "id": "b45865b9-4d50-4834-98b9-4e2b4dc7bad7",
   "metadata": {},
   "outputs": [
    {
     "name": "stdout",
     "output_type": "stream",
     "text": [
      "+-------------------+\n",
      "|value              |\n",
      "+-------------------+\n",
      "|Hello all          |\n",
      "|this is a text file|\n",
      "|deva so many issues|\n",
      "+-------------------+\n",
      "\n"
     ]
    }
   ],
   "source": [
    "# print\n",
    "df.show(truncate = False)"
   ]
  },
  {
   "cell_type": "code",
   "execution_count": 59,
   "id": "56eef41a-84b7-4952-8a7b-43dbb276f66e",
   "metadata": {},
   "outputs": [],
   "source": [
    "from pyspark.sql import Row\n",
    "new_line = \"another new line 1\""
   ]
  },
  {
   "cell_type": "code",
   "execution_count": 60,
   "id": "71595920-326c-4a9c-b73d-cfbec6b75eb2",
   "metadata": {},
   "outputs": [],
   "source": [
    "df_new = spark.createDataFrame([Row(value = new_line)])"
   ]
  },
  {
   "cell_type": "code",
   "execution_count": 61,
   "id": "ab084af4-a6da-497f-86f0-ec996e754811",
   "metadata": {},
   "outputs": [],
   "source": [
    "df= df.union(df_new)"
   ]
  },
  {
   "cell_type": "code",
   "execution_count": 62,
   "id": "cbcdcefa-8a9b-4a65-a53b-d6ec2cfbfd14",
   "metadata": {},
   "outputs": [],
   "source": [
    "updated_lines = df.select(\"value\").rdd.flatMap(lambda x : x).collect()"
   ]
  },
  {
   "cell_type": "code",
   "execution_count": 63,
   "id": "1a86e90e-5c68-4abc-b8a3-3e891475dfd3",
   "metadata": {},
   "outputs": [],
   "source": [
    "with open(file,\"w\") as f:\n",
    "    for line in updated_lines:\n",
    "        f.write(line + \"\\n\")"
   ]
  },
  {
   "cell_type": "code",
   "execution_count": 64,
   "id": "0598030c-b1fd-4252-8f41-a793f3aae44d",
   "metadata": {},
   "outputs": [
    {
     "name": "stdout",
     "output_type": "stream",
     "text": [
      "+-------------------+\n",
      "|value              |\n",
      "+-------------------+\n",
      "|Hello all          |\n",
      "|this is a text file|\n",
      "|deva so many issues|\n",
      "|another new line 1 |\n",
      "|another new line 1 |\n",
      "+-------------------+\n",
      "\n"
     ]
    }
   ],
   "source": [
    "df.show(truncate = False)"
   ]
  },
  {
   "cell_type": "code",
   "execution_count": 66,
   "id": "e757ba7f-b7c7-4230-9dab-669b72f92533",
   "metadata": {},
   "outputs": [],
   "source": [
    "lines = sc.textFile(file)\n",
    "words = lines.flatMap(lambda line : line.split(\" \")).filter(lambda word : word.strip() != \"\")"
   ]
  },
  {
   "cell_type": "code",
   "execution_count": 68,
   "id": "2c0bb081-e1a5-4904-963b-be1d0ff2753c",
   "metadata": {},
   "outputs": [
    {
     "data": {
      "text/plain": [
       "15"
      ]
     },
     "execution_count": 68,
     "metadata": {},
     "output_type": "execute_result"
    }
   ],
   "source": [
    "words.count()"
   ]
  },
  {
   "cell_type": "code",
   "execution_count": 69,
   "id": "e31d18d2-d0a7-45be-bd2d-573f9cfd0dfa",
   "metadata": {},
   "outputs": [
    {
     "data": {
      "text/plain": [
       "['this',\n",
       " 'text',\n",
       " 'file',\n",
       " 'deva',\n",
       " 'so',\n",
       " 'issues',\n",
       " 'another',\n",
       " 'new',\n",
       " 'line',\n",
       " 'Hello',\n",
       " 'all',\n",
       " 'is',\n",
       " 'a',\n",
       " 'many',\n",
       " '1']"
      ]
     },
     "execution_count": 69,
     "metadata": {},
     "output_type": "execute_result"
    }
   ],
   "source": [
    "words.distinct().collect()"
   ]
  },
  {
   "cell_type": "code",
   "execution_count": 71,
   "id": "e6cb2ad3-f94d-43ba-8bd6-0a36c874be4c",
   "metadata": {},
   "outputs": [
    {
     "name": "stdout",
     "output_type": "stream",
     "text": [
      "+---+--------+---+\n",
      "|rno|    name|age|\n",
      "+---+--------+---+\n",
      "|100|Anushree| 22|\n",
      "|102|    Ekta| 23|\n",
      "|104|  Pratik| 21|\n",
      "|103|Riyansha| 24|\n",
      "|101|  Sonali| 23|\n",
      "+---+--------+---+\n",
      "\n"
     ]
    }
   ],
   "source": [
    "student_df.sort(\"name\").show()"
   ]
  },
  {
   "cell_type": "code",
   "execution_count": null,
   "id": "37fc019d-edc3-4faa-bf9d-ce073677bb74",
   "metadata": {},
   "outputs": [],
   "source": []
  }
 ],
 "metadata": {
  "kernelspec": {
   "display_name": "Python 3 (ipykernel)",
   "language": "python",
   "name": "python3"
  },
  "language_info": {
   "codemirror_mode": {
    "name": "ipython",
    "version": 3
   },
   "file_extension": ".py",
   "mimetype": "text/x-python",
   "name": "python",
   "nbconvert_exporter": "python",
   "pygments_lexer": "ipython3",
   "version": "3.11.7"
  }
 },
 "nbformat": 4,
 "nbformat_minor": 5
}
