{
 "cells": [
  {
   "cell_type": "code",
   "execution_count": 1,
   "id": "b1bc89ad-9149-4638-ab3b-e825924ecffa",
   "metadata": {},
   "outputs": [
    {
     "name": "stdout",
     "output_type": "stream",
     "text": [
      "Collecting findspark\n",
      "  Downloading findspark-2.0.1-py2.py3-none-any.whl.metadata (352 bytes)\n",
      "Downloading findspark-2.0.1-py2.py3-none-any.whl (4.4 kB)\n",
      "Installing collected packages: findspark\n",
      "Successfully installed findspark-2.0.1\n",
      "Note: you may need to restart the kernel to use updated packages.\n"
     ]
    }
   ],
   "source": [
    "pip install findspark"
   ]
  },
  {
   "cell_type": "code",
   "execution_count": 1,
   "id": "bb2b5b48-959d-489f-904e-d955a824c7ef",
   "metadata": {},
   "outputs": [],
   "source": [
    "import findspark"
   ]
  },
  {
   "cell_type": "code",
   "execution_count": 2,
   "id": "502aaa06-1d0f-49c1-b09c-91e64ff647ae",
   "metadata": {},
   "outputs": [],
   "source": [
    "findspark.init() #or put path of spark in the brackets"
   ]
  },
  {
   "cell_type": "code",
   "execution_count": 3,
   "id": "40410910-470e-46d1-aa16-b19b59fea17a",
   "metadata": {},
   "outputs": [],
   "source": [
    "import pyspark"
   ]
  },
  {
   "cell_type": "code",
   "execution_count": 4,
   "id": "7cbc0a63-e3f4-4762-95d7-5184b022a13d",
   "metadata": {},
   "outputs": [],
   "source": [
    "sc = pyspark.SparkContext(appName = \"MyApp\")"
   ]
  },
  {
   "cell_type": "code",
   "execution_count": 5,
   "id": "af075298-fb0b-421a-a5d1-e296e8c6f157",
   "metadata": {},
   "outputs": [
    {
     "data": {
      "text/html": [
       "\n",
       "        <div>\n",
       "            <p><b>SparkContext</b></p>\n",
       "\n",
       "            <p><a href=\"http://LAPTOP-H3OG4VTR.lan:4040\">Spark UI</a></p>\n",
       "\n",
       "            <dl>\n",
       "              <dt>Version</dt>\n",
       "                <dd><code>v3.5.1</code></dd>\n",
       "              <dt>Master</dt>\n",
       "                <dd><code>local[*]</code></dd>\n",
       "              <dt>AppName</dt>\n",
       "                <dd><code>MyApp</code></dd>\n",
       "            </dl>\n",
       "        </div>\n",
       "        "
      ],
      "text/plain": [
       "<SparkContext master=local[*] appName=MyApp>"
      ]
     },
     "execution_count": 5,
     "metadata": {},
     "output_type": "execute_result"
    }
   ],
   "source": [
    "sc"
   ]
  },
  {
   "cell_type": "code",
   "execution_count": 6,
   "id": "a1c5da92-d1cd-4824-b917-a1e7d1dec967",
   "metadata": {},
   "outputs": [],
   "source": [
    "from pyspark.sql import SparkSession\n",
    "from pyspark.sql.functions import *"
   ]
  },
  {
   "cell_type": "code",
   "execution_count": 7,
   "id": "e18cec13-b1db-4fc5-a04e-c67151d548c9",
   "metadata": {},
   "outputs": [],
   "source": [
    "#creating spark session\n",
    "spark = SparkSession.builder.getOrCreate()"
   ]
  },
  {
   "cell_type": "code",
   "execution_count": 10,
   "id": "c2514176-4c76-4cd8-ac96-f4187a2c05a6",
   "metadata": {},
   "outputs": [],
   "source": [
    "emp = [(1,'aa',101,34),(2,'gg',102,45),(3,'ty',101,32),(4,'sa',102,23)]\n",
    "dept = [(101,'cs'),(102,'ds')]"
   ]
  },
  {
   "cell_type": "code",
   "execution_count": 11,
   "id": "2474c844-26ff-4bac-9463-3b81ca9b0ef3",
   "metadata": {},
   "outputs": [
    {
     "name": "stdout",
     "output_type": "stream",
     "text": [
      "+---+----+---+---+\n",
      "|eno|name|dno|age|\n",
      "+---+----+---+---+\n",
      "|  1|  aa|101| 34|\n",
      "|  2|  gg|102| 45|\n",
      "|  3|  ty|101| 32|\n",
      "|  4|  sa|102| 23|\n",
      "+---+----+---+---+\n",
      "\n",
      "+---+-----+\n",
      "|dno|dname|\n",
      "+---+-----+\n",
      "|101|   cs|\n",
      "|102|   ds|\n",
      "+---+-----+\n",
      "\n"
     ]
    }
   ],
   "source": [
    "emp_df = spark.createDataFrame(emp,[\"eno\",\"name\",\"dno\",\"age\"])\n",
    "dept_df = spark.createDataFrame(dept,[\"dno\",\"dname\"])\n",
    "emp_df.show()\n",
    "dept_df.show()"
   ]
  },
  {
   "cell_type": "code",
   "execution_count": 12,
   "id": "54dd20cd-a499-4c87-9596-59e085ed05b2",
   "metadata": {},
   "outputs": [
    {
     "data": {
      "text/plain": [
       "[('eno', 'bigint'), ('name', 'string'), ('dno', 'bigint'), ('age', 'bigint')]"
      ]
     },
     "execution_count": 12,
     "metadata": {},
     "output_type": "execute_result"
    }
   ],
   "source": [
    "#retrive basic dataframe details \n",
    "emp_df.count()\n",
    "emp_df.columns\n",
    "emp_df.dtypes"
   ]
  },
  {
   "cell_type": "code",
   "execution_count": 13,
   "id": "e81b76a7-b5b2-415c-b40b-72bc8a92337e",
   "metadata": {},
   "outputs": [
    {
     "data": {
      "text/plain": [
       "4"
      ]
     },
     "execution_count": 13,
     "metadata": {},
     "output_type": "execute_result"
    }
   ],
   "source": [
    "emp_df.count()"
   ]
  },
  {
   "cell_type": "code",
   "execution_count": 16,
   "id": "a593bd07-65aa-4f18-b005-7d397a002912",
   "metadata": {},
   "outputs": [
    {
     "data": {
      "text/plain": [
       "StructType([StructField('eno', LongType(), True), StructField('name', StringType(), True), StructField('dno', LongType(), True), StructField('age', LongType(), True)])"
      ]
     },
     "execution_count": 16,
     "metadata": {},
     "output_type": "execute_result"
    }
   ],
   "source": [
    "emp_df.schema"
   ]
  },
  {
   "cell_type": "code",
   "execution_count": 17,
   "id": "49ccd77c-26f7-4a68-aa79-b219b8193c51",
   "metadata": {},
   "outputs": [
    {
     "name": "stdout",
     "output_type": "stream",
     "text": [
      "root\n",
      " |-- eno: long (nullable = true)\n",
      " |-- name: string (nullable = true)\n",
      " |-- dno: long (nullable = true)\n",
      " |-- age: long (nullable = true)\n",
      "\n"
     ]
    }
   ],
   "source": [
    "emp_df.printSchema()"
   ]
  },
  {
   "cell_type": "code",
   "execution_count": 19,
   "id": "f26eae6f-8586-41d3-96b0-0821590cd965",
   "metadata": {},
   "outputs": [
    {
     "name": "stdout",
     "output_type": "stream",
     "text": [
      "+---+----+\n",
      "|eno|name|\n",
      "+---+----+\n",
      "|  1|  aa|\n",
      "|  2|  gg|\n",
      "|  3|  ty|\n",
      "|  4|  sa|\n",
      "+---+----+\n",
      "\n"
     ]
    }
   ],
   "source": [
    "#retrive specific columns\n",
    "emp_df.select(\"eno\",\"name\").show()"
   ]
  },
  {
   "cell_type": "code",
   "execution_count": 21,
   "id": "777725dc-cbd7-49ce-92b6-bb283529165c",
   "metadata": {},
   "outputs": [
    {
     "name": "stdout",
     "output_type": "stream",
     "text": [
      "+---+----+---+---+\n",
      "|eno|name|dno|age|\n",
      "+---+----+---+---+\n",
      "|  1|  aa|101| 34|\n",
      "+---+----+---+---+\n",
      "\n"
     ]
    }
   ],
   "source": [
    "emp_df.filter(emp_df.eno==1).show()"
   ]
  },
  {
   "cell_type": "code",
   "execution_count": 22,
   "id": "78ab0c7d-e0f9-4ee8-bfd3-5bdeb7ae4d79",
   "metadata": {},
   "outputs": [
    {
     "name": "stdout",
     "output_type": "stream",
     "text": [
      "+---+----+---+---+\n",
      "|eno|name|dno|age|\n",
      "+---+----+---+---+\n",
      "|  1|  aa|101| 34|\n",
      "+---+----+---+---+\n",
      "\n"
     ]
    }
   ],
   "source": [
    "emp_df.filter(emp_df[\"eno\"]==1).show()"
   ]
  },
  {
   "cell_type": "code",
   "execution_count": 23,
   "id": "7ecc9820-5e0a-4a5f-bc75-17831cee160f",
   "metadata": {},
   "outputs": [
    {
     "name": "stdout",
     "output_type": "stream",
     "text": [
      "+---+-----+\n",
      "|dno|count|\n",
      "+---+-----+\n",
      "|101|    2|\n",
      "|102|    2|\n",
      "+---+-----+\n",
      "\n"
     ]
    }
   ],
   "source": [
    "emp_df.groupBy(\"dno\").count().show()"
   ]
  },
  {
   "cell_type": "code",
   "execution_count": 24,
   "id": "6d481253-3bec-4082-aa16-0e8f4bf7945f",
   "metadata": {},
   "outputs": [
    {
     "name": "stdout",
     "output_type": "stream",
     "text": [
      "+---+--------+\n",
      "|dno|avg(age)|\n",
      "+---+--------+\n",
      "|101|    33.0|\n",
      "|102|    34.0|\n",
      "+---+--------+\n",
      "\n"
     ]
    }
   ],
   "source": [
    "emp_df.groupBy(\"dno\").avg(\"age\").show()"
   ]
  },
  {
   "cell_type": "code",
   "execution_count": 25,
   "id": "06530969-9016-451d-b679-acac480abc27",
   "metadata": {},
   "outputs": [
    {
     "name": "stdout",
     "output_type": "stream",
     "text": [
      "+---+---------+-------+\n",
      "|dno|age_count|avg_age|\n",
      "+---+---------+-------+\n",
      "|101|        2|   33.0|\n",
      "|102|        2|   34.0|\n",
      "+---+---------+-------+\n",
      "\n"
     ]
    }
   ],
   "source": [
    "(emp_df.groupBy(\"dno\").agg(count(\"age\").alias(\"age_count\"),\n",
    "                           avg(\"age\").alias(\"avg_age\")\n",
    "                          ).show()\n",
    ")"
   ]
  },
  {
   "cell_type": "code",
   "execution_count": 26,
   "id": "93ca78b3-ee55-4a57-b5ed-b393af63e6bd",
   "metadata": {},
   "outputs": [
    {
     "name": "stdout",
     "output_type": "stream",
     "text": [
      "+---+----+---+---+\n",
      "|eno|name|dno|age|\n",
      "+---+----+---+---+\n",
      "|  4|  sa|102| 23|\n",
      "|  3|  ty|101| 32|\n",
      "|  1|  aa|101| 34|\n",
      "|  2|  gg|102| 45|\n",
      "+---+----+---+---+\n",
      "\n"
     ]
    }
   ],
   "source": [
    "emp_df.sort(\"age\").show()\n",
    "#check for descending order"
   ]
  },
  {
   "cell_type": "code",
   "execution_count": 28,
   "id": "0e85d476-0fe3-4c7e-bc2a-24f3c1ee3b2f",
   "metadata": {},
   "outputs": [
    {
     "name": "stdout",
     "output_type": "stream",
     "text": [
      "+----+-------+\n",
      "|name|new_age|\n",
      "+----+-------+\n",
      "|  aa|     39|\n",
      "|  gg|     50|\n",
      "|  ty|     37|\n",
      "|  sa|     28|\n",
      "+----+-------+\n",
      "\n"
     ]
    }
   ],
   "source": [
    "#use of expressions\n",
    "emp_df_new = emp_df.selectExpr(\"name\",\"age + 5 as new_age\")\n",
    "emp_df_new.show()"
   ]
  },
  {
   "cell_type": "code",
   "execution_count": 30,
   "id": "8263d2a0-b28c-416d-b33f-259a5806f8a9",
   "metadata": {},
   "outputs": [
    {
     "name": "stdout",
     "output_type": "stream",
     "text": [
      "+---+----+---+---+\n",
      "|eno|name|dno|age|\n",
      "+---+----+---+---+\n",
      "|  1|  aa|101| 34|\n",
      "|  2|  gg|102| 45|\n",
      "|  3|  ty|101| 32|\n",
      "+---+----+---+---+\n",
      "\n"
     ]
    }
   ],
   "source": [
    "emp_df.where(emp_df.age>30).show()"
   ]
  },
  {
   "cell_type": "code",
   "execution_count": 31,
   "id": "7bfb9161-041b-4138-b386-d0aee080ec11",
   "metadata": {},
   "outputs": [
    {
     "name": "stdout",
     "output_type": "stream",
     "text": [
      "+--------+-------+\n",
      "|emp_name|new_age|\n",
      "+--------+-------+\n",
      "|      aa|     39|\n",
      "|      gg|     50|\n",
      "|      ty|     37|\n",
      "|      sa|     28|\n",
      "+--------+-------+\n",
      "\n"
     ]
    }
   ],
   "source": [
    "emp_df_new.withColumnRenamed(\"name\",\"emp_name\").show()"
   ]
  },
  {
   "cell_type": "code",
   "execution_count": 33,
   "id": "8bb12847-3d00-4aa5-9b24-2ce8d8a559db",
   "metadata": {},
   "outputs": [
    {
     "name": "stdout",
     "output_type": "stream",
     "text": [
      "+---+----+---+---+-------+---------+\n",
      "|eno|name|dno|age|eno_new|eno_new_2|\n",
      "+---+----+---+---+-------+---------+\n",
      "|  1|  aa|101| 34|      3|        4|\n",
      "|  2|  gg|102| 45|      4|        5|\n",
      "|  3|  ty|101| 32|      5|        6|\n",
      "|  4|  sa|102| 23|      6|        7|\n",
      "+---+----+---+---+-------+---------+\n",
      "\n"
     ]
    }
   ],
   "source": [
    "# withColumns() if you want to make changes on multiple columns\n",
    "\n",
    "emp_df.withColumns({'eno_new':emp_df.eno + 2,'eno_new_2':emp_df.eno+3}).show()"
   ]
  },
  {
   "cell_type": "code",
   "execution_count": 34,
   "id": "f3e9db9d-3d98-4a2d-8deb-200946e47a8b",
   "metadata": {},
   "outputs": [
    {
     "name": "stdout",
     "output_type": "stream",
     "text": [
      "+---+----+---+---+----+\n",
      "|eno|name|dno|age|city|\n",
      "+---+----+---+---+----+\n",
      "|  1|  aa|101| 34|Pune|\n",
      "|  2|  gg|102| 45|Pune|\n",
      "|  3|  ty|101| 32|Pune|\n",
      "|  4|  sa|102| 23|Pune|\n",
      "+---+----+---+---+----+\n",
      "\n"
     ]
    }
   ],
   "source": [
    "emp_city=emp_df.withColumn('city', lit('Pune'))\n",
    "emp_city.show()"
   ]
  },
  {
   "cell_type": "code",
   "execution_count": 35,
   "id": "4474a737-ff41-45b2-8c34-1f7e340ff095",
   "metadata": {},
   "outputs": [
    {
     "name": "stdout",
     "output_type": "stream",
     "text": [
      "+---+----+---+---+---+-----+\n",
      "|eno|name|dno|age|dno|dname|\n",
      "+---+----+---+---+---+-----+\n",
      "|  1|  aa|101| 34|101|   cs|\n",
      "|  1|  aa|101| 34|102|   ds|\n",
      "|  2|  gg|102| 45|101|   cs|\n",
      "|  2|  gg|102| 45|102|   ds|\n",
      "|  3|  ty|101| 32|101|   cs|\n",
      "|  3|  ty|101| 32|102|   ds|\n",
      "|  4|  sa|102| 23|101|   cs|\n",
      "|  4|  sa|102| 23|102|   ds|\n",
      "+---+----+---+---+---+-----+\n",
      "\n"
     ]
    }
   ],
   "source": [
    "# join , merge\n",
    "\n",
    "emp_df.join(dept_df).show()"
   ]
  },
  {
   "cell_type": "code",
   "execution_count": 36,
   "id": "a5ae7426-d852-4349-9aee-56e02ad7a21e",
   "metadata": {},
   "outputs": [
    {
     "name": "stdout",
     "output_type": "stream",
     "text": [
      "+---+----+---+---+---+-----+\n",
      "|eno|name|dno|age|dno|dname|\n",
      "+---+----+---+---+---+-----+\n",
      "|  1|  aa|101| 34|101|   cs|\n",
      "|  3|  ty|101| 32|101|   cs|\n",
      "|  2|  gg|102| 45|102|   ds|\n",
      "|  4|  sa|102| 23|102|   ds|\n",
      "+---+----+---+---+---+-----+\n",
      "\n"
     ]
    }
   ],
   "source": [
    "emp_df.join(dept_df, emp_df[\"dno\"] == dept_df[\"dno\"]).show()"
   ]
  },
  {
   "cell_type": "markdown",
   "id": "50fdf16b-908a-43a4-83d1-3a86399e1bf2",
   "metadata": {},
   "source": [
    "### Assignment 1:"
   ]
  },
  {
   "cell_type": "code",
   "execution_count": 2,
   "id": "caf96455-cae9-4361-94fa-7b02ba29893a",
   "metadata": {},
   "outputs": [],
   "source": [
    "import findspark\n",
    "findspark.init()"
   ]
  },
  {
   "cell_type": "code",
   "execution_count": 3,
   "id": "961c8691-3883-450b-8344-97a68105ab37",
   "metadata": {},
   "outputs": [],
   "source": [
    "import pyspark"
   ]
  },
  {
   "cell_type": "code",
   "execution_count": 4,
   "id": "66b2c821-a90f-42c1-9165-f66348f5771e",
   "metadata": {},
   "outputs": [
    {
     "data": {
      "text/html": [
       "\n",
       "        <div>\n",
       "            <p><b>SparkContext</b></p>\n",
       "\n",
       "            <p><a href=\"http://LAPTOP-H3OG4VTR:4040\">Spark UI</a></p>\n",
       "\n",
       "            <dl>\n",
       "              <dt>Version</dt>\n",
       "                <dd><code>v3.5.1</code></dd>\n",
       "              <dt>Master</dt>\n",
       "                <dd><code>local[*]</code></dd>\n",
       "              <dt>AppName</dt>\n",
       "                <dd><code>MyApp</code></dd>\n",
       "            </dl>\n",
       "        </div>\n",
       "        "
      ],
      "text/plain": [
       "<SparkContext master=local[*] appName=MyApp>"
      ]
     },
     "execution_count": 4,
     "metadata": {},
     "output_type": "execute_result"
    }
   ],
   "source": [
    "sc = pyspark.SparkContext(appName = \"MyApp\")\n",
    "sc"
   ]
  },
  {
   "cell_type": "code",
   "execution_count": 5,
   "id": "1ffff495-ca9a-438a-8ff9-beef711a396f",
   "metadata": {},
   "outputs": [],
   "source": [
    "from pyspark.sql import SparkSession\n",
    "from pyspark.sql.functions import *\n",
    "#creating spark session\n",
    "spark = SparkSession.builder.getOrCreate()"
   ]
  },
  {
   "cell_type": "markdown",
   "id": "d02c95ec-4c7f-497a-b9b4-3bd8e2dc6c36",
   "metadata": {},
   "source": [
    "#### Question 1\n",
    "\n",
    "Create a student dataframe with following details \n",
    "\n",
    "student(roll number, name, address, age, gender)\n",
    "\n",
    "class(class id, class name)\n",
    "\n",
    "- Add relavant records in both frames (minimum 5)\n",
    "  \n",
    "- display frames\n",
    "\n",
    "- display student names with gender = M and gender = F seperately\n",
    "\n",
    "- display students of specific class\n",
    "\n",
    "- display students whoes age>22\n",
    "\n",
    "- add new column grade to student df\n",
    "\n",
    "- display classnames and its associated students"
   ]
  },
  {
   "cell_type": "code",
   "execution_count": 37,
   "id": "1442fc5b-6e62-491c-81b4-8640b326cdec",
   "metadata": {},
   "outputs": [],
   "source": [
    "student = [(1,'aa','Pune',23,'F',100),(2,'gg','Mumbai',23,'M',100),(3,'ty','Pune',21,'F',101),(4,'sa','Nagpur',22,'M',100),(5,'ab','Pune',22,'M',101)]\n",
    "class_details = [(100,'cs'),(101,'ds')]"
   ]
  },
  {
   "cell_type": "code",
   "execution_count": 38,
   "id": "892bd744-2685-45ff-94b3-66d56a805d0f",
   "metadata": {},
   "outputs": [
    {
     "name": "stdout",
     "output_type": "stream",
     "text": [
      "+-----------+----+-------+---+------+--------+\n",
      "|roll_number|name|address|age|gender|class_id|\n",
      "+-----------+----+-------+---+------+--------+\n",
      "|          1|  aa|   Pune| 23|     F|     100|\n",
      "|          2|  gg| Mumbai| 23|     M|     100|\n",
      "|          3|  ty|   Pune| 21|     F|     101|\n",
      "|          4|  sa| Nagpur| 22|     M|     100|\n",
      "|          5|  ab|   Pune| 22|     M|     101|\n",
      "+-----------+----+-------+---+------+--------+\n",
      "\n",
      "+--------+----------+\n",
      "|class_id|class_name|\n",
      "+--------+----------+\n",
      "|     100|        cs|\n",
      "|     101|        ds|\n",
      "+--------+----------+\n",
      "\n"
     ]
    }
   ],
   "source": [
    "student_df = spark.createDataFrame(student,[\"roll_number\",\"name\",\"address\",\"age\",\"gender\",\"class_id\"])\n",
    "class_df = spark.createDataFrame(class_details,[\"class_id\",\"class_name\"])\n",
    "student_df.show()\n",
    "class_df.show()"
   ]
  },
  {
   "cell_type": "code",
   "execution_count": 39,
   "id": "bbd9a815-b0fb-47d8-9487-20a59c9ff206",
   "metadata": {},
   "outputs": [
    {
     "name": "stdout",
     "output_type": "stream",
     "text": [
      "+-----------+----+-------+---+------+--------+\n",
      "|roll_number|name|address|age|gender|class_id|\n",
      "+-----------+----+-------+---+------+--------+\n",
      "|          2|  gg| Mumbai| 23|     M|     100|\n",
      "|          4|  sa| Nagpur| 22|     M|     100|\n",
      "|          5|  ab|   Pune| 22|     M|     101|\n",
      "+-----------+----+-------+---+------+--------+\n",
      "\n"
     ]
    }
   ],
   "source": [
    "#display student names with gender = M and gender = F seperately\n",
    "\n",
    "student_df.filter(student_df[\"gender\"]=='M').show()"
   ]
  },
  {
   "cell_type": "code",
   "execution_count": 40,
   "id": "60a39f01-f5f2-49d5-88c3-89190eabb714",
   "metadata": {},
   "outputs": [
    {
     "name": "stdout",
     "output_type": "stream",
     "text": [
      "+-----------+----+-------+---+------+--------+\n",
      "|roll_number|name|address|age|gender|class_id|\n",
      "+-----------+----+-------+---+------+--------+\n",
      "|          1|  aa|   Pune| 23|     F|     100|\n",
      "|          3|  ty|   Pune| 21|     F|     101|\n",
      "+-----------+----+-------+---+------+--------+\n",
      "\n"
     ]
    }
   ],
   "source": [
    "student_df.filter(student_df[\"gender\"]=='F').show()"
   ]
  },
  {
   "cell_type": "code",
   "execution_count": 42,
   "id": "ea280cfb-f527-4ecd-95e7-63671d50628c",
   "metadata": {},
   "outputs": [
    {
     "name": "stdout",
     "output_type": "stream",
     "text": [
      "+-----------+----+-------+---+------+--------+\n",
      "|roll_number|name|address|age|gender|class_id|\n",
      "+-----------+----+-------+---+------+--------+\n",
      "|          1|  aa|   Pune| 23|     F|     100|\n",
      "|          2|  gg| Mumbai| 23|     M|     100|\n",
      "|          4|  sa| Nagpur| 22|     M|     100|\n",
      "+-----------+----+-------+---+------+--------+\n",
      "\n"
     ]
    }
   ],
   "source": [
    "#display students of specific class\n",
    "\n",
    "student_df.where(student_df.class_id == 100).show()"
   ]
  },
  {
   "cell_type": "code",
   "execution_count": 43,
   "id": "a6bc34d3-cacc-412b-a1cf-69b0a4a9031c",
   "metadata": {},
   "outputs": [
    {
     "name": "stdout",
     "output_type": "stream",
     "text": [
      "+-----------+----+-------+---+------+--------+\n",
      "|roll_number|name|address|age|gender|class_id|\n",
      "+-----------+----+-------+---+------+--------+\n",
      "|          1|  aa|   Pune| 23|     F|     100|\n",
      "|          2|  gg| Mumbai| 23|     M|     100|\n",
      "+-----------+----+-------+---+------+--------+\n",
      "\n"
     ]
    }
   ],
   "source": [
    "#display students whoes age>22\n",
    "student_df.where(student_df.age>22).show()"
   ]
  },
  {
   "cell_type": "code",
   "execution_count": 45,
   "id": "fa41677c-b499-4b2a-9b77-8aea912ecacf",
   "metadata": {},
   "outputs": [
    {
     "name": "stdout",
     "output_type": "stream",
     "text": [
      "+-----------+----+-------+---+------+--------+-----+\n",
      "|roll_number|name|address|age|gender|class_id|grade|\n",
      "+-----------+----+-------+---+------+--------+-----+\n",
      "|          1|  aa|   Pune| 23|     F|     100|    A|\n",
      "|          2|  gg| Mumbai| 23|     M|     100|    A|\n",
      "|          3|  ty|   Pune| 21|     F|     101|    A|\n",
      "|          4|  sa| Nagpur| 22|     M|     100|    A|\n",
      "|          5|  ab|   Pune| 22|     M|     101|    A|\n",
      "+-----------+----+-------+---+------+--------+-----+\n",
      "\n"
     ]
    }
   ],
   "source": [
    "#add new column grade to student df\n",
    "student_df.withColumn('grade', lit('A')).show()"
   ]
  },
  {
   "cell_type": "code",
   "execution_count": 46,
   "id": "b7443347-7cfa-4cef-9258-59c965019a8b",
   "metadata": {},
   "outputs": [
    {
     "name": "stdout",
     "output_type": "stream",
     "text": [
      "+-----------+----+-------+---+------+--------+--------+----------+\n",
      "|roll_number|name|address|age|gender|class_id|class_id|class_name|\n",
      "+-----------+----+-------+---+------+--------+--------+----------+\n",
      "|          1|  aa|   Pune| 23|     F|     100|     100|        cs|\n",
      "|          2|  gg| Mumbai| 23|     M|     100|     100|        cs|\n",
      "|          4|  sa| Nagpur| 22|     M|     100|     100|        cs|\n",
      "|          3|  ty|   Pune| 21|     F|     101|     101|        ds|\n",
      "|          5|  ab|   Pune| 22|     M|     101|     101|        ds|\n",
      "+-----------+----+-------+---+------+--------+--------+----------+\n",
      "\n"
     ]
    }
   ],
   "source": [
    "#display classnames and its associated students\n",
    "student_df.join(class_df,student_df['class_id']==class_df['class_id']).show()"
   ]
  },
  {
   "cell_type": "markdown",
   "id": "a1e281ea-3f20-4ba8-9c9d-7bdf1cb278ae",
   "metadata": {},
   "source": [
    "### Assignment 1\n",
    "#### Question2\r\n",
    "Create  dataframes \r\n",
    "emp (eno , ename , gender, designation, city, salary, dno)  \r\n",
    "dept(dno, dna\n",
    "m    - e)\r\n",
    "Insert 5 records in each f\n",
    "    r    - ame\r\n",
    "Print the schema for both datafr    \n",
    "    - ames\r\n",
    "Filter emp dataframe based on designation, salary respect    \n",
    "    - ively\r\n",
    "Show data of departments for female emp    \n",
    "    - loyees\r\n",
    "Increase salary of employee whose designation is     \n",
    "    - nager\r\n",
    "\r\n",
    "\r\n",
    "Add 3 more records to each     \n",
    "    - dataframe \r\n",
    "Show the print schema for both    \n",
    "    -  dataframes\r\n",
    "Show the use of  join in order to fetch uni    \n",
    "    - que records \r\n",
    "Show department wise List     \n",
    "    - of employees \r\n",
    "List of employees whose salary is less than 20000 and dgnation is “   ___”\r\n"
   ]
  },
  {
   "cell_type": "code",
   "execution_count": 10,
   "id": "c56fc2fd-d05e-4b59-884c-c2605083ef98",
   "metadata": {},
   "outputs": [],
   "source": [
    "#Insert 5 records in each frame\n",
    "employee = [(1,'ram','M','Manager','Pune',100000,100),(2,'rama','F','Senior developer','Pune',150000,100),\n",
    "            (3,'neha','F','Developer','Mumbai',80000,101),(4,'parth','M','Analyst','Pune',100000,102),(5,'raj','M','Analyst','Mumbai',80000,103)]\n",
    "department = [(100,'sales'),(101,'IT'),(102,'HR'),(103,'Accounting')]"
   ]
  },
  {
   "cell_type": "code",
   "execution_count": 11,
   "id": "67b9fa94-6fe3-40ec-8e4d-7c86742fea30",
   "metadata": {},
   "outputs": [
    {
     "name": "stdout",
     "output_type": "stream",
     "text": [
      "+---+-----+------+----------------+------+------+---+\n",
      "|eno|ename|gender|     designation|  city|salary|dno|\n",
      "+---+-----+------+----------------+------+------+---+\n",
      "|  1|  ram|     M|         Manager|  Pune|100000|100|\n",
      "|  2| rama|     F|Senior developer|  Pune|150000|100|\n",
      "|  3| neha|     F|       Developer|Mumbai| 80000|101|\n",
      "|  4|parth|     M|         Analyst|  Pune|100000|102|\n",
      "|  5|  raj|     M|         Analyst|Mumbai| 80000|103|\n",
      "+---+-----+------+----------------+------+------+---+\n",
      "\n",
      "+---+----------+\n",
      "|dno|     dname|\n",
      "+---+----------+\n",
      "|100|     sales|\n",
      "|101|        IT|\n",
      "|102|        HR|\n",
      "|103|Accounting|\n",
      "+---+----------+\n",
      "\n"
     ]
    }
   ],
   "source": [
    "emp = spark.createDataFrame(employee,[\"eno\",\"ename\",\"gender\",\"designation\",\"city\",\"salary\",\"dno\"])\n",
    "dept = spark.createDataFrame(department,[\"dno\",\"dname\"])\n",
    "emp.show()\n",
    "dept.show()"
   ]
  },
  {
   "cell_type": "code",
   "execution_count": 14,
   "id": "23d72a15-bc41-407a-a66e-af2a7bba9240",
   "metadata": {},
   "outputs": [
    {
     "data": {
      "text/plain": [
       "StructType([StructField('eno', LongType(), True), StructField('ename', StringType(), True), StructField('gender', StringType(), True), StructField('designation', StringType(), True), StructField('city', StringType(), True), StructField('salary', LongType(), True), StructField('dno', LongType(), True)])"
      ]
     },
     "execution_count": 14,
     "metadata": {},
     "output_type": "execute_result"
    }
   ],
   "source": [
    "# display schema for both tables \n",
    "\n",
    "#schema for employee\n",
    "emp.schema"
   ]
  },
  {
   "cell_type": "code",
   "execution_count": 15,
   "id": "18bbba33-c33e-4aa1-8538-7b6caddc4052",
   "metadata": {},
   "outputs": [
    {
     "data": {
      "text/plain": [
       "StructType([StructField('dno', LongType(), True), StructField('dname', StringType(), True)])"
      ]
     },
     "execution_count": 15,
     "metadata": {},
     "output_type": "execute_result"
    }
   ],
   "source": [
    "#schema for department\n",
    "dept.schema"
   ]
  },
  {
   "cell_type": "code",
   "execution_count": 17,
   "id": "db19d12d-5ceb-45b9-996a-f664341d4354",
   "metadata": {},
   "outputs": [
    {
     "name": "stdout",
     "output_type": "stream",
     "text": [
      "+---+-----+------+-----------+------+------+---+\n",
      "|eno|ename|gender|designation|  city|salary|dno|\n",
      "+---+-----+------+-----------+------+------+---+\n",
      "|  4|parth|     M|    Analyst|  Pune|100000|102|\n",
      "|  5|  raj|     M|    Analyst|Mumbai| 80000|103|\n",
      "+---+-----+------+-----------+------+------+---+\n",
      "\n"
     ]
    }
   ],
   "source": [
    "# Filter emp dataframe based on designation, salary respectively\n",
    "emp.filter(emp[\"designation\"]=='Analyst').show()"
   ]
  },
  {
   "cell_type": "code",
   "execution_count": 18,
   "id": "1fa6606b-5ca5-4904-8e99-a6a753646ef9",
   "metadata": {},
   "outputs": [
    {
     "name": "stdout",
     "output_type": "stream",
     "text": [
      "+---+-----+------+-----------+----+------+---+\n",
      "|eno|ename|gender|designation|city|salary|dno|\n",
      "+---+-----+------+-----------+----+------+---+\n",
      "|  1|  ram|     M|    Manager|Pune|100000|100|\n",
      "|  4|parth|     M|    Analyst|Pune|100000|102|\n",
      "+---+-----+------+-----------+----+------+---+\n",
      "\n"
     ]
    }
   ],
   "source": [
    "emp.filter(emp[\"salary\"]==100000).show()"
   ]
  },
  {
   "cell_type": "code",
   "execution_count": 20,
   "id": "cc6b4173-8f61-4815-a566-9e319d6efff2",
   "metadata": {},
   "outputs": [
    {
     "name": "stdout",
     "output_type": "stream",
     "text": [
      "+---+-----+------+----------------+------+------+---+---+-----+\n",
      "|eno|ename|gender|     designation|  city|salary|dno|dno|dname|\n",
      "+---+-----+------+----------------+------+------+---+---+-----+\n",
      "|  2| rama|     F|Senior developer|  Pune|150000|100|100|sales|\n",
      "|  3| neha|     F|       Developer|Mumbai| 80000|101|101|   IT|\n",
      "+---+-----+------+----------------+------+------+---+---+-----+\n",
      "\n"
     ]
    }
   ],
   "source": [
    "#Show data of departments for female employees\n",
    "emp.join(dept, emp[\"dno\"] == dept[\"dno\"]).where(emp[\"gender\"]=='F').show()"
   ]
  },
  {
   "cell_type": "code",
   "execution_count": 23,
   "id": "ce786dee-dc61-4b33-a738-ec314e558467",
   "metadata": {},
   "outputs": [
    {
     "name": "stdout",
     "output_type": "stream",
     "text": [
      "+-----+-----------+-----------+\n",
      "|ename|designation|updated_sal|\n",
      "+-----+-----------+-----------+\n",
      "|  ram|    Manager|     105000|\n",
      "+-----+-----------+-----------+\n",
      "\n"
     ]
    }
   ],
   "source": [
    "#Increase salary of employee whose designation is manager\n",
    "\n",
    "emp.selectExpr(\"ename\",\"designation\",\"salary + 5000 as updated_sal\").where(emp[\"designation\"]==\"Manager\").show()"
   ]
  },
  {
   "cell_type": "code",
   "execution_count": 30,
   "id": "013040c0-b7e9-4e6b-aacc-82966163ec03",
   "metadata": {},
   "outputs": [],
   "source": [
    "# add 3 more records to dataframe\n",
    "\n",
    "new_rows = spark.createDataFrame([(6,\"ekta\",\"F\",\"Analyst\",\"Mumbai\",80000,100),\n",
    "                                  (7,\"raja\",\"M\",\"Senior Analyst\",\"Mumbai\",80000,100),\n",
    "                                  (8,\"sona\",\"F\",\"Analyst\",\"Mumbai\",80000,101)])"
   ]
  },
  {
   "cell_type": "code",
   "execution_count": 31,
   "id": "68e3faa9-50eb-4e38-81ab-15cf4e2b058b",
   "metadata": {},
   "outputs": [],
   "source": [
    "emp_df = emp.union(new_rows)"
   ]
  },
  {
   "cell_type": "code",
   "execution_count": 32,
   "id": "f46c3bdc-89e7-4aa5-aaa6-9d3b29d027a2",
   "metadata": {},
   "outputs": [
    {
     "name": "stdout",
     "output_type": "stream",
     "text": [
      "+---+-----+------+----------------+------+------+---+\n",
      "|eno|ename|gender|     designation|  city|salary|dno|\n",
      "+---+-----+------+----------------+------+------+---+\n",
      "|  1|  ram|     M|         Manager|  Pune|100000|100|\n",
      "|  2| rama|     F|Senior developer|  Pune|150000|100|\n",
      "|  3| neha|     F|       Developer|Mumbai| 80000|101|\n",
      "|  4|parth|     M|         Analyst|  Pune|100000|102|\n",
      "|  5|  raj|     M|         Analyst|Mumbai| 80000|103|\n",
      "|  6| ekta|     F|         Analyst|Mumbai| 80000|100|\n",
      "|  7| raja|     M|  Senior Analyst|Mumbai| 80000|100|\n",
      "|  8| sona|     F|         Analyst|Mumbai| 80000|101|\n",
      "+---+-----+------+----------------+------+------+---+\n",
      "\n"
     ]
    }
   ],
   "source": [
    "emp_df.show()"
   ]
  },
  {
   "cell_type": "code",
   "execution_count": 33,
   "id": "e88a8d05-2470-46c3-8ed6-79039ab9bda8",
   "metadata": {},
   "outputs": [],
   "source": [
    "new_rows = spark.createDataFrame([(104,\"aa\"),(105,\"bb\")])"
   ]
  },
  {
   "cell_type": "code",
   "execution_count": 34,
   "id": "7a1a9c34-71e0-4a9c-b807-25ef9ac1ff21",
   "metadata": {},
   "outputs": [],
   "source": [
    "dept_df = dept.union(new_rows)"
   ]
  },
  {
   "cell_type": "code",
   "execution_count": 36,
   "id": "2ffb8422-8b8b-4d62-8558-b84f80c0f608",
   "metadata": {},
   "outputs": [
    {
     "name": "stdout",
     "output_type": "stream",
     "text": [
      "+---+----------+\n",
      "|dno|     dname|\n",
      "+---+----------+\n",
      "|100|     sales|\n",
      "|101|        IT|\n",
      "|102|        HR|\n",
      "|103|Accounting|\n",
      "|104|        aa|\n",
      "|105|        bb|\n",
      "+---+----------+\n",
      "\n"
     ]
    }
   ],
   "source": [
    "dept_df.show()"
   ]
  },
  {
   "cell_type": "code",
   "execution_count": 37,
   "id": "b032ba26-18a5-41f2-bc22-05c7ff74fc82",
   "metadata": {},
   "outputs": [
    {
     "name": "stdout",
     "output_type": "stream",
     "text": [
      "root\n",
      " |-- eno: long (nullable = true)\n",
      " |-- ename: string (nullable = true)\n",
      " |-- gender: string (nullable = true)\n",
      " |-- designation: string (nullable = true)\n",
      " |-- city: string (nullable = true)\n",
      " |-- salary: long (nullable = true)\n",
      " |-- dno: long (nullable = true)\n",
      "\n"
     ]
    }
   ],
   "source": [
    "emp_df.printSchema()"
   ]
  },
  {
   "cell_type": "code",
   "execution_count": 38,
   "id": "3b0741d9-b262-40eb-9a24-c524207785e2",
   "metadata": {},
   "outputs": [
    {
     "name": "stdout",
     "output_type": "stream",
     "text": [
      "root\n",
      " |-- dno: long (nullable = true)\n",
      " |-- dname: string (nullable = true)\n",
      "\n"
     ]
    }
   ],
   "source": [
    "dept_df.printSchema()"
   ]
  },
  {
   "cell_type": "code",
   "execution_count": 39,
   "id": "aa71511c-2f7b-4797-ae07-a167e0ac1bfd",
   "metadata": {},
   "outputs": [
    {
     "name": "stdout",
     "output_type": "stream",
     "text": [
      "+---+-----+------+-----------+------+------+---+\n",
      "|eno|ename|gender|designation|  city|salary|dno|\n",
      "+---+-----+------+-----------+------+------+---+\n",
      "|  5|  raj|     M|    Analyst|Mumbai| 80000|103|\n",
      "|  6| ekta|     F|    Analyst|Mumbai| 80000|100|\n",
      "|  8| sona|     F|    Analyst|Mumbai| 80000|101|\n",
      "+---+-----+------+-----------+------+------+---+\n",
      "\n"
     ]
    }
   ],
   "source": [
    "#List of employees whose salary is less than 100000 and dgnation is “ Analyst”\n",
    "\n",
    "emp_df.where(emp_df[\"salary\"]<100000).filter(emp_df[\"designation\"]==\"Analyst\").show()"
   ]
  },
  {
   "cell_type": "markdown",
   "id": "862da5dc-0385-4801-822a-066a7a4da2ee",
   "metadata": {},
   "source": [
    "### Assignment 1\n",
    "#### Question 3\n",
    "\n",
    "Consider daily product revenue data \r\n",
    "Product - product_id, pname, ptype, price\r\n",
    "\r\n",
    "Customer - cust_id, cname, mobileno, city\r\n",
    "\r\n",
    "orders – order_id, order_date, order_customer_id, order_status\r\n",
    "\r\n",
    "order_items –  order_item_order_id, order_item_product_id, order_item_quantity, \r\n",
    "order_item_subtotal\r\n"
   ]
  },
  {
   "cell_type": "code",
   "execution_count": 6,
   "id": "b852d61c-10de-45f8-bd7c-d83f8820b360",
   "metadata": {},
   "outputs": [],
   "source": [
    "product_data = [\n",
    "    (1, \"ProductA\", \"Type1\", 100.0),\n",
    "    (2, \"ProductB\", \"Type2\", 150.0),\n",
    "    (3, \"ProductC\", \"Type1\", 200.0)\n",
    "]\n",
    "customer_data = [\n",
    "    (1, \"CustomerA\", \"1234567890\", \"Pune\"),\n",
    "    (2, \"CustomerB\", \"0987654321\", \"Mumbai\"),\n",
    "    (3, \"CustomerC\", \"1122334455\", \"Pune\")\n",
    "]\n",
    "orders_data = [\n",
    "    (1, \"2013-08-01\", 1, \"COMPLETE\"),\n",
    "    (2, \"2013-08-01\", 2, \"CLOSED\"),\n",
    "    (3, \"2013-09-01\", 3, \"PENDING\")\n",
    "]\n",
    "order_items_data = [\n",
    "    (1, 1, 2, 200.0),\n",
    "    (2, 2, 1, 150.0),\n",
    "    (3, 3, 3, 600.0)\n",
    "]"
   ]
  },
  {
   "cell_type": "code",
   "execution_count": 7,
   "id": "49ad50fe-cf28-4475-bff6-145b3ea5545b",
   "metadata": {},
   "outputs": [],
   "source": [
    "products_df = spark.createDataFrame(product_data, [\"product_id\",\"product_name\",\"p_type\",\"price\"])"
   ]
  },
  {
   "cell_type": "code",
   "execution_count": 8,
   "id": "a3b17446-f98a-4f2e-8411-6d9dc0c93689",
   "metadata": {},
   "outputs": [],
   "source": [
    "customers_df = spark.createDataFrame(customer_data, [\"cust_id\",\"cust_name\",\"mobile\",\"city\"])\n",
    "orders_df = spark.createDataFrame(orders_data, [\"order_id\",\"order_date\",\"order_customer_id\",\"status\"])\n",
    "order_items_df = spark.createDataFrame(order_items_data, [\"order_item_order_id\",\"order_item_product_id\",\"order_item_quantity\",\"order_item_subtotal\"])"
   ]
  },
  {
   "cell_type": "code",
   "execution_count": 9,
   "id": "b2e28d8f-e905-4197-85f3-fd04c942b4b7",
   "metadata": {},
   "outputs": [
    {
     "name": "stdout",
     "output_type": "stream",
     "text": [
      "+----------+------------+------+-----+\n",
      "|product_id|product_name|p_type|price|\n",
      "+----------+------------+------+-----+\n",
      "|         1|    ProductA| Type1|100.0|\n",
      "|         2|    ProductB| Type2|150.0|\n",
      "|         3|    ProductC| Type1|200.0|\n",
      "+----------+------------+------+-----+\n",
      "\n"
     ]
    }
   ],
   "source": [
    "products_df.show()"
   ]
  },
  {
   "cell_type": "code",
   "execution_count": 10,
   "id": "0b0a2f28-fbf4-4fae-937e-1b683e6c4a2a",
   "metadata": {},
   "outputs": [
    {
     "name": "stdout",
     "output_type": "stream",
     "text": [
      "+--------+----------+-----------------+--------+\n",
      "|order_id|order_date|order_customer_id|  status|\n",
      "+--------+----------+-----------------+--------+\n",
      "|       1|2013-08-01|                1|COMPLETE|\n",
      "|       2|2013-08-01|                2|  CLOSED|\n",
      "|       3|2013-09-01|                3| PENDING|\n",
      "+--------+----------+-----------------+--------+\n",
      "\n"
     ]
    }
   ],
   "source": [
    "orders_df.show()"
   ]
  },
  {
   "cell_type": "code",
   "execution_count": 13,
   "id": "391a1749-53d3-42d6-bdb7-e6c220be2ae0",
   "metadata": {},
   "outputs": [
    {
     "name": "stdout",
     "output_type": "stream",
     "text": [
      "+-------------------+---------------------+-------------------+-------------------+\n",
      "|order_item_order_id|order_item_product_id|order_item_quantity|order_item_subtotal|\n",
      "+-------------------+---------------------+-------------------+-------------------+\n",
      "|                  1|                    1|                  2|              200.0|\n",
      "|                  2|                    2|                  1|              150.0|\n",
      "|                  3|                    3|                  3|              600.0|\n",
      "+-------------------+---------------------+-------------------+-------------------+\n",
      "\n"
     ]
    }
   ],
   "source": [
    "order_items_df.show()"
   ]
  },
  {
   "cell_type": "code",
   "execution_count": 14,
   "id": "2ba0b238-4276-49e6-994d-35d157709d43",
   "metadata": {},
   "outputs": [
    {
     "name": "stdout",
     "output_type": "stream",
     "text": [
      "+-------+---------+----------+------+\n",
      "|cust_id|cust_name|    mobile|  city|\n",
      "+-------+---------+----------+------+\n",
      "|      1|CustomerA|1234567890|  Pune|\n",
      "|      2|CustomerB|0987654321|Mumbai|\n",
      "|      3|CustomerC|1122334455|  Pune|\n",
      "+-------+---------+----------+------+\n",
      "\n"
     ]
    }
   ],
   "source": [
    "customers_df.show()"
   ]
  },
  {
   "cell_type": "code",
   "execution_count": 14,
   "id": "065c9480-3cef-4e1d-9683-a2325916bc64",
   "metadata": {},
   "outputs": [
    {
     "name": "stdout",
     "output_type": "stream",
     "text": [
      "+-------+---------+----------+----+\n",
      "|cust_id|cust_name|    mobile|city|\n",
      "+-------+---------+----------+----+\n",
      "|      1|CustomerA|1234567890|Pune|\n",
      "|      3|CustomerC|1122334455|Pune|\n",
      "+-------+---------+----------+----+\n",
      "\n"
     ]
    }
   ],
   "source": [
    "#1. Get details of all customers from pune city\n",
    "customers_df.filter(customers_df.city == \"Pune\").show()"
   ]
  },
  {
   "cell_type": "code",
   "execution_count": 17,
   "id": "8892c4dc-2677-46c0-80da-2a3bbad9cdf4",
   "metadata": {},
   "outputs": [
    {
     "name": "stdout",
     "output_type": "stream",
     "text": [
      "+--------+----------+-----------------+------+-------------------+---------------------+-------------------+-------------------+\n",
      "|order_id|order_date|order_customer_id|status|order_item_order_id|order_item_product_id|order_item_quantity|order_item_subtotal|\n",
      "+--------+----------+-----------------+------+-------------------+---------------------+-------------------+-------------------+\n",
      "+--------+----------+-----------------+------+-------------------+---------------------+-------------------+-------------------+\n",
      "\n"
     ]
    }
   ],
   "source": [
    "#Get details of orders with subtotal > ___ in month __\n",
    "\n",
    "from pyspark.sql.functions import month, year\n",
    "value = 200  # Example value\n",
    "month_number = 8  # Example for August\n",
    "orders_df.join(order_items_df, orders_df.order_id == order_items_df.order_item_order_id) \\\n",
    "    .filter((order_items_df.order_item_subtotal > value) & (month(orders_df.order_date) == month_number)).show()"
   ]
  },
  {
   "cell_type": "code",
   "execution_count": 18,
   "id": "ad16271e-f273-457e-b578-3f83c1dd3ae9",
   "metadata": {},
   "outputs": [
    {
     "name": "stdout",
     "output_type": "stream",
     "text": [
      "+-------------------+---------------------+-------------------+-------------------+\n",
      "|order_item_order_id|order_item_product_id|order_item_quantity|order_item_subtotal|\n",
      "+-------------------+---------------------+-------------------+-------------------+\n",
      "|                  2|                    2|                  1|              150.0|\n",
      "|                  1|                    1|                  2|              200.0|\n",
      "|                  3|                    3|                  3|              600.0|\n",
      "+-------------------+---------------------+-------------------+-------------------+\n",
      "\n"
     ]
    }
   ],
   "source": [
    "#3. Print orders in ascending order of subtotal \n",
    "order_items_df.orderBy(\"order_item_subtotal\").show()"
   ]
  },
  {
   "cell_type": "code",
   "execution_count": 19,
   "id": "bda656a8-ab1b-4f93-90c8-8ffefbd1aa4c",
   "metadata": {},
   "outputs": [
    {
     "name": "stdout",
     "output_type": "stream",
     "text": [
      "+-------+---------+----------+------+-----------------+---------+---------+\n",
      "|cust_id|cust_name|    mobile|  city|order_customer_id|min_order|max_order|\n",
      "+-------+---------+----------+------+-----------------+---------+---------+\n",
      "|      1|CustomerA|1234567890|  Pune|                1|    200.0|    200.0|\n",
      "|      2|CustomerB|0987654321|Mumbai|                2|    150.0|    150.0|\n",
      "|      3|CustomerC|1122334455|  Pune|                3|    600.0|    600.0|\n",
      "+-------+---------+----------+------+-----------------+---------+---------+\n",
      "\n"
     ]
    }
   ],
   "source": [
    "#4. Print customer details with min order and max order amount\n",
    "from pyspark.sql.functions import min, max\n",
    "order_totals = order_items_df.groupBy(\"order_item_order_id\").agg({\"order_item_subtotal\": \"sum\"})\n",
    "customer_orders = orders_df.join(order_totals, orders_df.order_id == order_totals.order_item_order_id) \\\n",
    "    .groupBy(\"order_customer_id\").agg(min(\"sum(order_item_subtotal)\").alias(\"min_order\"),\n",
    "                                      max(\"sum(order_item_subtotal)\").alias(\"max_order\"))\n",
    "\n",
    "customer_details = customers_df.join(customer_orders, customers_df.cust_id == customer_orders.order_customer_id)\n",
    "customer_details.show()"
   ]
  },
  {
   "cell_type": "code",
   "execution_count": 21,
   "id": "73e109b5-0da2-429e-b363-50d9a4b16925",
   "metadata": {},
   "outputs": [
    {
     "name": "stdout",
     "output_type": "stream",
     "text": [
      "+--------+----------+-----------------+--------+\n",
      "|order_id|order_date|order_customer_id|  status|\n",
      "+--------+----------+-----------------+--------+\n",
      "|       1|2013-08-01|                1|COMPLETE|\n",
      "|       2|2013-08-01|                2|  CLOSED|\n",
      "+--------+----------+-----------------+--------+\n",
      "\n"
     ]
    }
   ],
   "source": [
    "#5. Get orders which are either COMPLETE or CLOSED\n",
    "orders_df.filter((orders_df.status == \"COMPLETE\") | (orders_df.status == \"CLOSED\")).show()"
   ]
  },
  {
   "cell_type": "code",
   "execution_count": 23,
   "id": "a3ba47c1-99c2-4a95-9d0c-007771b60280",
   "metadata": {},
   "outputs": [
    {
     "name": "stdout",
     "output_type": "stream",
     "text": [
      "+--------+----------+-----------------+--------+\n",
      "|order_id|order_date|order_customer_id|  status|\n",
      "+--------+----------+-----------------+--------+\n",
      "|       1|2013-08-01|                1|COMPLETE|\n",
      "|       2|2013-08-01|                2|  CLOSED|\n",
      "+--------+----------+-----------------+--------+\n",
      "\n"
     ]
    }
   ],
   "source": [
    "#6. Get orders which are either COMPLETE or CLOSED and placed in month of 2013 August\n",
    "orders_df.filter((orders_df.status == \"COMPLETE\") | (orders_df.status == \"CLOSED\") & (month(orders_df.order_date) == 8) & (year(orders_df.order_date) == 2013)).show()"
   ]
  },
  {
   "cell_type": "code",
   "execution_count": 26,
   "id": "5c694349-2947-4d75-b48b-a0d653feec5b",
   "metadata": {},
   "outputs": [
    {
     "name": "stdout",
     "output_type": "stream",
     "text": [
      "+--------+----------+-----------------+--------+\n",
      "|order_id|order_date|order_customer_id|  status|\n",
      "+--------+----------+-----------------+--------+\n",
      "|       1|2013-08-01|                1|COMPLETE|\n",
      "|       2|2013-08-01|                2|  CLOSED|\n",
      "|       3|2013-09-01|                3| PENDING|\n",
      "+--------+----------+-----------------+--------+\n",
      "\n"
     ]
    }
   ],
   "source": [
    "#7. Get order items where order_item_subtotal is not equal to product of order_item_quantity and order_item_product_price\n",
    "#8. Get all the orders which are placed on the first of every month\n",
    "from pyspark.sql.functions import dayofmonth\n",
    "orders_df.filter(dayofmonth(orders_df.order_date) == 1).show()"
   ]
  },
  {
   "cell_type": "code",
   "execution_count": 28,
   "id": "51d786a3-af4f-4f63-950a-a90d4599ee1d",
   "metadata": {},
   "outputs": [
    {
     "name": "stdout",
     "output_type": "stream",
     "text": [
      "+--------+-----+\n",
      "|  status|count|\n",
      "+--------+-----+\n",
      "|COMPLETE|    1|\n",
      "|  CLOSED|    1|\n",
      "| PENDING|    1|\n",
      "+--------+-----+\n",
      "\n"
     ]
    }
   ],
   "source": [
    "#9. Get count by status from orders\n",
    "orders_df.groupBy(\"status\").count().show()"
   ]
  },
  {
   "cell_type": "code",
   "execution_count": 29,
   "id": "2ebdefe6-be29-4538-af9d-b47e0035912e",
   "metadata": {},
   "outputs": [
    {
     "name": "stdout",
     "output_type": "stream",
     "text": [
      "+-------------------+------------------------+\n",
      "|order_item_order_id|sum(order_item_subtotal)|\n",
      "+-------------------+------------------------+\n",
      "|                  1|                   200.0|\n",
      "|                  2|                   150.0|\n",
      "|                  3|                   600.0|\n",
      "+-------------------+------------------------+\n",
      "\n"
     ]
    }
   ],
   "source": [
    "#10. Get revenue for each order id from order items\n",
    "order_items_df.groupBy(\"order_item_order_id\").agg({\"order_item_subtotal\": \"sum\"}).show()"
   ]
  },
  {
   "cell_type": "code",
   "execution_count": 31,
   "id": "2fc1cb6d-efa1-4869-9756-e6774df36d29",
   "metadata": {},
   "outputs": [
    {
     "name": "stdout",
     "output_type": "stream",
     "text": [
      "+----------+---------------------+------------------------+\n",
      "|order_date|order_item_product_id|sum(order_item_subtotal)|\n",
      "+----------+---------------------+------------------------+\n",
      "|2013-08-01|                    2|                   150.0|\n",
      "|2013-08-01|                    1|                   200.0|\n",
      "|2013-09-01|                    3|                   600.0|\n",
      "+----------+---------------------+------------------------+\n",
      "\n"
     ]
    }
   ],
   "source": [
    "#11. Get daily product revenue (order_date and order_item_product_id are part of keys, order_item_subtotal is used for aggregation)\n",
    "orders_df.join(order_items_df, orders_df.order_id == order_items_df.order_item_order_id) \\\n",
    "    .groupBy(\"order_date\", \"order_item_product_id\").agg({\"order_item_subtotal\": \"sum\"}).show()"
   ]
  },
  {
   "cell_type": "code",
   "execution_count": null,
   "id": "c216b82c-a2da-451d-975c-f834e5a2b018",
   "metadata": {},
   "outputs": [],
   "source": []
  }
 ],
 "metadata": {
  "kernelspec": {
   "display_name": "Python 3 (ipykernel)",
   "language": "python",
   "name": "python3"
  },
  "language_info": {
   "codemirror_mode": {
    "name": "ipython",
    "version": 3
   },
   "file_extension": ".py",
   "mimetype": "text/x-python",
   "name": "python",
   "nbconvert_exporter": "python",
   "pygments_lexer": "ipython3",
   "version": "3.11.7"
  }
 },
 "nbformat": 4,
 "nbformat_minor": 5
}
