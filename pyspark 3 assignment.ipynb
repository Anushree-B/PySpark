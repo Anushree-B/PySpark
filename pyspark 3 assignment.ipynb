{
 "cells": [
  {
   "cell_type": "code",
   "execution_count": 3,
   "id": "46d4a994-9b51-473f-b816-6ff4c5a7f6f1",
   "metadata": {},
   "outputs": [],
   "source": [
    "import findspark"
   ]
  },
  {
   "cell_type": "code",
   "execution_count": 4,
   "id": "6580f459-c7af-4dd2-8c4c-b8cbd136fe2d",
   "metadata": {},
   "outputs": [],
   "source": [
    "findspark.init() #or put path of spark in the brackets"
   ]
  },
  {
   "cell_type": "code",
   "execution_count": 5,
   "id": "eefc78ec-f5f2-4f73-8796-69ed0377ccbf",
   "metadata": {},
   "outputs": [],
   "source": [
    "import pyspark"
   ]
  },
  {
   "cell_type": "code",
   "execution_count": 6,
   "id": "1fdff1a6",
   "metadata": {},
   "outputs": [],
   "source": [
    "from pyspark.sql import SparkSession\n",
    "\n",
    "# Initialize Spark session\n",
    "spark = SparkSession.builder.appName(\"TelecomDataProcessing\").getOrCreate()\n",
    "\n",
    "# Load the dataset (assuming a CSV file)\n",
    "df = spark.read.csv(r\"D:\\Data Science\\Pyspark\\WA_Fn-UseC_-Telco-Customer-Churn.csv\", header=True, inferSchema=True)\n"
   ]
  },
  {
   "cell_type": "code",
   "execution_count": 7,
   "id": "b52ab24c",
   "metadata": {},
   "outputs": [
    {
     "data": {
      "text/plain": [
       "['customerID',\n",
       " 'gender',\n",
       " 'SeniorCitizen',\n",
       " 'Partner',\n",
       " 'Dependents',\n",
       " 'tenure',\n",
       " 'PhoneService',\n",
       " 'MultipleLines',\n",
       " 'InternetService',\n",
       " 'OnlineSecurity',\n",
       " 'OnlineBackup',\n",
       " 'DeviceProtection',\n",
       " 'TechSupport',\n",
       " 'StreamingTV',\n",
       " 'StreamingMovies',\n",
       " 'Contract',\n",
       " 'PaperlessBilling',\n",
       " 'PaymentMethod',\n",
       " 'MonthlyCharges',\n",
       " 'TotalCharges',\n",
       " 'Churn']"
      ]
     },
     "execution_count": 7,
     "metadata": {},
     "output_type": "execute_result"
    }
   ],
   "source": [
    "df.columns"
   ]
  },
  {
   "cell_type": "code",
   "execution_count": 8,
   "id": "3e0d0b00",
   "metadata": {},
   "outputs": [
    {
     "name": "stdout",
     "output_type": "stream",
     "text": [
      "+------+-------------+-------+----------+------+------------+----------------+---------------+--------------+------------+----------------+-----------+-----------+---------------+--------------+----------------+--------------------+--------------+------------+-----+\n",
      "|gender|SeniorCitizen|Partner|Dependents|tenure|PhoneService|   MultipleLines|InternetService|OnlineSecurity|OnlineBackup|DeviceProtection|TechSupport|StreamingTV|StreamingMovies|      Contract|PaperlessBilling|       PaymentMethod|MonthlyCharges|TotalCharges|Churn|\n",
      "+------+-------------+-------+----------+------+------------+----------------+---------------+--------------+------------+----------------+-----------+-----------+---------------+--------------+----------------+--------------------+--------------+------------+-----+\n",
      "|Female|            0|    Yes|        No|     1|          No|No phone service|            DSL|            No|         Yes|              No|         No|         No|             No|Month-to-month|             Yes|    Electronic check|         29.85|       29.85|   No|\n",
      "|  Male|            0|     No|        No|    34|         Yes|              No|            DSL|           Yes|          No|             Yes|         No|         No|             No|      One year|              No|        Mailed check|         56.95|      1889.5|   No|\n",
      "|  Male|            0|     No|        No|     2|         Yes|              No|            DSL|           Yes|         Yes|              No|         No|         No|             No|Month-to-month|             Yes|        Mailed check|         53.85|      108.15|  Yes|\n",
      "|  Male|            0|     No|        No|    45|          No|No phone service|            DSL|           Yes|          No|             Yes|        Yes|         No|             No|      One year|              No|Bank transfer (au...|          42.3|     1840.75|   No|\n",
      "|Female|            0|     No|        No|     2|         Yes|              No|    Fiber optic|            No|          No|              No|         No|         No|             No|Month-to-month|             Yes|    Electronic check|          70.7|      151.65|  Yes|\n",
      "+------+-------------+-------+----------+------+------------+----------------+---------------+--------------+------------+----------------+-----------+-----------+---------------+--------------+----------------+--------------------+--------------+------------+-----+\n",
      "only showing top 5 rows\n",
      "\n"
     ]
    }
   ],
   "source": [
    "\n",
    "# Select relevant columns\n",
    "df_selected = df.select(\"gender\", \n",
    "    \"SeniorCitizen\", \n",
    "    \"Partner\", \n",
    "    \"Dependents\", \n",
    "    \"tenure\", \n",
    "    \"PhoneService\", \n",
    "    \"MultipleLines\", \n",
    "    \"InternetService\", \n",
    "    \"OnlineSecurity\", \n",
    "    \"OnlineBackup\", \n",
    "    \"DeviceProtection\", \n",
    "    \"TechSupport\", \n",
    "    \"StreamingTV\", \n",
    "    \"StreamingMovies\", \n",
    "    \"Contract\", \n",
    "    \"PaperlessBilling\", \n",
    "    \"PaymentMethod\", \n",
    "    \"MonthlyCharges\", \n",
    "    \"TotalCharges\", \n",
    "    \"Churn\")\n",
    "\n",
    "# Show the selected columns\n",
    "df_selected.show(5)\n"
   ]
  },
  {
   "cell_type": "code",
   "execution_count": 9,
   "id": "9ae908a0",
   "metadata": {},
   "outputs": [
    {
     "name": "stdout",
     "output_type": "stream",
     "text": [
      "+----------+------+-------------+-------+----------+------+------------+-------------+---------------+--------------+------------+----------------+-----------+-----------+---------------+--------------+----------------+--------------------+--------------+------------+-----+\n",
      "|customerID|gender|SeniorCitizen|Partner|Dependents|tenure|PhoneService|MultipleLines|InternetService|OnlineSecurity|OnlineBackup|DeviceProtection|TechSupport|StreamingTV|StreamingMovies|      Contract|PaperlessBilling|       PaymentMethod|MonthlyCharges|TotalCharges|Churn|\n",
      "+----------+------+-------------+-------+----------+------+------------+-------------+---------------+--------------+------------+----------------+-----------+-----------+---------------+--------------+----------------+--------------------+--------------+------------+-----+\n",
      "|3668-QPYBK|  Male|            0|     No|        No|     2|         Yes|           No|            DSL|           Yes|         Yes|              No|         No|         No|             No|Month-to-month|             Yes|        Mailed check|         53.85|      108.15|  Yes|\n",
      "|9237-HQITU|Female|            0|     No|        No|     2|         Yes|           No|    Fiber optic|            No|          No|              No|         No|         No|             No|Month-to-month|             Yes|    Electronic check|          70.7|      151.65|  Yes|\n",
      "|9305-CDSKC|Female|            0|     No|        No|     8|         Yes|          Yes|    Fiber optic|            No|          No|             Yes|         No|        Yes|            Yes|Month-to-month|             Yes|    Electronic check|         99.65|       820.5|  Yes|\n",
      "|7892-POOKP|Female|            0|    Yes|        No|    28|         Yes|          Yes|    Fiber optic|            No|          No|             Yes|        Yes|        Yes|            Yes|Month-to-month|             Yes|    Electronic check|         104.8|     3046.05|  Yes|\n",
      "|0280-XJGEX|  Male|            0|     No|        No|    49|         Yes|          Yes|    Fiber optic|            No|         Yes|             Yes|         No|        Yes|            Yes|Month-to-month|             Yes|Bank transfer (au...|         103.7|      5036.3|  Yes|\n",
      "+----------+------+-------------+-------+----------+------+------------+-------------+---------------+--------------+------------+----------------+-----------+-----------+---------------+--------------+----------------+--------------------+--------------+------------+-----+\n",
      "only showing top 5 rows\n",
      "\n"
     ]
    }
   ],
   "source": [
    "# Filter data where Churn is 'True'\n",
    "df_selected = df.filter(df[\"Churn\"] == \"Yes\")\n",
    "\n",
    "# Show the filtered data\n",
    "df_selected.show(5)\n"
   ]
  },
  {
   "cell_type": "code",
   "execution_count": 10,
   "id": "9065bb8e",
   "metadata": {},
   "outputs": [
    {
     "data": {
      "text/plain": [
       "DataFrame[customerID: string, gender: string, SeniorCitizen: int, Partner: string, Dependents: string, tenure: int, PhoneService: string, MultipleLines: string, InternetService: string, OnlineSecurity: string, OnlineBackup: string, DeviceProtection: string, TechSupport: string, StreamingTV: string, StreamingMovies: string, Contract: string, PaperlessBilling: string, PaymentMethod: string, MonthlyCharges: double, TotalCharges: string, Churn: string]"
      ]
     },
     "execution_count": 10,
     "metadata": {},
     "output_type": "execute_result"
    }
   ],
   "source": [
    "df.dropna()"
   ]
  },
  {
   "cell_type": "code",
   "execution_count": 11,
   "id": "534c13a7",
   "metadata": {},
   "outputs": [
    {
     "name": "stdout",
     "output_type": "stream",
     "text": [
      "+-----+----------------+\n",
      "|Churn|AvgMonthlyCharge|\n",
      "+-----+----------------+\n",
      "|   No|61.2651236953999|\n",
      "|  Yes|74.4413322632423|\n",
      "+-----+----------------+\n",
      "\n"
     ]
    }
   ],
   "source": [
    "# Register the DataFrame as a SQL temporary view\n",
    "df.createOrReplaceTempView(\"telecom_data\")\n",
    "\n",
    "# Perform SQL queries\n",
    "#  query with backticks around the column name with spaces\n",
    "result = spark.sql(\"SELECT Churn, AVG(`MonthlyCharges`) as AvgMonthlyCharge FROM telecom_data GROUP BY Churn\")\n",
    "result.show()\n"
   ]
  },
  {
   "cell_type": "code",
   "execution_count": 12,
   "id": "bb51b2ac",
   "metadata": {},
   "outputs": [
    {
     "name": "stdout",
     "output_type": "stream",
     "text": [
      "+---------------------------------------------------------------+\n",
      "|scaledFeatures                                                 |\n",
      "+---------------------------------------------------------------+\n",
      "|[0.0,0.11542288557213931,0.001275098245151048]                 |\n",
      "|[0.4647887323943662,0.3850746268656717,0.2158666100576614]     |\n",
      "|[0.014084507042253521,0.35422885572139307,0.010310408988541875]|\n",
      "|[0.619718309859155,0.23930348258706463,0.21024117720577754]    |\n",
      "|[0.014084507042253521,0.5218905472636816,0.015330025114455744] |\n",
      "+---------------------------------------------------------------+\n",
      "only showing top 5 rows\n",
      "\n"
     ]
    }
   ],
   "source": [
    "from pyspark.ml.feature import MinMaxScaler, VectorAssembler\n",
    "from pyspark.sql.functions import col\n",
    "\n",
    "# Convert 'TotalCharges' to a numeric type\n",
    "df = df.withColumn(\"TotalCharges\", col(\"TotalCharges\").cast(\"float\"))\n",
    "\n",
    "# Drop rows with null values in 'MonthlyCharges' or 'TotalCharges'\n",
    "df = df.dropna(subset=[\"MonthlyCharges\", \"TotalCharges\"])\n",
    "\n",
    "# Apply VectorAssembler to create a feature vector including 'tenure'\n",
    "assembler = VectorAssembler(inputCols=[\"tenure\", \"MonthlyCharges\", \"TotalCharges\"], outputCol=\"features\")\n",
    "df_vector = assembler.transform(df)\n",
    "\n",
    "# Apply MinMaxScaler for normalization\n",
    "scaler = MinMaxScaler(inputCol=\"features\", outputCol=\"scaledFeatures\")\n",
    "scaler_model = scaler.fit(df_vector)\n",
    "df_normalized = scaler_model.transform(df_vector)\n",
    "\n",
    "# Show the normalized features\n",
    "df_normalized.select(\"scaledFeatures\").show(5, truncate=False)\n",
    "\n"
   ]
  },
  {
   "cell_type": "code",
   "execution_count": 13,
   "id": "d5f915a5",
   "metadata": {},
   "outputs": [
    {
     "name": "stdout",
     "output_type": "stream",
     "text": [
      "+--------------------+\n",
      "|      scaledFeatures|\n",
      "+--------------------+\n",
      "|[-1.2801570035428...|\n",
      "|[0.06429811287810...|\n",
      "|[-1.2394159394088...|\n",
      "|[0.51244981835175...|\n",
      "|[-1.2394159394088...|\n",
      "+--------------------+\n",
      "only showing top 5 rows\n",
      "\n"
     ]
    }
   ],
   "source": [
    "from pyspark.ml.feature import StandardScaler\n",
    "\n",
    "# Apply StandardScaler for standardization\n",
    "scaler = StandardScaler(inputCol=\"features\", outputCol=\"scaledFeatures\", withMean=True, withStd=True)\n",
    "scaler_model = scaler.fit(df_vector)\n",
    "df_standardized = scaler_model.transform(df_vector)\n",
    "\n",
    "# Show the standardized features\n",
    "df_standardized.select(\"scaledFeatures\").show(5)\n"
   ]
  },
  {
   "cell_type": "code",
   "execution_count": 14,
   "id": "a41d902a",
   "metadata": {},
   "outputs": [
    {
     "name": "stdout",
     "output_type": "stream",
     "text": [
      "+-----+----------+\n",
      "|Churn|ChurnIndex|\n",
      "+-----+----------+\n",
      "|   No|       0.0|\n",
      "|   No|       0.0|\n",
      "|  Yes|       1.0|\n",
      "|   No|       0.0|\n",
      "|  Yes|       1.0|\n",
      "+-----+----------+\n",
      "only showing top 5 rows\n",
      "\n"
     ]
    }
   ],
   "source": [
    "from pyspark.sql.functions import col\n",
    "# Now apply StringIndexer\n",
    "from pyspark.ml.feature import StringIndexer\n",
    "\n",
    "# Index the categorical column\n",
    "indexer = StringIndexer(inputCol=\"Churn\", outputCol=\"ChurnIndex\")\n",
    "df_indexed = indexer.fit(df).transform(df)\n",
    "\n",
    "# Show the indexed data\n",
    "df_indexed.select(\"Churn\", \"ChurnIndex\").show(5)\n"
   ]
  },
  {
   "cell_type": "code",
   "execution_count": 15,
   "id": "276051ec",
   "metadata": {},
   "outputs": [
    {
     "name": "stdout",
     "output_type": "stream",
     "text": [
      "+-----+----------+-------------+\n",
      "|Churn|ChurnIndex|     ChurnVec|\n",
      "+-----+----------+-------------+\n",
      "|   No|       0.0|(1,[0],[1.0])|\n",
      "|   No|       0.0|(1,[0],[1.0])|\n",
      "|  Yes|       1.0|    (1,[],[])|\n",
      "|   No|       0.0|(1,[0],[1.0])|\n",
      "|  Yes|       1.0|    (1,[],[])|\n",
      "+-----+----------+-------------+\n",
      "only showing top 5 rows\n",
      "\n"
     ]
    }
   ],
   "source": [
    "from pyspark.ml.feature import OneHotEncoder\n",
    "\n",
    "# Apply OneHotEncoder to the indexed column\n",
    "encoder = OneHotEncoder(inputCol=\"ChurnIndex\", outputCol=\"ChurnVec\")\n",
    "df_encoded = encoder.fit(df_indexed).transform(df_indexed)\n",
    "\n",
    "# Show the encoded data\n",
    "df_encoded.select(\"Churn\", \"ChurnIndex\", \"ChurnVec\").show(5)\n"
   ]
  },
  {
   "cell_type": "code",
   "execution_count": 16,
   "id": "f0ac6320",
   "metadata": {},
   "outputs": [],
   "source": [
    "categorical_cols = [\"gender\", \"Partner\", \"Dependents\", \"PhoneService\", \"MultipleLines\", \"InternetService\", \n",
    "                    \"OnlineSecurity\", \"OnlineBackup\", \"DeviceProtection\", \"TechSupport\", \n",
    "                    \"StreamingTV\", \"StreamingMovies\", \"Contract\", \"PaperlessBilling\", \"PaymentMethod\"]"
   ]
  },
  {
   "cell_type": "code",
   "execution_count": 17,
   "id": "05fc0033",
   "metadata": {},
   "outputs": [],
   "source": [
    "indexers = [StringIndexer(inputCol=col, outputCol=col + \"_Index\") for col in categorical_cols]"
   ]
  },
  {
   "cell_type": "code",
   "execution_count": 18,
   "id": "6f7997c1",
   "metadata": {},
   "outputs": [],
   "source": [
    "for indexer in indexers:\n",
    "    df_selected = indexer.fit(df_selected).transform(df_selected)"
   ]
  },
  {
   "cell_type": "code",
   "execution_count": 19,
   "id": "5c7c4c09",
   "metadata": {},
   "outputs": [],
   "source": [
    "encoder = OneHotEncoder(inputCols=[col + \"_Index\" for col in categorical_cols],\n",
    "                        outputCols=[col + \"_Vec\" for col in categorical_cols])"
   ]
  },
  {
   "cell_type": "code",
   "execution_count": 20,
   "id": "d2ecc9da",
   "metadata": {},
   "outputs": [],
   "source": [
    "df_selected = df_selected.withColumn(\"TotalCharges\", col(\"TotalCharges\").cast(\"float\"))\n",
    "\n",
    "df_encoded = encoder.fit(df_selected).transform(df_selected)"
   ]
  },
  {
   "cell_type": "code",
   "execution_count": 25,
   "id": "1c56257b-0866-430d-9a6c-4d0a8d0de2ff",
   "metadata": {},
   "outputs": [],
   "source": [
    "from pyspark.sql.types import IntegerType, DoubleType, FloatType\n",
    "\n",
    "numeric_types = [IntegerType, DoubleType, FloatType]\n",
    "\n",
    "# Filter numerical columns by checking the column types and excluding the categorical columns\n",
    "numerical_cols = [col for col, dtype in df.dtypes if dtype in ['int', 'double', 'float'] and col not in categorical_cols]"
   ]
  },
  {
   "cell_type": "code",
   "execution_count": 26,
   "id": "61455156",
   "metadata": {},
   "outputs": [],
   "source": [
    "assembler = VectorAssembler(inputCols=[col + \"_Vec\" for col in categorical_cols] + numerical_cols,\n",
    "                            outputCol=\"features\")\n",
    "\n",
    "df_vector = assembler.transform(df_encoded)\n"
   ]
  },
  {
   "cell_type": "markdown",
   "id": "1eb0ba26",
   "metadata": {},
   "source": [
    "# question 2"
   ]
  },
  {
   "cell_type": "markdown",
   "id": "8d8bc6ef",
   "metadata": {},
   "source": [
    "# Consider USA House Pricing  dataset and prepare a dataframe of it.Perform following operations on it.\n",
    "●\t Apply basic transformation functions on it to get insights on telecom data . \n",
    "\n",
    "●\tCreate a SQL table of it to perform basic SQL transformations on it.\n",
    "\n",
    "●\tPerform preprocessing transformations on relevant features \n",
    "5.\tNormalization\n",
    "6.\tStandardization\n",
    "7.\tEncoding\n",
    "8.\tFeature engineering\n",
    "\n"
   ]
  },
  {
   "cell_type": "code",
   "execution_count": 27,
   "id": "cd3ed27a",
   "metadata": {},
   "outputs": [
    {
     "name": "stdout",
     "output_type": "stream",
     "text": [
      "root\n",
      " |-- price: integer (nullable = true)\n",
      " |-- area: integer (nullable = true)\n",
      " |-- bedrooms: integer (nullable = true)\n",
      " |-- bathrooms: integer (nullable = true)\n",
      " |-- stories: integer (nullable = true)\n",
      " |-- mainroad: string (nullable = true)\n",
      " |-- guestroom: string (nullable = true)\n",
      " |-- basement: string (nullable = true)\n",
      " |-- hotwaterheating: string (nullable = true)\n",
      " |-- airconditioning: string (nullable = true)\n",
      " |-- parking: integer (nullable = true)\n",
      " |-- prefarea: string (nullable = true)\n",
      " |-- furnishingstatus: string (nullable = true)\n",
      "\n",
      "+--------+----+--------+---------+-------+--------+---------+--------+---------------+---------------+-------+--------+----------------+\n",
      "|   price|area|bedrooms|bathrooms|stories|mainroad|guestroom|basement|hotwaterheating|airconditioning|parking|prefarea|furnishingstatus|\n",
      "+--------+----+--------+---------+-------+--------+---------+--------+---------------+---------------+-------+--------+----------------+\n",
      "|13300000|7420|       4|        2|      3|     yes|       no|      no|             no|            yes|      2|     yes|       furnished|\n",
      "|12250000|8960|       4|        4|      4|     yes|       no|      no|             no|            yes|      3|      no|       furnished|\n",
      "|12250000|9960|       3|        2|      2|     yes|       no|     yes|             no|             no|      2|     yes|  semi-furnished|\n",
      "|12215000|7500|       4|        2|      2|     yes|       no|     yes|             no|            yes|      3|     yes|       furnished|\n",
      "|11410000|7420|       4|        1|      2|     yes|      yes|     yes|             no|            yes|      2|      no|       furnished|\n",
      "+--------+----+--------+---------+-------+--------+---------+--------+---------------+---------------+-------+--------+----------------+\n",
      "only showing top 5 rows\n",
      "\n"
     ]
    }
   ],
   "source": [
    "from pyspark.sql import SparkSession\n",
    "\n",
    "# Initialize Spark session\n",
    "spark = SparkSession.builder.appName(\"HousingDataProcessing\").getOrCreate()\n",
    "\n",
    "# Load the dataset\n",
    "df = spark.read.csv(r\"D:\\Data Science\\Pyspark\\Housing.csv\", header=True, inferSchema=True)\n",
    "\n",
    "# Inspect the dataset\n",
    "df.printSchema()\n",
    "df.show(5)\n"
   ]
  },
  {
   "cell_type": "code",
   "execution_count": 28,
   "id": "21d35dfd",
   "metadata": {},
   "outputs": [
    {
     "name": "stdout",
     "output_type": "stream",
     "text": [
      "root\n",
      " |-- price: integer (nullable = true)\n",
      " |-- area: integer (nullable = true)\n",
      " |-- bedrooms: integer (nullable = true)\n",
      " |-- bathrooms: integer (nullable = true)\n",
      " |-- stories: integer (nullable = true)\n",
      " |-- mainroad: string (nullable = true)\n",
      " |-- guestroom: string (nullable = true)\n",
      " |-- basement: string (nullable = true)\n",
      " |-- hotwaterheating: string (nullable = true)\n",
      " |-- airconditioning: string (nullable = true)\n",
      " |-- parking: integer (nullable = true)\n",
      " |-- prefarea: string (nullable = true)\n",
      " |-- furnishingstatus: string (nullable = true)\n",
      "\n"
     ]
    }
   ],
   "source": [
    "\n",
    "# Print the schema to see the available column names\n",
    "df.printSchema()\n",
    "\n",
    "\n"
   ]
  },
  {
   "cell_type": "code",
   "execution_count": 29,
   "id": "90be479c",
   "metadata": {},
   "outputs": [
    {
     "name": "stdout",
     "output_type": "stream",
     "text": [
      "+--------+--------+---------+----+-------+-------+--------+---------+\n",
      "|   price|bedrooms|bathrooms|area|stories|parking|mainroad|guestroom|\n",
      "+--------+--------+---------+----+-------+-------+--------+---------+\n",
      "|13300000|       4|        2|7420|      3|      2|     yes|       no|\n",
      "|12250000|       4|        4|8960|      4|      3|     yes|       no|\n",
      "|12250000|       3|        2|9960|      2|      2|     yes|       no|\n",
      "|12215000|       4|        2|7500|      2|      3|     yes|       no|\n",
      "|11410000|       4|        1|7420|      2|      2|     yes|      yes|\n",
      "+--------+--------+---------+----+-------+-------+--------+---------+\n",
      "only showing top 5 rows\n",
      "\n"
     ]
    }
   ],
   "source": [
    "# Select relevant columns based on the correct column names\n",
    "df_selected = df.select(\"price\", \"bedrooms\", \"bathrooms\", \"area\", \"stories\", \"parking\", \"mainroad\", \"guestroom\")\n",
    "\n",
    "# Show the selected columns\n",
    "df_selected.show(5)\n"
   ]
  },
  {
   "cell_type": "code",
   "execution_count": 30,
   "id": "7c573f54",
   "metadata": {},
   "outputs": [
    {
     "name": "stdout",
     "output_type": "stream",
     "text": [
      "+--------+----+--------+---------+-------+--------+---------+--------+---------------+---------------+-------+--------+----------------+\n",
      "|   price|area|bedrooms|bathrooms|stories|mainroad|guestroom|basement|hotwaterheating|airconditioning|parking|prefarea|furnishingstatus|\n",
      "+--------+----+--------+---------+-------+--------+---------+--------+---------------+---------------+-------+--------+----------------+\n",
      "|13300000|7420|       4|        2|      3|     yes|       no|      no|             no|            yes|      2|     yes|       furnished|\n",
      "|12250000|8960|       4|        4|      4|     yes|       no|      no|             no|            yes|      3|      no|       furnished|\n",
      "|12250000|9960|       3|        2|      2|     yes|       no|     yes|             no|             no|      2|     yes|  semi-furnished|\n",
      "|12215000|7500|       4|        2|      2|     yes|       no|     yes|             no|            yes|      3|     yes|       furnished|\n",
      "|11410000|7420|       4|        1|      2|     yes|      yes|     yes|             no|            yes|      2|      no|       furnished|\n",
      "+--------+----+--------+---------+-------+--------+---------+--------+---------------+---------------+-------+--------+----------------+\n",
      "only showing top 5 rows\n",
      "\n"
     ]
    }
   ],
   "source": [
    "# Filter houses priced above $500,000\n",
    "df_filtered = df.filter(df[\"Price\"] > 500000)\n",
    "\n",
    "# Show the filtered data\n",
    "df_filtered.show(5)\n"
   ]
  },
  {
   "cell_type": "code",
   "execution_count": 31,
   "id": "0a588257",
   "metadata": {},
   "outputs": [
    {
     "name": "stdout",
     "output_type": "stream",
     "text": [
      "+--------+------------------+\n",
      "|Bedrooms|          AvgPrice|\n",
      "+--------+------------------+\n",
      "|       1|         2712500.0|\n",
      "|       6|         4791500.0|\n",
      "|       3| 4954598.133333334|\n",
      "|       5|         5819800.0|\n",
      "|       4| 5729757.894736842|\n",
      "|       2|3632022.0588235296|\n",
      "+--------+------------------+\n",
      "\n"
     ]
    }
   ],
   "source": [
    "# Group by 'Bedrooms' and calculate the average price\n",
    "df_grouped = df.groupBy(\"Bedrooms\").agg({\"Price\": \"mean\"}).withColumnRenamed(\"avg(Price)\", \"AvgPrice\")\n",
    "\n",
    "# Show the grouped and aggregated results\n",
    "df_grouped.show()\n"
   ]
  },
  {
   "cell_type": "code",
   "execution_count": 32,
   "id": "11892452",
   "metadata": {},
   "outputs": [
    {
     "name": "stdout",
     "output_type": "stream",
     "text": [
      "+--------+------------------+\n",
      "|Bedrooms|          AvgPrice|\n",
      "+--------+------------------+\n",
      "|       1|         2712500.0|\n",
      "|       6|         4791500.0|\n",
      "|       3| 4954598.133333334|\n",
      "|       5|         5819800.0|\n",
      "|       4| 5729757.894736842|\n",
      "|       2|3632022.0588235296|\n",
      "+--------+------------------+\n",
      "\n"
     ]
    }
   ],
   "source": [
    "# Register the DataFrame as a SQL temporary view\n",
    "df.createOrReplaceTempView(\"housing_data\")\n",
    "\n",
    "# Perform SQL queries\n",
    "result = spark.sql(\"SELECT Bedrooms, AVG(Price) as AvgPrice FROM housing_data GROUP BY Bedrooms\")\n",
    "result.show()\n"
   ]
  },
  {
   "cell_type": "code",
   "execution_count": 33,
   "id": "f246e93c",
   "metadata": {},
   "outputs": [
    {
     "name": "stdout",
     "output_type": "stream",
     "text": [
      "+------------+--------------------+\n",
      "|    features|      scaledFeatures|\n",
      "+------------+--------------------+\n",
      "|[7420.0,2.0]|[0.39656357388316...|\n",
      "|[8960.0,3.0]|[0.50240549828178...|\n",
      "|[9960.0,2.0]|[0.57113402061855...|\n",
      "|[7500.0,3.0]|[0.40206185567010...|\n",
      "|[7420.0,2.0]|[0.39656357388316...|\n",
      "+------------+--------------------+\n",
      "only showing top 5 rows\n",
      "\n"
     ]
    }
   ],
   "source": [
    "from pyspark.ml.feature import VectorAssembler, MinMaxScaler\n",
    "\n",
    "# Replace with the correct column names\n",
    "assembler = VectorAssembler(inputCols=[\"area\", \"parking\"], outputCol=\"features\")\n",
    "\n",
    "# Transform the data\n",
    "df_vector = assembler.transform(df)\n",
    "\n",
    "# Apply MinMaxScaler for normalization\n",
    "scaler = MinMaxScaler(inputCol=\"features\", outputCol=\"scaledFeatures\")\n",
    "df_scaled = scaler.fit(df_vector).transform(df_vector)\n",
    "\n",
    "# Show the resulting DataFrame\n",
    "df_scaled.select(\"features\", \"scaledFeatures\").show(5)\n",
    "\n"
   ]
  },
  {
   "cell_type": "code",
   "execution_count": 34,
   "id": "49fcae05",
   "metadata": {},
   "outputs": [
    {
     "name": "stdout",
     "output_type": "stream",
     "text": [
      "+--------------------+\n",
      "|      scaledFeatures|\n",
      "+--------------------+\n",
      "|[1.04576554797932...|\n",
      "|[1.75539685028965...|\n",
      "|[2.21619639724442...|\n",
      "|[1.08262951173570...|\n",
      "|[1.04576554797932...|\n",
      "+--------------------+\n",
      "only showing top 5 rows\n",
      "\n"
     ]
    }
   ],
   "source": [
    "from pyspark.ml.feature import StandardScaler\n",
    "\n",
    "# Apply StandardScaler for standardization\n",
    "scaler = StandardScaler(inputCol=\"features\", outputCol=\"scaledFeatures\", withMean=True, withStd=True)\n",
    "scaler_model = scaler.fit(df_vector)\n",
    "df_standardized = scaler_model.transform(df_vector)\n",
    "\n",
    "# Show the standardized features\n",
    "df_standardized.select(\"scaledFeatures\").show(5)\n"
   ]
  },
  {
   "cell_type": "code",
   "execution_count": 35,
   "id": "bf38eb2d",
   "metadata": {
    "scrolled": true
   },
   "outputs": [
    {
     "name": "stdout",
     "output_type": "stream",
     "text": [
      "+--------+----+--------+---------+-------+--------+---------+--------+---------------+---------------+-------+--------+----------------+----------------+-----------------+\n",
      "|   price|area|bedrooms|bathrooms|stories|mainroad|guestroom|basement|hotwaterheating|airconditioning|parking|prefarea|furnishingstatus|mainroad_indexed|guestroom_indexed|\n",
      "+--------+----+--------+---------+-------+--------+---------+--------+---------------+---------------+-------+--------+----------------+----------------+-----------------+\n",
      "|13300000|7420|       4|        2|      3|     yes|       no|      no|             no|            yes|      2|     yes|       furnished|             0.0|              0.0|\n",
      "|12250000|8960|       4|        4|      4|     yes|       no|      no|             no|            yes|      3|      no|       furnished|             0.0|              0.0|\n",
      "|12250000|9960|       3|        2|      2|     yes|       no|     yes|             no|             no|      2|     yes|  semi-furnished|             0.0|              0.0|\n",
      "|12215000|7500|       4|        2|      2|     yes|       no|     yes|             no|            yes|      3|     yes|       furnished|             0.0|              0.0|\n",
      "|11410000|7420|       4|        1|      2|     yes|      yes|     yes|             no|            yes|      2|      no|       furnished|             0.0|              1.0|\n",
      "+--------+----+--------+---------+-------+--------+---------+--------+---------------+---------------+-------+--------+----------------+----------------+-----------------+\n",
      "only showing top 5 rows\n",
      "\n"
     ]
    }
   ],
   "source": [
    "from pyspark.ml.feature import StringIndexer\n",
    "\n",
    "# Apply StringIndexer for encoding categorical columns\n",
    "indexer = StringIndexer(inputCols=[\"mainroad\", \"guestroom\"], outputCols=[\"mainroad_indexed\", \"guestroom_indexed\"])\n",
    "indexed_df = indexer.fit(df).transform(df)\n",
    "\n",
    "indexed_df.show(5)\n"
   ]
  },
  {
   "cell_type": "code",
   "execution_count": 36,
   "id": "374c0d5e",
   "metadata": {},
   "outputs": [
    {
     "name": "stdout",
     "output_type": "stream",
     "text": [
      "+----+----------+\n",
      "|area|large_area|\n",
      "+----+----------+\n",
      "|7420|         1|\n",
      "|8960|         1|\n",
      "|9960|         1|\n",
      "|7500|         1|\n",
      "|7420|         1|\n",
      "+----+----------+\n",
      "only showing top 5 rows\n",
      "\n"
     ]
    }
   ],
   "source": [
    "from pyspark.sql.functions import when\n",
    "\n",
    "# Example: Create a new feature based on the area\n",
    "df = df.withColumn(\"large_area\", when(df.area > 5000, 1).otherwise(0))\n",
    "\n",
    "df.select(\"area\", \"large_area\").show(5)\n"
   ]
  },
  {
   "cell_type": "code",
   "execution_count": null,
   "id": "3db0a550-5b50-4be5-bba9-72eb1b54b8d9",
   "metadata": {},
   "outputs": [],
   "source": []
  }
 ],
 "metadata": {
  "kernelspec": {
   "display_name": "Python 3 (ipykernel)",
   "language": "python",
   "name": "python3"
  },
  "language_info": {
   "codemirror_mode": {
    "name": "ipython",
    "version": 3
   },
   "file_extension": ".py",
   "mimetype": "text/x-python",
   "name": "python",
   "nbconvert_exporter": "python",
   "pygments_lexer": "ipython3",
   "version": "3.11.7"
  }
 },
 "nbformat": 4,
 "nbformat_minor": 5
}
