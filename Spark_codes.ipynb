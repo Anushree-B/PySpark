pip install findspark

import findspark
findspark.init()

import pyspark
sc = pyspark.SparkContext(appName = " " )
sc

from pyspark.sql import SparkSession
from pyspark.sql.functions import *

spark = SparkSession.builder.getOrCreate()

