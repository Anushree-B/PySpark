{
 "cells": [
  {
   "cell_type": "code",
   "execution_count": 1,
   "id": "abfa6518-6e93-4ad1-aaee-d1e1752504c9",
   "metadata": {},
   "outputs": [],
   "source": [
    "import findspark"
   ]
  },
  {
   "cell_type": "code",
   "execution_count": 2,
   "id": "80104f90-a506-4db0-afb2-5ec5fb2fe2ae",
   "metadata": {},
   "outputs": [],
   "source": [
    "findspark.init()"
   ]
  },
  {
   "cell_type": "code",
   "execution_count": 3,
   "id": "6697c1f9-8732-45ee-a859-0fad38d2e0fb",
   "metadata": {},
   "outputs": [],
   "source": [
    "import pyspark"
   ]
  },
  {
   "cell_type": "code",
   "execution_count": 4,
   "id": "22b9a768-8210-4f17-a158-63e482bcd42f",
   "metadata": {},
   "outputs": [],
   "source": [
    "sc = pyspark.SparkContext(appName = \"A2\")"
   ]
  },
  {
   "cell_type": "code",
   "execution_count": 5,
   "id": "70948728-98ee-4b8e-91bd-a5ab50b603dd",
   "metadata": {},
   "outputs": [
    {
     "data": {
      "text/html": [
       "\n",
       "        <div>\n",
       "            <p><b>SparkContext</b></p>\n",
       "\n",
       "            <p><a href=\"http://LAPTOP-H3OG4VTR:4040\">Spark UI</a></p>\n",
       "\n",
       "            <dl>\n",
       "              <dt>Version</dt>\n",
       "                <dd><code>v3.5.1</code></dd>\n",
       "              <dt>Master</dt>\n",
       "                <dd><code>local[*]</code></dd>\n",
       "              <dt>AppName</dt>\n",
       "                <dd><code>A2</code></dd>\n",
       "            </dl>\n",
       "        </div>\n",
       "        "
      ],
      "text/plain": [
       "<SparkContext master=local[*] appName=A2>"
      ]
     },
     "execution_count": 5,
     "metadata": {},
     "output_type": "execute_result"
    }
   ],
   "source": [
    "sc"
   ]
  },
  {
   "cell_type": "code",
   "execution_count": 6,
   "id": "27a63b65-b7f1-4dba-9183-68e7cb9cca69",
   "metadata": {},
   "outputs": [],
   "source": [
    "from pyspark.sql import SparkSession\n",
    "from pyspark.sql.functions import *"
   ]
  },
  {
   "cell_type": "code",
   "execution_count": 7,
   "id": "d206ccf0-fca0-4ae7-bf53-3f7e21191ff5",
   "metadata": {},
   "outputs": [],
   "source": [
    "#creating spark session\n",
    "spark = SparkSession.builder.getOrCreate()"
   ]
  },
  {
   "cell_type": "code",
   "execution_count": 13,
   "id": "1326bbc7-a0fe-459d-870f-6cd04aa58de3",
   "metadata": {},
   "outputs": [],
   "source": [
    "df = spark.read.csv(\"D:/Data Science/Pyspark/ecommerce_data.csv\", header = \"True\")"
   ]
  },
  {
   "cell_type": "code",
   "execution_count": 14,
   "id": "2ea19dcf-62ce-4e03-862f-4d140ac74a99",
   "metadata": {},
   "outputs": [
    {
     "name": "stdout",
     "output_type": "stream",
     "text": [
      "+---------+---------+--------------------+--------+----------------+---------+----------+--------------+\n",
      "|InvoiceNo|StockCode|         Description|Quantity|     InvoiceDate|UnitPrice|CustomerID|       Country|\n",
      "+---------+---------+--------------------+--------+----------------+---------+----------+--------------+\n",
      "|   536365|   85123A|WHITE HANGING HEA...|       6|12-01-2010 08:26|     2.55|     17850|United Kingdom|\n",
      "|   536365|    71053| WHITE METAL LANTERN|       6|12-01-2010 08:26|     3.39|     17850|United Kingdom|\n",
      "|   536365|   84406B|CREAM CUPID HEART...|       8|12-01-2010 08:26|     2.75|     17850|United Kingdom|\n",
      "|   536365|   84029G|KNITTED UNION FLA...|       6|12-01-2010 08:26|     3.39|     17850|United Kingdom|\n",
      "|   536365|   84029E|RED WOOLLY HOTTIE...|       6|12-01-2010 08:26|     3.39|     17850|United Kingdom|\n",
      "|   536365|    22752|SET 7 BABUSHKA NE...|       2|12-01-2010 08:26|     7.65|     17850|United Kingdom|\n",
      "|   536365|    21730|GLASS STAR FROSTE...|       6|12-01-2010 08:26|     4.25|     17850|United Kingdom|\n",
      "|   536366|    22633|HAND WARMER UNION...|       6|12-01-2010 08:28|     1.85|     17850|United Kingdom|\n",
      "|   536366|    22632|HAND WARMER RED P...|       6|12-01-2010 08:28|     1.85|     17850|United Kingdom|\n",
      "|   536367|    84879|ASSORTED COLOUR B...|      32|12-01-2010 08:34|     1.69|     13047|United Kingdom|\n",
      "|   536367|    22745|POPPY'S PLAYHOUSE...|       6|12-01-2010 08:34|      2.1|     13047|United Kingdom|\n",
      "|   536367|    22748|POPPY'S PLAYHOUSE...|       6|12-01-2010 08:34|      2.1|     13047|United Kingdom|\n",
      "|   536367|    22749|FELTCRAFT PRINCES...|       8|12-01-2010 08:34|     3.75|     13047|United Kingdom|\n",
      "|   536367|    22310|IVORY KNITTED MUG...|       6|12-01-2010 08:34|     1.65|     13047|United Kingdom|\n",
      "|   536367|    84969|BOX OF 6 ASSORTED...|       6|12-01-2010 08:34|     4.25|     13047|United Kingdom|\n",
      "|   536367|    22623|BOX OF VINTAGE JI...|       3|12-01-2010 08:34|     4.95|     13047|United Kingdom|\n",
      "|   536367|    22622|BOX OF VINTAGE AL...|       2|12-01-2010 08:34|     9.95|     13047|United Kingdom|\n",
      "|   536367|    21754|HOME BUILDING BLO...|       3|12-01-2010 08:34|     5.95|     13047|United Kingdom|\n",
      "|   536367|    21755|LOVE BUILDING BLO...|       3|12-01-2010 08:34|     5.95|     13047|United Kingdom|\n",
      "|   536367|    21777|RECIPE BOX WITH M...|       4|12-01-2010 08:34|     7.95|     13047|United Kingdom|\n",
      "+---------+---------+--------------------+--------+----------------+---------+----------+--------------+\n",
      "only showing top 20 rows\n",
      "\n"
     ]
    }
   ],
   "source": [
    "df.show()"
   ]
  },
  {
   "cell_type": "code",
   "execution_count": 16,
   "id": "6375105c-04c3-4d29-9ddc-4c3022de379f",
   "metadata": {},
   "outputs": [
    {
     "name": "stdout",
     "output_type": "stream",
     "text": [
      "+---------+---------+--------------------+--------+----------------+---------+----------+--------------+\n",
      "|InvoiceNo|StockCode|         Description|Quantity|     InvoiceDate|UnitPrice|CustomerID|       Country|\n",
      "+---------+---------+--------------------+--------+----------------+---------+----------+--------------+\n",
      "|   536365|    22752|SET 7 BABUSHKA NE...|       2|12-01-2010 08:26|     7.65|     17850|United Kingdom|\n",
      "|   536367|    22622|BOX OF VINTAGE AL...|       2|12-01-2010 08:34|     9.95|     13047|United Kingdom|\n",
      "|   536367|    21754|HOME BUILDING BLO...|       3|12-01-2010 08:34|     5.95|     13047|United Kingdom|\n",
      "|   536367|    21755|LOVE BUILDING BLO...|       3|12-01-2010 08:34|     5.95|     13047|United Kingdom|\n",
      "|   536367|    21777|RECIPE BOX WITH M...|       4|12-01-2010 08:34|     7.95|     13047|United Kingdom|\n",
      "|   536367|    48187| DOORMAT NEW ENGLAND|       4|12-01-2010 08:34|     7.95|     13047|United Kingdom|\n",
      "|   536369|    21756|BATH BUILDING BLO...|       3|12-01-2010 08:35|     5.95|     13047|United Kingdom|\n",
      "|   536370|     POST|             POSTAGE|       3|12-01-2010 08:45|       18|     12583|        France|\n",
      "|   536373|    82486|WOOD S/3 CABINET ...|       4|12-01-2010 09:02|     6.95|     17850|United Kingdom|\n",
      "|   536373|    22752|SET 7 BABUSHKA NE...|       2|12-01-2010 09:02|     7.65|     17850|United Kingdom|\n",
      "|   536374|    21258|VICTORIAN SEWING ...|      32|12-01-2010 09:09|    10.95|     15100|United Kingdom|\n",
      "|   536375|    82486|WOOD S/3 CABINET ...|       4|12-01-2010 09:32|     6.95|     17850|United Kingdom|\n",
      "|   536375|    22752|SET 7 BABUSHKA NE...|       2|12-01-2010 09:32|     7.65|     17850|United Kingdom|\n",
      "|   536381|  15056BL|EDWARDIAN PARASOL...|       2|12-01-2010 09:41|     5.95|     15311|United Kingdom|\n",
      "|   536381|   15056N|EDWARDIAN PARASOL...|       2|12-01-2010 09:41|     5.95|     15311|United Kingdom|\n",
      "|   536381|    21523|DOORMAT FANCY FON...|      10|12-01-2010 09:41|     6.75|     15311|United Kingdom|\n",
      "|  C536379|        D|            Discount|      -1|12-01-2010 09:41|     27.5|     14527|United Kingdom|\n",
      "|   536382|    22926|IVORY GIANT GARDE...|      12|12-01-2010 09:45|     5.95|     16098|United Kingdom|\n",
      "|   536382|    22839|3 TIER CAKE TIN G...|       2|12-01-2010 09:45|    14.95|     16098|United Kingdom|\n",
      "|   536382|    22838|3 TIER CAKE TIN R...|       2|12-01-2010 09:45|    14.95|     16098|United Kingdom|\n",
      "+---------+---------+--------------------+--------+----------------+---------+----------+--------------+\n",
      "only showing top 20 rows\n",
      "\n"
     ]
    }
   ],
   "source": [
    "# different filter options \n",
    "\n",
    "# filter by price\n",
    "df.filter(df['UnitPrice'] > 5.0).show()"
   ]
  },
  {
   "cell_type": "code",
   "execution_count": 17,
   "id": "4d640817-6f52-47c7-a2bd-d75e1e322987",
   "metadata": {},
   "outputs": [
    {
     "name": "stdout",
     "output_type": "stream",
     "text": [
      "+---------+---------+--------------------+--------+----------------+---------+----------+-------+\n",
      "|InvoiceNo|StockCode|         Description|Quantity|     InvoiceDate|UnitPrice|CustomerID|Country|\n",
      "+---------+---------+--------------------+--------+----------------+---------+----------+-------+\n",
      "|   536370|    22728|ALARM CLOCK BAKEL...|      24|12-01-2010 08:45|     3.75|     12583| France|\n",
      "|   536370|    22727|ALARM CLOCK BAKEL...|      24|12-01-2010 08:45|     3.75|     12583| France|\n",
      "|   536370|    22726|ALARM CLOCK BAKEL...|      12|12-01-2010 08:45|     3.75|     12583| France|\n",
      "|   536370|    21724|PANDA AND BUNNIES...|      12|12-01-2010 08:45|     0.85|     12583| France|\n",
      "|   536370|    21883|    STARS GIFT TAPE |      24|12-01-2010 08:45|     0.65|     12583| France|\n",
      "|   536370|    10002|INFLATABLE POLITI...|      48|12-01-2010 08:45|     0.85|     12583| France|\n",
      "|   536370|    21791|VINTAGE HEADS AND...|      24|12-01-2010 08:45|     1.25|     12583| France|\n",
      "|   536370|    21035|SET/2 RED RETROSP...|      18|12-01-2010 08:45|     2.95|     12583| France|\n",
      "|   536370|    22326|ROUND SNACK BOXES...|      24|12-01-2010 08:45|     2.95|     12583| France|\n",
      "|   536370|    22629| SPACEBOY LUNCH BOX |      24|12-01-2010 08:45|     1.95|     12583| France|\n",
      "|   536370|    22659|LUNCH BOX I LOVE ...|      24|12-01-2010 08:45|     1.95|     12583| France|\n",
      "|   536370|    22631|CIRCUS PARADE LUN...|      24|12-01-2010 08:45|     1.95|     12583| France|\n",
      "|   536370|    22661|CHARLOTTE BAG DOL...|      20|12-01-2010 08:45|     0.85|     12583| France|\n",
      "|   536370|    21731|RED TOADSTOOL LED...|      24|12-01-2010 08:45|     1.65|     12583| France|\n",
      "|   536370|    22900| SET 2 TEA TOWELS...|      24|12-01-2010 08:45|     2.95|     12583| France|\n",
      "|   536370|    21913|VINTAGE SEASIDE J...|      12|12-01-2010 08:45|     3.75|     12583| France|\n",
      "|   536370|    22540|MINI JIGSAW CIRCU...|      24|12-01-2010 08:45|     0.42|     12583| France|\n",
      "|   536370|    22544|MINI JIGSAW SPACEBOY|      24|12-01-2010 08:45|     0.42|     12583| France|\n",
      "|   536370|    22492|MINI PAINT SET VI...|      36|12-01-2010 08:45|     0.65|     12583| France|\n",
      "|   536370|     POST|             POSTAGE|       3|12-01-2010 08:45|       18|     12583| France|\n",
      "+---------+---------+--------------------+--------+----------------+---------+----------+-------+\n",
      "only showing top 20 rows\n",
      "\n"
     ]
    }
   ],
   "source": [
    "# filter by country\n",
    "\n",
    "df.filter(df['Country'] == 'France').show()"
   ]
  },
  {
   "cell_type": "code",
   "execution_count": 18,
   "id": "f2d4e013-1942-4a9d-81fc-b35e55c9c47b",
   "metadata": {},
   "outputs": [
    {
     "name": "stdout",
     "output_type": "stream",
     "text": [
      "+---------+---------+--------------------+--------+-----------+---------+----------+--------------+\n",
      "|InvoiceNo|StockCode|         Description|Quantity|InvoiceDate|UnitPrice|CustomerID|       Country|\n",
      "+---------+---------+--------------------+--------+-----------+---------+----------+--------------+\n",
      "|   538365|    22469|HEART OF WICKER S...|       8| 2010-12-12|     1.65|     17243|United Kingdom|\n",
      "|   538365|   84030E|ENGLISH ROSE HOT ...|       1| 2010-12-12|     4.25|     17243|United Kingdom|\n",
      "|   538365|    22112|CHOCOLATE HOT WAT...|       3| 2010-12-12|     4.95|     17243|United Kingdom|\n",
      "|   538365|    22835|HOT WATER BOTTLE ...|       5| 2010-12-12|     4.65|     17243|United Kingdom|\n",
      "|   538365|   84029E|RED WOOLLY HOTTIE...|       4| 2010-12-12|     3.75|     17243|United Kingdom|\n",
      "|   538365|   84029G|KNITTED UNION FLA...|       9| 2010-12-12|     3.75|     17243|United Kingdom|\n",
      "|   538365|   84030E|ENGLISH ROSE HOT ...|       3| 2010-12-12|     4.25|     17243|United Kingdom|\n",
      "|   538365|    22111|SCOTTIE DOG HOT W...|       2| 2010-12-12|     4.95|     17243|United Kingdom|\n",
      "|   538365|   84997A|GREEN 3 PIECE POL...|       4| 2010-12-12|     3.75|     17243|United Kingdom|\n",
      "|   538365|   84997B|RED 3 PIECE RETRO...|       3| 2010-12-12|     3.75|     17243|United Kingdom|\n",
      "|   538365|   84997C|BLUE 3 PIECE POLK...|       9| 2010-12-12|     3.75|     17243|United Kingdom|\n",
      "|   538365|    22314|OFFICE MUG WARMER...|      12| 2010-12-12|     2.95|     17243|United Kingdom|\n",
      "|   538365|    22932|BAKING MOULD TOFF...|       8| 2010-12-12|     2.55|     17243|United Kingdom|\n",
      "|   538365|    22930|BAKING MOULD HEAR...|       8| 2010-12-12|     2.55|     17243|United Kingdom|\n",
      "|   538365|   17091A|LAVENDER INCENSE ...|       6| 2010-12-12|     1.25|     17243|United Kingdom|\n",
      "|   538365|   17091J|VANILLA INCENSE I...|       6| 2010-12-12|     1.25|     17243|United Kingdom|\n",
      "|   538365|    21755|LOVE BUILDING BLO...|       2| 2010-12-12|     5.95|     17243|United Kingdom|\n",
      "|   538365|    21755|LOVE BUILDING BLO...|       2| 2010-12-12|     5.95|     17243|United Kingdom|\n",
      "|   538365|    82483|WOOD 2 DRAWER CAB...|       6| 2010-12-12|     5.95|     17243|United Kingdom|\n",
      "|   538365|    21034|REX CASH+CARRY JU...|       1| 2010-12-12|     0.95|     17243|United Kingdom|\n",
      "+---------+---------+--------------------+--------+-----------+---------+----------+--------------+\n",
      "only showing top 20 rows\n",
      "\n"
     ]
    }
   ],
   "source": [
    "# filter by invoice date \n",
    "\n",
    "from pyspark.sql.functions import to_date\n",
    "\n",
    "df = df.withColumn(\"InvoiceDate\", to_date(df[\"InvoiceDate\"], \"dd-MM-yyyy HH:mm\"))\n",
    "df.filter(df['InvoiceDate'] > '2010-12-01').show()"
   ]
  },
  {
   "cell_type": "code",
   "execution_count": 19,
   "id": "bffe85cf-69fc-4b30-a63c-a2a6a01ac2aa",
   "metadata": {},
   "outputs": [
    {
     "name": "stdout",
     "output_type": "stream",
     "text": [
      "+---------+---------+--------------------+--------+-----------+---------+----------+--------------+\n",
      "|InvoiceNo|StockCode|         Description|Quantity|InvoiceDate|UnitPrice|CustomerID|       Country|\n",
      "+---------+---------+--------------------+--------+-----------+---------+----------+--------------+\n",
      "|   536367|    21754|HOME BUILDING BLO...|       3| 2010-01-12|     5.95|     13047|United Kingdom|\n",
      "|   536367|    22749|FELTCRAFT PRINCES...|       8| 2010-01-12|     3.75|     13047|United Kingdom|\n",
      "|   536368|    22913|RED COAT RACK PAR...|       3| 2010-01-12|     4.95|     13047|United Kingdom|\n",
      "|   536370|    21724|PANDA AND BUNNIES...|      12| 2010-01-12|     0.85|     12583|        France|\n",
      "|   536370|    22540|MINI JIGSAW CIRCU...|      24| 2010-01-12|     0.42|     12583|        France|\n",
      "|   536373|    21871| SAVE THE PLANET MUG|       6| 2010-01-12|     1.06|     17850|United Kingdom|\n",
      "|   536373|    37370|RETRO COFFEE MUGS...|       6| 2010-01-12|     1.06|     17850|United Kingdom|\n",
      "|   536373|   84029E|RED WOOLLY HOTTIE...|       6| 2010-01-12|     3.39|     17850|United Kingdom|\n",
      "|   536375|   85123A|WHITE HANGING HEA...|       6| 2010-01-12|     2.55|     17850|United Kingdom|\n",
      "|   536378|    21094|SET/6 RED SPOTTY ...|      12| 2010-01-12|     0.85|     14688|United Kingdom|\n",
      "|   536378|   84997B|RED 3 PIECE RETRO...|      12| 2010-01-12|     3.75|     14688|United Kingdom|\n",
      "|   536381|    21672|WHITE SPOT RED CE...|       6| 2010-01-12|     1.25|     15311|United Kingdom|\n",
      "|   536381|    22644|CERAMIC CHERRY CA...|       1| 2010-01-12|     1.45|     15311|United Kingdom|\n",
      "|   536384|    22469|HEART OF WICKER S...|      40| 2010-01-12|     1.45|     18074|United Kingdom|\n",
      "|   536384|    82484|WOOD BLACK BOARD ...|       3| 2010-01-12|     6.45|     18074|United Kingdom|\n",
      "|   536385|    22168|ORGANISER WOOD AN...|       2| 2010-01-12|      8.5|     17420|United Kingdom|\n",
      "|   536385|    22783|SET 3 WICKER OVAL...|       1| 2010-01-12|    19.95|     17420|United Kingdom|\n",
      "|   536389|    21791|VINTAGE HEADS AND...|      12| 2010-01-12|     1.25|     12431|     Australia|\n",
      "|   536389|    22191|IVORY DINER WALL ...|       2| 2010-01-12|      8.5|     12431|     Australia|\n",
      "|   536389|   35004G|SET OF 3 GOLD FLY...|       4| 2010-01-12|     6.35|     12431|     Australia|\n",
      "+---------+---------+--------------------+--------+-----------+---------+----------+--------------+\n",
      "only showing top 20 rows\n",
      "\n"
     ]
    }
   ],
   "source": [
    "# selecting unique records \n",
    "\n",
    "df.dropDuplicates([\"InvoiceNo\", \"StockCode\"]).show()"
   ]
  },
  {
   "cell_type": "code",
   "execution_count": 20,
   "id": "66510514-1372-42fb-b18f-7ac3e3e20a03",
   "metadata": {},
   "outputs": [],
   "source": [
    "# creating temperory table\n",
    "\n",
    "df.createOrReplaceTempView(\"sales\")"
   ]
  },
  {
   "cell_type": "code",
   "execution_count": 21,
   "id": "7ff01352-152e-4e86-b81d-cf30daace8c3",
   "metadata": {},
   "outputs": [
    {
     "name": "stdout",
     "output_type": "stream",
     "text": [
      "+---------+---------+--------------------+--------+-----------+---------+----------+--------------+\n",
      "|InvoiceNo|StockCode|         Description|Quantity|InvoiceDate|UnitPrice|CustomerID|       Country|\n",
      "+---------+---------+--------------------+--------+-----------+---------+----------+--------------+\n",
      "|   536365|    22752|SET 7 BABUSHKA NE...|       2| 2010-01-12|     7.65|     17850|United Kingdom|\n",
      "|   536367|    22622|BOX OF VINTAGE AL...|       2| 2010-01-12|     9.95|     13047|United Kingdom|\n",
      "|   536367|    21777|RECIPE BOX WITH M...|       4| 2010-01-12|     7.95|     13047|United Kingdom|\n",
      "|   536367|    48187| DOORMAT NEW ENGLAND|       4| 2010-01-12|     7.95|     13047|United Kingdom|\n",
      "|   536370|     POST|             POSTAGE|       3| 2010-01-12|       18|     12583|        France|\n",
      "|   536373|    82486|WOOD S/3 CABINET ...|       4| 2010-01-12|     6.95|     17850|United Kingdom|\n",
      "|   536373|    22752|SET 7 BABUSHKA NE...|       2| 2010-01-12|     7.65|     17850|United Kingdom|\n",
      "|   536374|    21258|VICTORIAN SEWING ...|      32| 2010-01-12|    10.95|     15100|United Kingdom|\n",
      "|   536375|    82486|WOOD S/3 CABINET ...|       4| 2010-01-12|     6.95|     17850|United Kingdom|\n",
      "|   536375|    22752|SET 7 BABUSHKA NE...|       2| 2010-01-12|     7.65|     17850|United Kingdom|\n",
      "|   536381|    21523|DOORMAT FANCY FON...|      10| 2010-01-12|     6.75|     15311|United Kingdom|\n",
      "|  C536379|        D|            Discount|      -1| 2010-01-12|     27.5|     14527|United Kingdom|\n",
      "|   536382|    22839|3 TIER CAKE TIN G...|       2| 2010-01-12|    14.95|     16098|United Kingdom|\n",
      "|   536382|    22838|3 TIER CAKE TIN R...|       2| 2010-01-12|    14.95|     16098|United Kingdom|\n",
      "|   536382|    22783|SET 3 WICKER OVAL...|       4| 2010-01-12|    16.95|     16098|United Kingdom|\n",
      "|   536384|    82484|WOOD BLACK BOARD ...|       3| 2010-01-12|     6.45|     18074|United Kingdom|\n",
      "|   536384|    21340|CLASSIC METAL BIR...|       2| 2010-01-12|    12.75|     18074|United Kingdom|\n",
      "|   536384|    22428|ENAMEL FIRE BUCKE...|       6| 2010-01-12|     6.95|     18074|United Kingdom|\n",
      "|   536384|    22424|ENAMEL BREAD BIN ...|       8| 2010-01-12|    10.95|     18074|United Kingdom|\n",
      "|   536385|    22783|SET 3 WICKER OVAL...|       1| 2010-01-12|    19.95|     17420|United Kingdom|\n",
      "+---------+---------+--------------------+--------+-----------+---------+----------+--------------+\n",
      "only showing top 20 rows\n",
      "\n"
     ]
    }
   ],
   "source": [
    "result = spark.sql(\"SELECT * FROM sales WHERE UnitPrice > 6.0\")\n",
    "result.show()"
   ]
  },
  {
   "cell_type": "code",
   "execution_count": 22,
   "id": "6db5d940-911b-466c-90fc-f9875a01eb52",
   "metadata": {},
   "outputs": [
    {
     "name": "stdout",
     "output_type": "stream",
     "text": [
      "+---------+--------------+---------+\n",
      "|InvoiceNo|       Country|UnitPrice|\n",
      "+---------+--------------+---------+\n",
      "|   536365|United Kingdom|     2.55|\n",
      "|   536365|United Kingdom|     3.39|\n",
      "|   536365|United Kingdom|     2.75|\n",
      "|   536365|United Kingdom|     3.39|\n",
      "|   536365|United Kingdom|     3.39|\n",
      "|   536365|United Kingdom|     7.65|\n",
      "|   536365|United Kingdom|     4.25|\n",
      "|   536366|United Kingdom|     1.85|\n",
      "|   536366|United Kingdom|     1.85|\n",
      "|   536367|United Kingdom|     1.69|\n",
      "|   536367|United Kingdom|      2.1|\n",
      "|   536367|United Kingdom|      2.1|\n",
      "|   536367|United Kingdom|     3.75|\n",
      "|   536367|United Kingdom|     1.65|\n",
      "|   536367|United Kingdom|     4.25|\n",
      "|   536367|United Kingdom|     4.95|\n",
      "|   536367|United Kingdom|     9.95|\n",
      "|   536367|United Kingdom|     5.95|\n",
      "|   536367|United Kingdom|     5.95|\n",
      "|   536367|United Kingdom|     7.95|\n",
      "+---------+--------------+---------+\n",
      "only showing top 20 rows\n",
      "\n"
     ]
    }
   ],
   "source": [
    "# basic select queries \n",
    "df.select(\"InvoiceNo\", \"Country\", \"UnitPrice\").show()"
   ]
  },
  {
   "cell_type": "code",
   "execution_count": 23,
   "id": "d31558a0-d9d9-4cd6-a4e7-01db28f3f69c",
   "metadata": {},
   "outputs": [
    {
     "name": "stdout",
     "output_type": "stream",
     "text": [
      "+---------------+-----+\n",
      "|        Country|count|\n",
      "+---------------+-----+\n",
      "|         Sweden|  462|\n",
      "|      Singapore|  229|\n",
      "|        Germany| 9495|\n",
      "|         France| 8557|\n",
      "|         Greece|  146|\n",
      "|        Belgium| 2069|\n",
      "|        Finland|  695|\n",
      "|          Italy|  803|\n",
      "|           EIRE| 8196|\n",
      "|      Lithuania|   35|\n",
      "|         Norway| 1086|\n",
      "|          Spain| 2533|\n",
      "|        Denmark|  389|\n",
      "|      Hong Kong|  288|\n",
      "|        Iceland|  182|\n",
      "|         Israel|  297|\n",
      "|Channel Islands|  758|\n",
      "|         Cyprus|  622|\n",
      "|    Switzerland| 2002|\n",
      "|        Lebanon|   45|\n",
      "+---------------+-----+\n",
      "only showing top 20 rows\n",
      "\n"
     ]
    }
   ],
   "source": [
    "# aggregate functions\n",
    "\n",
    "#count\n",
    "df.groupBy(\"Country\").count().show()"
   ]
  },
  {
   "cell_type": "code",
   "execution_count": 26,
   "id": "e9c8015e-dd65-4cfb-a5ae-7ca054e4fa85",
   "metadata": {},
   "outputs": [
    {
     "name": "stdout",
     "output_type": "stream",
     "text": [
      "+---------------+--------------+\n",
      "|        Country|Total Quantity|\n",
      "+---------------+--------------+\n",
      "|         Sweden|       35637.0|\n",
      "|      Singapore|        5234.0|\n",
      "|        Germany|      117448.0|\n",
      "|         France|      110480.0|\n",
      "|         Greece|        1556.0|\n",
      "|        Belgium|       23152.0|\n",
      "|        Finland|       10666.0|\n",
      "|          Italy|        7999.0|\n",
      "|           EIRE|      142637.0|\n",
      "|      Lithuania|         652.0|\n",
      "|         Norway|       19247.0|\n",
      "|          Spain|       26824.0|\n",
      "|        Denmark|        8188.0|\n",
      "|      Hong Kong|        4769.0|\n",
      "|        Iceland|        2458.0|\n",
      "|         Israel|        4353.0|\n",
      "|Channel Islands|        9479.0|\n",
      "|         Cyprus|        6317.0|\n",
      "|    Switzerland|       30325.0|\n",
      "|        Lebanon|         386.0|\n",
      "+---------------+--------------+\n",
      "only showing top 20 rows\n",
      "\n"
     ]
    }
   ],
   "source": [
    "#sum\n",
    "\n",
    "from pyspark.sql.functions import sum\n",
    "\n",
    "df.groupBy(\"Country\").agg(sum(\"Quantity\").alias(\"Total Quantity\")).show()"
   ]
  },
  {
   "cell_type": "code",
   "execution_count": 27,
   "id": "28ceaebb-d7e2-48a0-bb19-a8447db9857a",
   "metadata": {},
   "outputs": [
    {
     "name": "stdout",
     "output_type": "stream",
     "text": [
      "+---------------+------------------+\n",
      "|        Country|          AvgPrice|\n",
      "+---------------+------------------+\n",
      "|         Sweden| 3.910887445887446|\n",
      "|      Singapore|109.64580786026201|\n",
      "|        Germany|3.9669299631384702|\n",
      "|         France| 5.028864087881259|\n",
      "|         Greece| 4.885547945205479|\n",
      "|        Belgium|3.6443354277428748|\n",
      "|        Finland| 5.448705035971222|\n",
      "|          Italy| 4.831120797011209|\n",
      "|           EIRE| 5.911077354807246|\n",
      "|      Lithuania|2.8411428571428576|\n",
      "|         Norway| 6.012025782688769|\n",
      "|          Spain| 4.987544413738652|\n",
      "|        Denmark|3.2569408740359904|\n",
      "|      Hong Kong|42.505208333333336|\n",
      "|        Iceland|2.6440109890109893|\n",
      "|         Israel|3.6331313131313143|\n",
      "|Channel Islands| 4.932124010554089|\n",
      "|         Cyprus| 6.302363344051452|\n",
      "|    Switzerland| 3.403441558441562|\n",
      "|        Lebanon| 5.387555555555553|\n",
      "+---------------+------------------+\n",
      "only showing top 20 rows\n",
      "\n"
     ]
    }
   ],
   "source": [
    "#avg\n",
    "\n",
    "from pyspark.sql.functions import avg\n",
    "\n",
    "df.groupBy(\"Country\").agg(avg(\"UnitPrice\").alias(\"AvgPrice\")).show()"
   ]
  },
  {
   "cell_type": "code",
   "execution_count": null,
   "id": "e6569506-4b33-4e91-9b9b-ac30b11f91e4",
   "metadata": {},
   "outputs": [],
   "source": []
  }
 ],
 "metadata": {
  "kernelspec": {
   "display_name": "Python 3 (ipykernel)",
   "language": "python",
   "name": "python3"
  },
  "language_info": {
   "codemirror_mode": {
    "name": "ipython",
    "version": 3
   },
   "file_extension": ".py",
   "mimetype": "text/x-python",
   "name": "python",
   "nbconvert_exporter": "python",
   "pygments_lexer": "ipython3",
   "version": "3.11.7"
  }
 },
 "nbformat": 4,
 "nbformat_minor": 5
}
